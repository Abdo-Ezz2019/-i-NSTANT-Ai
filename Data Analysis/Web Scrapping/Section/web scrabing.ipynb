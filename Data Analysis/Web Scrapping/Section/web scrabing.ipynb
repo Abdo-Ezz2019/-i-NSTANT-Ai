{
 "cells": [
  {
   "cell_type": "code",
   "execution_count": 89,
   "id": "7b432b7b",
   "metadata": {},
   "outputs": [],
   "source": [
    "from bs4 import BeautifulSoup \n",
    "import requests\n"
   ]
  },
  {
   "cell_type": "code",
   "execution_count": 90,
   "id": "59e94dd7",
   "metadata": {},
   "outputs": [
    {
     "data": {
      "text/plain": [
       "<Response [200]>"
      ]
     },
     "execution_count": 90,
     "metadata": {},
     "output_type": "execute_result"
    }
   ],
   "source": [
    "url= \"https://wuzzuf.net/search/jobs/?q=ai%20engineerer&a=hpb\"\n",
    "response = requests.get(url)\n",
    "response"
   ]
  },
  {
   "cell_type": "code",
   "execution_count": 91,
   "id": "19c1b525",
   "metadata": {},
   "outputs": [
    {
     "data": {
      "text/plain": [
       "200"
      ]
     },
     "execution_count": 91,
     "metadata": {},
     "output_type": "execute_result"
    }
   ],
   "source": [
    "response.status_code\n"
   ]
  },
  {
   "cell_type": "code",
   "execution_count": 92,
   "id": "2b699fdc",
   "metadata": {},
   "outputs": [],
   "source": [
    "soup = BeautifulSoup(response.content, 'html.parser')\n"
   ]
  },
  {
   "cell_type": "code",
   "execution_count": 93,
   "id": "ccea8c99",
   "metadata": {},
   "outputs": [
    {
     "data": {
      "text/plain": [
       "'168 ai engineerer jobs in Egypt – discover job details now on Wuzzuf!'"
      ]
     },
     "execution_count": 93,
     "metadata": {},
     "output_type": "execute_result"
    }
   ],
   "source": [
    "soup.title.text"
   ]
  },
  {
   "cell_type": "code",
   "execution_count": 94,
   "id": "e331eeaa",
   "metadata": {},
   "outputs": [
    {
     "data": {
      "text/plain": [
       "15"
      ]
     },
     "execution_count": 94,
     "metadata": {},
     "output_type": "execute_result"
    }
   ],
   "source": [
    "jobs=soup.find_all(class_=\"css-pkv5jc\")\n",
    "jobs\n",
    "len(jobs)\n"
   ]
  },
  {
   "cell_type": "code",
   "execution_count": 95,
   "id": "527afdda",
   "metadata": {},
   "outputs": [
    {
     "data": {
      "text/plain": [
       "'AI Researcher / AI Engineer'"
      ]
     },
     "execution_count": 95,
     "metadata": {},
     "output_type": "execute_result"
    }
   ],
   "source": [
    "job_name = jobs[0].find(class_=\"css-o171kl\").text\n",
    "job_name"
   ]
  },
  {
   "cell_type": "code",
   "execution_count": 96,
   "id": "20cd681c",
   "metadata": {},
   "outputs": [
    {
     "data": {
      "text/plain": [
       "'Nasr City, Cairo, Egypt '"
      ]
     },
     "execution_count": 96,
     "metadata": {},
     "output_type": "execute_result"
    }
   ],
   "source": [
    "job_location = jobs[0].find(class_=\"css-16x61xq\").text \n",
    "job_location"
   ]
  },
  {
   "cell_type": "code",
   "execution_count": 97,
   "id": "c341621b",
   "metadata": {},
   "outputs": [
    {
     "data": {
      "text/plain": [
       "['Full Time']"
      ]
     },
     "execution_count": 97,
     "metadata": {},
     "output_type": "execute_result"
    }
   ],
   "source": [
    "job_type = jobs[0].find(class_=\"css-uc9rga eoyjyou0\").text.split(\",\")\n",
    "job_type"
   ]
  },
  {
   "cell_type": "code",
   "execution_count": 98,
   "id": "c25ca5bf",
   "metadata": {},
   "outputs": [],
   "source": [
    "job_name=[]\n",
    "job_type=[]\n",
    "job_location=[]\n",
    "\n",
    "\n",
    "for job in jobs:\n",
    "    job_name.append(job.find(class_=\"css-o171kl\").text)\n",
    "    job_type.append(job.find(class_=\"css-uc9rga eoyjyou0\").text.split(\",\"))\n",
    "    job_location.append(job.find(class_=\"css-16x61xq\").text)\n"
   ]
  },
  {
   "cell_type": "code",
   "execution_count": 99,
   "id": "0e6277a8",
   "metadata": {},
   "outputs": [
    {
     "name": "stdout",
     "output_type": "stream",
     "text": [
      "Job Name: ['AI Researcher / AI Engineer', 'AI Engineer', 'MLOps + AI Engineer', 'AI Engineer - Travel Tech', 'Software Engineer (AI & Data Analytics)', 'IoT and Applied AI Teacher', 'AI Engineering Manager', 'Software Engineer Instructor', 'Salesforce Developer / Architect-AI', 'AI DESIGN ARCHITECT', 'AI Software Engineer', 'AI Engineer', 'AI Engineer (LLM / NLP)', 'NLP Python Engineer', 'AI Engineer']\n",
      "Job Type: [['Full Time'], ['Full Time'], ['Full Time'], ['Full Time'], ['Full Time'], ['Full Time'], ['Full Time'], ['Full Time'], ['Full Time'], ['Full Time'], ['Full Time'], ['Full Time'], ['Full Time'], ['Full Time'], ['Full Time']]\n",
      "Job Location: ['Nasr City, Cairo, Egypt ', 'Cairo, Egypt ', 'Cairo, Egypt ', 'Mohandessin, Giza, Egypt ', 'Maadi, Cairo, Egypt ', 'Cairo, Egypt ', 'Cairo, Egypt ', 'Basatin, Cairo, Egypt ', 'Cairo, Egypt ', 'Heliopolis, Cairo, Egypt ', 'Cairo, Egypt ', 'Maadi, Cairo, Egypt ', 'New Cairo, Cairo, Egypt ', 'Cairo, Egypt ', 'Cairo, Egypt ']\n"
     ]
    }
   ],
   "source": [
    "\n",
    "print(f\"Job Name: {job_name}\")\n",
    "print(f\"Job Type: {job_type}\")\n",
    "print(f\"Job Location: {job_location}\")"
   ]
  },
  {
   "cell_type": "code",
   "execution_count": 100,
   "id": "982c2096",
   "metadata": {},
   "outputs": [],
   "source": [
    "for web in range(1,5):\n",
    "    url= f\"https://wuzzuf.net/search/jobs/?q=ai%20engineerer&a=hpb{web}\"\n",
    "    response = requests.get(url)\n",
    "    soup = BeautifulSoup(response.content, 'html.parser')\n",
    "    jobs=soup.find_all(class_=\"css-pkv5jc\")\n",
    "    for job in jobs:\n",
    "        job_name.append(job.find(class_=\"css-o171kl\").text)\n",
    "        job_type.append(job.find(class_=\"css-uc9rga eoyjyou0\").text.split(\",\"))\n",
    "        job_location.append(job.find(class_=\"css-16x61xq\").text)\n"
   ]
  },
  {
   "cell_type": "code",
   "execution_count": 104,
   "id": "11c2e84b",
   "metadata": {},
   "outputs": [],
   "source": [
    "import csv\n",
    "\n",
    "with open('job_Data.csv', mode='w', newline='', encoding='utf-8') as file:\n",
    "    writer = csv.writer(file)\n",
    "    writer.writerow([\"Job Name\", \"Job Type\", \"Job Location\"])\n",
    "    for i in range(len(job_name)):\n",
    "        writer.writerow([job_name[i], job_type[i], job_location[i]])\n"
   ]
  },
  {
   "cell_type": "code",
   "execution_count": null,
   "id": "13310ddf",
   "metadata": {},
   "outputs": [],
   "source": []
  }
 ],
 "metadata": {
  "kernelspec": {
   "display_name": "base",
   "language": "python",
   "name": "python3"
  },
  "language_info": {
   "codemirror_mode": {
    "name": "ipython",
    "version": 3
   },
   "file_extension": ".py",
   "mimetype": "text/x-python",
   "name": "python",
   "nbconvert_exporter": "python",
   "pygments_lexer": "ipython3",
   "version": "3.12.3"
  }
 },
 "nbformat": 4,
 "nbformat_minor": 5
}
