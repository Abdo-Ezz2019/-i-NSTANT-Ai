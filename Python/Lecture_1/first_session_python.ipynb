{
  "nbformat": 4,
  "nbformat_minor": 0,
  "metadata": {
    "colab": {
      "provenance": []
    },
    "kernelspec": {
      "name": "python3",
      "display_name": "Python 3"
    },
    "language_info": {
      "name": "python"
    }
  },
  "cells": [
    {
      "cell_type": "markdown",
      "source": [
        "#Python Basics\n",
        "\n"
      ],
      "metadata": {
        "id": "9GbRStr1C6SR"
      }
    },
    {
      "cell_type": "code",
      "execution_count": null,
      "metadata": {
        "id": "ez5wK4jjimpp",
        "colab": {
          "base_uri": "https://localhost:8080/"
        },
        "outputId": "7043c5ee-d4ec-4ace-dba4-695def97585f"
      },
      "outputs": [
        {
          "output_type": "stream",
          "name": "stdout",
          "text": [
            "hallo world\n",
            "123\n"
          ]
        }
      ],
      "source": [
        "print(\"hallo world\")\n",
        "print(123)"
      ]
    },
    {
      "cell_type": "markdown",
      "source": [
        "#Variables\n"
      ],
      "metadata": {
        "id": "C2bygFbaDIUP"
      }
    },
    {
      "cell_type": "code",
      "source": [
        "x=10\n",
        "print(type(x),x)\n"
      ],
      "metadata": {
        "colab": {
          "base_uri": "https://localhost:8080/"
        },
        "id": "d-7L_QAZC9VQ",
        "outputId": "973a523a-e0ce-4931-c856-1437a3bae50e"
      },
      "execution_count": null,
      "outputs": [
        {
          "output_type": "stream",
          "name": "stdout",
          "text": [
            "<class 'int'> 10\n"
          ]
        }
      ]
    },
    {
      "cell_type": "code",
      "source": [
        "x=1.5\n",
        "print(type(x),x)\n"
      ],
      "metadata": {
        "colab": {
          "base_uri": "https://localhost:8080/"
        },
        "id": "p8UgniENDfbG",
        "outputId": "e4f61cd3-ed79-4f11-e7e0-e95a4aaf8e7d"
      },
      "execution_count": null,
      "outputs": [
        {
          "output_type": "stream",
          "name": "stdout",
          "text": [
            "<class 'float'> 1.5\n"
          ]
        }
      ]
    },
    {
      "cell_type": "code",
      "source": [
        "x=\"abdo\"\n",
        "print(type(x),x)"
      ],
      "metadata": {
        "colab": {
          "base_uri": "https://localhost:8080/"
        },
        "id": "F8CihKSsDiV0",
        "outputId": "e475ecfe-723c-46a9-d5b6-9512032c04ed"
      },
      "execution_count": null,
      "outputs": [
        {
          "output_type": "stream",
          "name": "stdout",
          "text": [
            "<class 'str'> abdo\n"
          ]
        }
      ]
    },
    {
      "cell_type": "code",
      "source": [
        "x=int(\"123\")\n",
        "print(type(x),x)\n",
        "y=50\n"
      ],
      "metadata": {
        "colab": {
          "base_uri": "https://localhost:8080/"
        },
        "id": "bzZKByk3Goj2",
        "outputId": "083884f9-2818-4de5-a536-dc46d512399b"
      },
      "execution_count": null,
      "outputs": [
        {
          "output_type": "stream",
          "name": "stdout",
          "text": [
            "<class 'int'> 123\n"
          ]
        }
      ]
    },
    {
      "cell_type": "code",
      "source": [
        "x=\"20\"   # between '' or \"\" it is make as a string\n",
        "print(type(x),x)"
      ],
      "metadata": {
        "colab": {
          "base_uri": "https://localhost:8080/"
        },
        "id": "aBSdrSHhDsCw",
        "outputId": "23d35246-bf32-42b5-bd07-ca0c5afebcbc"
      },
      "execution_count": null,
      "outputs": [
        {
          "output_type": "stream",
          "name": "stdout",
          "text": [
            "<class 'str'> 20\n"
          ]
        }
      ]
    },
    {
      "cell_type": "code",
      "source": [
        "x=\"abdo\"\n",
        "y=\"AZZ\"\n",
        "print(x+y)\n"
      ],
      "metadata": {
        "colab": {
          "base_uri": "https://localhost:8080/"
        },
        "id": "uT97ZDW5EgMJ",
        "outputId": "1d64825f-0b35-45f1-db8e-5bbd9942dfb0"
      },
      "execution_count": null,
      "outputs": [
        {
          "output_type": "stream",
          "name": "stdout",
          "text": [
            "abdoAZZ\n"
          ]
        }
      ]
    },
    {
      "cell_type": "code",
      "source": [
        "s = \"ش\"\n",
        "b = s.encode('utf-8') # to show the value of bytes\n",
        "print(b)\n",
        "a=b.decode(\"utf-8\")\n",
        "print(a)"
      ],
      "metadata": {
        "colab": {
          "base_uri": "https://localhost:8080/"
        },
        "id": "R6HsPOHERB_v",
        "outputId": "23bf9546-0e14-437a-a3b3-b80cba0dcd31"
      },
      "execution_count": null,
      "outputs": [
        {
          "output_type": "stream",
          "name": "stdout",
          "text": [
            "b'\\xd8\\xb4'\n",
            "ش\n"
          ]
        }
      ]
    },
    {
      "cell_type": "code",
      "source": [
        "print(ord('A'))  # to know the value of str\n",
        "print(chr(65))\n"
      ],
      "metadata": {
        "colab": {
          "base_uri": "https://localhost:8080/"
        },
        "id": "z5VMnP9lT3EC",
        "outputId": "784594ab-9e85-480f-c1b5-71969c630dd3"
      },
      "execution_count": null,
      "outputs": [
        {
          "output_type": "stream",
          "name": "stdout",
          "text": [
            "65\n",
            "A\n"
          ]
        }
      ]
    },
    {
      "cell_type": "code",
      "source": [
        "names='ahmed'\n",
        "\n",
        "print(\"names: \" , names+str(\"2\"))\n"
      ],
      "metadata": {
        "colab": {
          "base_uri": "https://localhost:8080/"
        },
        "id": "jzUZmYM2ScJc",
        "outputId": "29b66a1e-85a7-469d-a23a-a8d4c37e5f6c"
      },
      "execution_count": null,
      "outputs": [
        {
          "output_type": "stream",
          "name": "stdout",
          "text": [
            "names:  ahmed2\n"
          ]
        }
      ]
    },
    {
      "cell_type": "markdown",
      "source": [
        "# input from user\n"
      ],
      "metadata": {
        "id": "3JD1MOC7DytC"
      }
    },
    {
      "cell_type": "code",
      "source": [
        "x= input()  # eny input it used as str\n",
        "print(type(x))\n"
      ],
      "metadata": {
        "colab": {
          "base_uri": "https://localhost:8080/"
        },
        "id": "im3WK-lhFfZK",
        "outputId": "8e1afbc3-bc9a-4846-e77c-7ddae3964053"
      },
      "execution_count": null,
      "outputs": [
        {
          "output_type": "stream",
          "name": "stdout",
          "text": [
            "10\n",
            "<class 'str'>\n"
          ]
        }
      ]
    },
    {
      "cell_type": "code",
      "source": [
        "x=input()\n",
        "y=input()\n",
        "print(x+y)\n",
        "\n",
        "x=int(x)    # type casting\n",
        "y=int(y)\n",
        "print(x+y)\n"
      ],
      "metadata": {
        "colab": {
          "base_uri": "https://localhost:8080/"
        },
        "id": "xIOnv5cgF4bd",
        "outputId": "04bcc9fe-0b06-4ab2-8a22-3fc9e0abcb50"
      },
      "execution_count": null,
      "outputs": [
        {
          "output_type": "stream",
          "name": "stdout",
          "text": [
            "20\n",
            "20\n",
            "2020\n",
            "40\n"
          ]
        }
      ]
    },
    {
      "cell_type": "markdown",
      "source": [
        "# Data type\n",
        "- dictionary\n",
        "\n"
      ],
      "metadata": {
        "id": "9WkLFCZ_uarX"
      }
    },
    {
      "cell_type": "code",
      "source": [
        "# dictionary data type\n",
        "\n",
        "dic={\"key1\":15,\"key3\":20, \"key4\": \"value4\"}\n",
        "\n",
        "print(type(dic))       #mutable\n",
        "\n",
        "\n",
        "\n",
        "print(dic.values())     #print all the values\n",
        "print(dic.keys())       #print all the keyes\n",
        "print(\"--\"*25)\n",
        "print(dic[\"key1\"])\n",
        "print(\"--\"*25)\n",
        "\n",
        "# some function to check on the dictionary data type\n",
        "# get fun to have the values and the keys\n",
        "\n",
        "dic.get(\"key1\")\n",
        "print(dic.get(\"key12\")) # if the key not exist the output is none\n",
        "print(\"--\"*25)\n"
      ],
      "metadata": {
        "colab": {
          "base_uri": "https://localhost:8080/"
        },
        "id": "sXp8N4xEuwZN",
        "outputId": "a38cb13b-bafd-4523-f704-08659759953a"
      },
      "execution_count": null,
      "outputs": [
        {
          "output_type": "stream",
          "name": "stdout",
          "text": [
            "<class 'dict'>\n",
            "dict_values([15, 20, 'value4'])\n",
            "dict_keys(['key1', 'key3', 'key4'])\n",
            "--------------------------------------------------\n",
            "15\n",
            "--------------------------------------------------\n",
            "None\n",
            "--------------------------------------------------\n"
          ]
        }
      ]
    },
    {
      "cell_type": "code",
      "source": [],
      "metadata": {
        "id": "pkqvkWOku2Yj"
      },
      "execution_count": null,
      "outputs": []
    }
  ]
}