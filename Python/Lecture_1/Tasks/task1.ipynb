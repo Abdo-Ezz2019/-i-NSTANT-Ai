{
  "nbformat": 4,
  "nbformat_minor": 0,
  "metadata": {
    "colab": {
      "provenance": []
    },
    "kernelspec": {
      "name": "python3",
      "display_name": "Python 3"
    },
    "language_info": {
      "name": "python"
    }
  },
  "cells": [
    {
      "cell_type": "code",
      "execution_count": null,
      "metadata": {
        "id": "3NuPgywVVT-X"
      },
      "outputs": [],
      "source": []
    },
    {
      "cell_type": "markdown",
      "source": [
        "## **1- Write a Python program to find the area of a triangle**"
      ],
      "metadata": {
        "id": "yGQ0PxZIWP0v"
      }
    },
    {
      "cell_type": "code",
      "source": [
        "base = float(input(\"The Base: \"))\n",
        "height = float(input(\"The  height: \"))\n",
        "area = 0.5 * base * height\n",
        "print(\"Area of the triangle =\", area)"
      ],
      "metadata": {
        "id": "fVEa_BPoWYPd",
        "colab": {
          "base_uri": "https://localhost:8080/"
        },
        "outputId": "491dae59-2c97-46d4-d150-e27c9caa548b"
      },
      "execution_count": null,
      "outputs": [
        {
          "output_type": "stream",
          "name": "stdout",
          "text": [
            "Enter the base length: 3\n",
            "Enter the height: 10\n",
            "Area of the triangle = 15.0\n"
          ]
        }
      ]
    },
    {
      "cell_type": "markdown",
      "source": [
        "# **2- Write a Python program to swap two variables.**\n"
      ],
      "metadata": {
        "id": "3DD6RrL1Wa65"
      }
    },
    {
      "cell_type": "code",
      "source": [
        "a=input(\"Enter the first value: \")\n",
        "b=input(\"Enter the second value: \")\n",
        "\n",
        "a, b = b, a\n",
        "\n",
        "print()\n",
        "print(\"After swapping:\")\n",
        "print(\"a =\", a)\n",
        "print(\"b =\", b)"
      ],
      "metadata": {
        "id": "8A-qk-XGWmrK",
        "colab": {
          "base_uri": "https://localhost:8080/"
        },
        "outputId": "6d0d8112-a453-41e5-d634-e6b9e922d0ac"
      },
      "execution_count": null,
      "outputs": [
        {
          "output_type": "stream",
          "name": "stdout",
          "text": [
            "Enter the first value: 4\n",
            "Enter the second value: 6\n",
            "\n",
            "After swapping:\n",
            "a = 6\n",
            "b = 4\n"
          ]
        }
      ]
    },
    {
      "cell_type": "markdown",
      "source": [
        "# **3-Write a Python program to enter a number from user and convert this number from kilometers to miles.**\n"
      ],
      "metadata": {
        "id": "NXzXheUIXDEf"
      }
    },
    {
      "cell_type": "code",
      "source": [
        "km = float(input(\"KM: \"))\n",
        "print(\"Miles =\", km * 0.621371)"
      ],
      "metadata": {
        "id": "-hO2ACQCX8xA",
        "colab": {
          "base_uri": "https://localhost:8080/"
        },
        "outputId": "137b03a1-84b8-4e27-c9f3-6098410de23f"
      },
      "execution_count": null,
      "outputs": [
        {
          "output_type": "stream",
          "name": "stdout",
          "text": [
            "KM: 6.360\n",
            "Miles = 3.9519195600000003\n"
          ]
        }
      ]
    },
    {
      "cell_type": "markdown",
      "source": [
        "# **WAP to enter a number from user and print its absolute value.**\n"
      ],
      "metadata": {
        "id": "DjD9K-oHVJwK"
      }
    },
    {
      "cell_type": "code",
      "source": [
        "num = float(input(\"Number: \"))\n",
        "print(\"Abs =\", abs(num))"
      ],
      "metadata": {
        "id": "HUyHOJpYVLFf",
        "colab": {
          "base_uri": "https://localhost:8080/"
        },
        "outputId": "84bcde6b-634a-4a3b-fa91-eaaff399e0ad"
      },
      "execution_count": null,
      "outputs": [
        {
          "output_type": "stream",
          "name": "stdout",
          "text": [
            "Number: -77\n",
            "Abs = 77.0\n"
          ]
        }
      ]
    },
    {
      "cell_type": "markdown",
      "source": [
        "# **WAP to enter a year from user and check if it is leap year or not.**"
      ],
      "metadata": {
        "id": "Q3QvqgpNVL43"
      }
    },
    {
      "cell_type": "code",
      "source": [
        "year = int(input(\"Enter a year: \"))\n",
        "\n",
        "if (year % 4 == 0 and year % 100 != 0) or (year % 400 == 0):\n",
        "    print(\"Leap year\")\n",
        "else:\n",
        "    print(\"Not a leap year\")\n"
      ],
      "metadata": {
        "id": "QfOkMSN8VRei",
        "colab": {
          "base_uri": "https://localhost:8080/"
        },
        "outputId": "84df8067-b35d-44db-b3e3-13dc20e5a642"
      },
      "execution_count": null,
      "outputs": [
        {
          "output_type": "stream",
          "name": "stdout",
          "text": [
            "Enter a year: 2006\n",
            "Not a leap year\n"
          ]
        }
      ]
    },
    {
      "cell_type": "markdown",
      "source": [
        "# **WAP to enter the age of 3 person and print oldest and yougest among them.**\n"
      ],
      "metadata": {
        "id": "qVpw3zfmVSNd"
      }
    },
    {
      "cell_type": "code",
      "source": [
        "a = int(input(\"Age 1: \"))\n",
        "b = int(input(\"Age 2: \"))\n",
        "c = int(input(\"Age 3: \"))\n",
        "\n",
        "print()\n",
        "print(\"Oldest =\", max(a, b, c))\n",
        "print(\"Youngest =\", min(a, b, c))"
      ],
      "metadata": {
        "id": "kV13Ni_XVY9o",
        "colab": {
          "base_uri": "https://localhost:8080/"
        },
        "outputId": "8a0d56d6-5d36-4365-9402-c1490b3fb239"
      },
      "execution_count": null,
      "outputs": [
        {
          "output_type": "stream",
          "name": "stdout",
          "text": [
            "Age 1: 40\n",
            "Age 2: 21\n",
            "Age 3: 53\n",
            "\n",
            "Oldest = 53\n",
            "Youngest = 21\n"
          ]
        }
      ]
    },
    {
      "cell_type": "markdown",
      "source": [],
      "metadata": {
        "id": "34aO292CVZSd"
      }
    }
  ]
}