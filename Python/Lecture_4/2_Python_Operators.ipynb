{
  "cells": [
    {
      "cell_type": "markdown",
      "id": "4fa32f97",
      "metadata": {
        "id": "4fa32f97"
      },
      "source": [
        "# Operators\n",
        "\n",
        "1. Arithmetics Operators"
      ]
    },
    {
      "cell_type": "code",
      "execution_count": null,
      "id": "3970e8ce",
      "metadata": {
        "id": "3970e8ce"
      },
      "outputs": [],
      "source": [
        "+, -, *, /, %, **, //"
      ]
    },
    {
      "cell_type": "code",
      "execution_count": null,
      "id": "72514153",
      "metadata": {
        "colab": {
          "base_uri": "https://localhost:8080/"
        },
        "id": "72514153",
        "outputId": "6ba532fd-b442-4d60-e2e1-d220ba8b0e35"
      },
      "outputs": [
        {
          "output_type": "stream",
          "name": "stdout",
          "text": [
            "30\n"
          ]
        }
      ],
      "source": [
        "print(10+20)\n",
        "\n",
        "# x=5\n"
      ]
    },
    {
      "cell_type": "code",
      "source": [
        "bool(100)"
      ],
      "metadata": {
        "colab": {
          "base_uri": "https://localhost:8080/"
        },
        "id": "iiiUrUgGRNqa",
        "outputId": "56cbe3b6-8f72-4673-8053-c9b1ad4cf3f9"
      },
      "id": "iiiUrUgGRNqa",
      "execution_count": null,
      "outputs": [
        {
          "output_type": "execute_result",
          "data": {
            "text/plain": [
              "True"
            ]
          },
          "metadata": {},
          "execution_count": 6
        }
      ]
    },
    {
      "cell_type": "code",
      "source": [
        "print( 5 % 2)"
      ],
      "metadata": {
        "colab": {
          "base_uri": "https://localhost:8080/"
        },
        "id": "7D-Exu4gRRHy",
        "outputId": "135e7e7f-b573-437f-bd83-6623b1887497"
      },
      "id": "7D-Exu4gRRHy",
      "execution_count": null,
      "outputs": [
        {
          "output_type": "stream",
          "name": "stdout",
          "text": [
            "1\n"
          ]
        }
      ]
    },
    {
      "cell_type": "code",
      "source": [
        "x = int(input(\"please enter a number \"))\n",
        "print(x % 2)"
      ],
      "metadata": {
        "colab": {
          "base_uri": "https://localhost:8080/"
        },
        "id": "WtzOngZ4QP6t",
        "outputId": "6f986bd5-ec9a-48f5-b080-3fe5ff804b63"
      },
      "id": "WtzOngZ4QP6t",
      "execution_count": null,
      "outputs": [
        {
          "output_type": "stream",
          "name": "stdout",
          "text": [
            "please enter a number 5\n",
            "1\n"
          ]
        }
      ]
    },
    {
      "cell_type": "code",
      "source": [],
      "metadata": {
        "id": "v2lKvdt6Rt0J"
      },
      "id": "v2lKvdt6Rt0J",
      "execution_count": null,
      "outputs": []
    },
    {
      "cell_type": "code",
      "execution_count": null,
      "id": "d5e11167",
      "metadata": {
        "colab": {
          "base_uri": "https://localhost:8080/"
        },
        "id": "d5e11167",
        "outputId": "2e4c7931-1201-41dd-b0bf-7a1261e8f5ba"
      },
      "outputs": [
        {
          "output_type": "execute_result",
          "data": {
            "text/plain": [
              "1"
            ]
          },
          "metadata": {},
          "execution_count": 11
        }
      ],
      "source": [
        "5 % 2  #modulo"
      ]
    },
    {
      "cell_type": "code",
      "execution_count": null,
      "id": "13e1685c",
      "metadata": {
        "colab": {
          "base_uri": "https://localhost:8080/"
        },
        "id": "13e1685c",
        "outputId": "f5cd760a-ab73-4a13-ca76-e9b096d4145e"
      },
      "outputs": [
        {
          "output_type": "execute_result",
          "data": {
            "text/plain": [
              "2"
            ]
          },
          "metadata": {},
          "execution_count": 6
        }
      ],
      "source": [
        "11 % 3"
      ]
    },
    {
      "cell_type": "code",
      "execution_count": null,
      "id": "69e1dd52",
      "metadata": {
        "colab": {
          "base_uri": "https://localhost:8080/"
        },
        "id": "69e1dd52",
        "outputId": "c1a3c68e-392e-4598-91b2-0d33ae97a3be"
      },
      "outputs": [
        {
          "output_type": "execute_result",
          "data": {
            "text/plain": [
              "0"
            ]
          },
          "metadata": {},
          "execution_count": 10
        }
      ],
      "source": [
        "18 % 6"
      ]
    },
    {
      "cell_type": "code",
      "source": [
        "7 / 2"
      ],
      "metadata": {
        "colab": {
          "base_uri": "https://localhost:8080/"
        },
        "id": "3lNEXHgkMCTD",
        "outputId": "d8acf1db-ca1a-4888-8431-7e15f9e0cbfe"
      },
      "id": "3lNEXHgkMCTD",
      "execution_count": null,
      "outputs": [
        {
          "output_type": "execute_result",
          "data": {
            "text/plain": [
              "3.5"
            ]
          },
          "metadata": {},
          "execution_count": 7
        }
      ]
    },
    {
      "cell_type": "code",
      "execution_count": null,
      "id": "15ddb61e",
      "metadata": {
        "colab": {
          "base_uri": "https://localhost:8080/"
        },
        "id": "15ddb61e",
        "outputId": "49dce74b-dfa4-4b0e-c757-190f4c6c4b07"
      },
      "outputs": [
        {
          "output_type": "execute_result",
          "data": {
            "text/plain": [
              "3"
            ]
          },
          "metadata": {},
          "execution_count": 8
        }
      ],
      "source": [
        "7 // 2  # floor division"
      ]
    },
    {
      "cell_type": "code",
      "execution_count": null,
      "id": "c886eacd",
      "metadata": {
        "colab": {
          "base_uri": "https://localhost:8080/"
        },
        "id": "c886eacd",
        "outputId": "a61fe089-dc02-4abd-8d32-baccc087c211"
      },
      "outputs": [
        {
          "output_type": "execute_result",
          "data": {
            "text/plain": [
              "3"
            ]
          },
          "metadata": {},
          "execution_count": 13
        }
      ],
      "source": [
        "11 // 3   # 3.6666"
      ]
    },
    {
      "cell_type": "code",
      "source": [
        "5%3"
      ],
      "metadata": {
        "colab": {
          "base_uri": "https://localhost:8080/"
        },
        "id": "Jfz0XcffCkEI",
        "outputId": "6cab74f6-d668-4fc3-d58d-f54db782363e"
      },
      "id": "Jfz0XcffCkEI",
      "execution_count": null,
      "outputs": [
        {
          "output_type": "execute_result",
          "data": {
            "text/plain": [
              "2"
            ]
          },
          "metadata": {},
          "execution_count": 2
        }
      ]
    },
    {
      "cell_type": "code",
      "execution_count": null,
      "id": "5a2206fb",
      "metadata": {
        "colab": {
          "base_uri": "https://localhost:8080/"
        },
        "id": "5a2206fb",
        "outputId": "bcf73bbb-e60b-458e-8684-88ad8987430d"
      },
      "outputs": [
        {
          "output_type": "execute_result",
          "data": {
            "text/plain": [
              "8"
            ]
          },
          "metadata": {},
          "execution_count": 9
        }
      ],
      "source": [
        "2 ** 3   # 2 to the power 3"
      ]
    },
    {
      "cell_type": "code",
      "execution_count": null,
      "id": "b6162c65",
      "metadata": {
        "id": "b6162c65",
        "outputId": "2163f8c5-9877-486a-acc6-b905c43d91d0",
        "colab": {
          "base_uri": "https://localhost:8080/"
        }
      },
      "outputs": [
        {
          "output_type": "execute_result",
          "data": {
            "text/plain": [
              "343"
            ]
          },
          "metadata": {},
          "execution_count": 10
        }
      ],
      "source": [
        "7 ** 3"
      ]
    },
    {
      "cell_type": "code",
      "source": [
        "!python --version"
      ],
      "metadata": {
        "colab": {
          "base_uri": "https://localhost:8080/"
        },
        "id": "fujJi2TmS0Lv",
        "outputId": "24d552dd-aae8-41fe-a5cb-79946ab5ee36"
      },
      "id": "fujJi2TmS0Lv",
      "execution_count": null,
      "outputs": [
        {
          "output_type": "stream",
          "name": "stdout",
          "text": [
            "Python 3.11.11\n"
          ]
        }
      ]
    },
    {
      "cell_type": "markdown",
      "id": "5495cdb8",
      "metadata": {
        "id": "5495cdb8"
      },
      "source": [
        "2. Boolean O."
      ]
    },
    {
      "cell_type": "code",
      "execution_count": null,
      "id": "a3c1a549",
      "metadata": {
        "id": "a3c1a549"
      },
      "outputs": [],
      "source": [
        "True   - 1\n",
        "\n",
        "False  - 0"
      ]
    },
    {
      "cell_type": "code",
      "source": [
        "if 22:\n",
        "  print(True)\n"
      ],
      "metadata": {
        "colab": {
          "base_uri": "https://localhost:8080/"
        },
        "id": "Ght3mxLeZ31j",
        "outputId": "4982c01f-dd65-48e6-f230-658fd96a0135"
      },
      "id": "Ght3mxLeZ31j",
      "execution_count": null,
      "outputs": [
        {
          "output_type": "stream",
          "name": "stdout",
          "text": [
            "True\n"
          ]
        }
      ]
    },
    {
      "cell_type": "code",
      "source": [
        "print(bool(0))"
      ],
      "metadata": {
        "id": "8QSB768fRcW9",
        "outputId": "d9b444b5-a0f3-493c-b062-261cfaa36c45",
        "colab": {
          "base_uri": "https://localhost:8080/"
        }
      },
      "id": "8QSB768fRcW9",
      "execution_count": null,
      "outputs": [
        {
          "output_type": "stream",
          "name": "stdout",
          "text": [
            "False\n"
          ]
        }
      ]
    },
    {
      "cell_type": "code",
      "source": [
        "print(bool(-5))"
      ],
      "metadata": {
        "colab": {
          "base_uri": "https://localhost:8080/"
        },
        "id": "VIp4X-a14z56",
        "outputId": "7a895229-a2b7-4b59-e5a9-25ce93501451"
      },
      "id": "VIp4X-a14z56",
      "execution_count": null,
      "outputs": [
        {
          "output_type": "stream",
          "name": "stdout",
          "text": [
            "True\n"
          ]
        }
      ]
    },
    {
      "cell_type": "code",
      "source": [
        "print(bool(1))"
      ],
      "metadata": {
        "colab": {
          "base_uri": "https://localhost:8080/"
        },
        "id": "t2z89T_YPSyI",
        "outputId": "33afabe7-0774-4eee-9d2f-e6d8af8f9b31"
      },
      "id": "t2z89T_YPSyI",
      "execution_count": null,
      "outputs": [
        {
          "output_type": "stream",
          "name": "stdout",
          "text": [
            "True\n"
          ]
        }
      ]
    },
    {
      "cell_type": "markdown",
      "id": "f415402c",
      "metadata": {
        "id": "f415402c"
      },
      "source": [
        "2. Logical Operators\n",
        "\n",
        "not\n",
        "\n",
        "and\n",
        "\n",
        "or"
      ]
    },
    {
      "cell_type": "code",
      "execution_count": null,
      "id": "052a4864",
      "metadata": {
        "colab": {
          "base_uri": "https://localhost:8080/"
        },
        "id": "052a4864",
        "outputId": "5026de91-7a3e-4a01-afba-1fdb99c448e4"
      },
      "outputs": [
        {
          "output_type": "stream",
          "name": "stdout",
          "text": [
            "False\n"
          ]
        }
      ],
      "source": [
        "print(not True)"
      ]
    },
    {
      "cell_type": "code",
      "execution_count": null,
      "id": "c0af3653",
      "metadata": {
        "colab": {
          "base_uri": "https://localhost:8080/"
        },
        "id": "c0af3653",
        "outputId": "6b37ef9f-517b-465a-c8f9-39e02b5d65c2"
      },
      "outputs": [
        {
          "output_type": "stream",
          "name": "stdout",
          "text": [
            "True\n"
          ]
        }
      ],
      "source": [
        "print(not False)"
      ]
    },
    {
      "cell_type": "code",
      "execution_count": null,
      "id": "15466449",
      "metadata": {
        "id": "15466449"
      },
      "outputs": [],
      "source": [
        "Truth Table\n",
        "\n",
        "0  and  0  -- 0\n",
        "0  and  1  -- 0\n",
        "1  and  0  -- 0\n",
        "1  and  1  -- 1\n"
      ]
    },
    {
      "cell_type": "code",
      "execution_count": null,
      "id": "a2d85c23",
      "metadata": {
        "id": "a2d85c23",
        "outputId": "17a7eef9-2fed-4aaa-8127-995842568b90",
        "colab": {
          "base_uri": "https://localhost:8080/"
        }
      },
      "outputs": [
        {
          "output_type": "stream",
          "name": "stdout",
          "text": [
            "False\n"
          ]
        }
      ],
      "source": [
        "print(False and False) # 0 and 0"
      ]
    },
    {
      "cell_type": "code",
      "execution_count": null,
      "id": "a56d0e43",
      "metadata": {
        "id": "a56d0e43"
      },
      "outputs": [],
      "source": [
        "Truth Table\n",
        "\n",
        "0  or  0  -- 0\n",
        "0  or  1  -- 1\n",
        "1  or  0  -- 1\n",
        "1  or  1  -- 1\n"
      ]
    },
    {
      "cell_type": "code",
      "execution_count": null,
      "id": "9feb9eec",
      "metadata": {
        "id": "9feb9eec",
        "outputId": "f9fea7dd-c415-4ae8-d4a6-6e683d477455",
        "colab": {
          "base_uri": "https://localhost:8080/"
        }
      },
      "outputs": [
        {
          "output_type": "stream",
          "name": "stdout",
          "text": [
            "True\n"
          ]
        }
      ],
      "source": [
        "print(True or False) # 1 or 0"
      ]
    },
    {
      "cell_type": "code",
      "execution_count": null,
      "id": "f508536e",
      "metadata": {
        "id": "f508536e",
        "outputId": "eb84c5b2-7557-440e-8537-93851791ac32",
        "colab": {
          "base_uri": "https://localhost:8080/"
        }
      },
      "outputs": [
        {
          "output_type": "stream",
          "name": "stdout",
          "text": [
            "False\n"
          ]
        }
      ],
      "source": [
        "print(False or False)\n",
        "# 0 or 0"
      ]
    },
    {
      "cell_type": "code",
      "execution_count": null,
      "id": "2d472b3a",
      "metadata": {
        "id": "2d472b3a",
        "outputId": "78e9596e-39db-4ca9-cf4a-552807c4d846",
        "colab": {
          "base_uri": "https://localhost:8080/"
        }
      },
      "outputs": [
        {
          "output_type": "execute_result",
          "data": {
            "text/plain": [
              "True"
            ]
          },
          "metadata": {},
          "execution_count": 22
        }
      ],
      "source": [
        "True and False and not False or True or not False\n",
        "\n",
        "#     F               T                    T\n",
        "#               F\n",
        "#                            T\n",
        "#                                   T"
      ]
    },
    {
      "cell_type": "code",
      "execution_count": null,
      "id": "97f13fc5",
      "metadata": {
        "colab": {
          "base_uri": "https://localhost:8080/"
        },
        "id": "97f13fc5",
        "outputId": "45d07d72-fc46-4a46-9e50-008fc999d249"
      },
      "outputs": [
        {
          "output_type": "execute_result",
          "data": {
            "text/plain": [
              "True"
            ]
          },
          "metadata": {},
          "execution_count": 23
        }
      ],
      "source": [
        "True and False and not False or True or not False and not False or True or not False"
      ]
    },
    {
      "cell_type": "markdown",
      "id": "5a24df83",
      "metadata": {
        "id": "5a24df83"
      },
      "source": [
        "*4*. Relational O."
      ]
    },
    {
      "cell_type": "code",
      "execution_count": null,
      "id": "3671bfe5",
      "metadata": {
        "id": "3671bfe5"
      },
      "outputs": [],
      "source": [
        "> , < , >=  , <=  , !=(not equal) , == (is equal)"
      ]
    },
    {
      "cell_type": "code",
      "execution_count": null,
      "id": "6c971f9e",
      "metadata": {
        "colab": {
          "base_uri": "https://localhost:8080/"
        },
        "id": "6c971f9e",
        "outputId": "30115915-17e1-4e20-b39a-72a640334ed7"
      },
      "outputs": [
        {
          "output_type": "stream",
          "name": "stdout",
          "text": [
            "False\n"
          ]
        }
      ],
      "source": [
        "print(10 > 5 and 5 < 3)\n",
        "#      True and  False"
      ]
    },
    {
      "cell_type": "code",
      "source": [
        "print(10 > 5)"
      ],
      "metadata": {
        "colab": {
          "base_uri": "https://localhost:8080/"
        },
        "id": "6wy6H8pEXy5d",
        "outputId": "f3ea1a44-b6b3-4fcc-e0d9-313548e1a4df"
      },
      "id": "6wy6H8pEXy5d",
      "execution_count": null,
      "outputs": [
        {
          "output_type": "stream",
          "name": "stdout",
          "text": [
            "True\n"
          ]
        }
      ]
    },
    {
      "cell_type": "code",
      "execution_count": null,
      "id": "9daab97f",
      "metadata": {
        "colab": {
          "base_uri": "https://localhost:8080/"
        },
        "id": "9daab97f",
        "outputId": "7a14578d-3e38-4e25-b319-f2dcb1286869"
      },
      "outputs": [
        {
          "output_type": "execute_result",
          "data": {
            "text/plain": [
              "True"
            ]
          },
          "metadata": {},
          "execution_count": 27
        }
      ],
      "source": [
        "10 >= 10"
      ]
    },
    {
      "cell_type": "code",
      "execution_count": null,
      "id": "5a1ac375",
      "metadata": {
        "colab": {
          "base_uri": "https://localhost:8080/"
        },
        "id": "5a1ac375",
        "outputId": "a2740e01-cf08-4b08-e9c5-b86dcf9f7e27"
      },
      "outputs": [
        {
          "output_type": "execute_result",
          "data": {
            "text/plain": [
              "False"
            ]
          },
          "metadata": {},
          "execution_count": 28
        }
      ],
      "source": [
        "10 != 10"
      ]
    },
    {
      "cell_type": "code",
      "execution_count": null,
      "id": "5b2bdf09",
      "metadata": {
        "id": "5b2bdf09",
        "colab": {
          "base_uri": "https://localhost:8080/"
        },
        "outputId": "2c50914e-e1f4-4c86-f7e2-397529fc81a0"
      },
      "outputs": [
        {
          "output_type": "execute_result",
          "data": {
            "text/plain": [
              "False"
            ]
          },
          "metadata": {},
          "execution_count": 29
        }
      ],
      "source": [
        "10 == 11"
      ]
    },
    {
      "cell_type": "code",
      "execution_count": null,
      "id": "da4cb4aa",
      "metadata": {
        "id": "da4cb4aa",
        "outputId": "d45aa6f7-13c1-4541-e848-4e1ff2ea25aa",
        "colab": {
          "base_uri": "https://localhost:8080/"
        }
      },
      "outputs": [
        {
          "output_type": "execute_result",
          "data": {
            "text/plain": [
              "True"
            ]
          },
          "metadata": {},
          "execution_count": 30
        }
      ],
      "source": [
        "10 == 10"
      ]
    },
    {
      "cell_type": "code",
      "source": [
        "print(4 % 2 == 0)"
      ],
      "metadata": {
        "colab": {
          "base_uri": "https://localhost:8080/"
        },
        "id": "cDQ2yrKRYA_6",
        "outputId": "7ea5e122-4738-49bc-fb7f-bb04eb8d6a32"
      },
      "id": "cDQ2yrKRYA_6",
      "execution_count": null,
      "outputs": [
        {
          "output_type": "stream",
          "name": "stdout",
          "text": [
            "True\n"
          ]
        }
      ]
    },
    {
      "cell_type": "code",
      "source": [
        "print(10 == 10.0)"
      ],
      "metadata": {
        "colab": {
          "base_uri": "https://localhost:8080/"
        },
        "id": "TUN8BGZoko0J",
        "outputId": "c423d087-d391-4a91-801f-eb9ec31c483c"
      },
      "id": "TUN8BGZoko0J",
      "execution_count": null,
      "outputs": [
        {
          "output_type": "stream",
          "name": "stdout",
          "text": [
            "True\n"
          ]
        }
      ]
    },
    {
      "cell_type": "code",
      "source": [
        "n = int(input(\"Please enter a number\"))\n",
        "print(n % 2 == 0)"
      ],
      "metadata": {
        "colab": {
          "base_uri": "https://localhost:8080/"
        },
        "id": "m5Q-Si4DTJzx",
        "outputId": "c4a1e041-afe0-4897-dc08-d16e37940cf2"
      },
      "id": "m5Q-Si4DTJzx",
      "execution_count": null,
      "outputs": [
        {
          "output_type": "stream",
          "name": "stdout",
          "text": [
            "Please enter a number3\n",
            "False\n"
          ]
        }
      ]
    },
    {
      "cell_type": "markdown",
      "id": "90f90f49",
      "metadata": {
        "id": "90f90f49"
      },
      "source": [
        "\n",
        "\n",
        "```\n",
        "# This is formatted as code\n",
        "```\n",
        "\n",
        "5. Assignment O."
      ]
    },
    {
      "cell_type": "code",
      "execution_count": null,
      "id": "814ffcaf",
      "metadata": {
        "id": "814ffcaf"
      },
      "outputs": [],
      "source": [
        "= , += , -= , *= , /= , %= , //= , **="
      ]
    },
    {
      "cell_type": "code",
      "execution_count": null,
      "id": "8e48e1cb",
      "metadata": {
        "id": "8e48e1cb",
        "outputId": "4a972db9-550c-4a31-b210-4121597e8de8",
        "colab": {
          "base_uri": "https://localhost:8080/"
        }
      },
      "outputs": [
        {
          "output_type": "stream",
          "name": "stdout",
          "text": [
            "30\n"
          ]
        }
      ],
      "source": [
        "a = 10\n",
        "b = a\n",
        "\n",
        "a = a + 5\n",
        "a += 5\n",
        "\n",
        "\n",
        "\n",
        "\n",
        "a = a+5  # 10 + 5\n",
        "a += 5   # a = a + 5\n",
        "print(a)"
      ]
    },
    {
      "cell_type": "code",
      "source": [
        "a*=2  # a=a*2"
      ],
      "metadata": {
        "id": "SgsLCORLKL2l"
      },
      "id": "SgsLCORLKL2l",
      "execution_count": null,
      "outputs": []
    },
    {
      "cell_type": "code",
      "source": [
        "a"
      ],
      "metadata": {
        "colab": {
          "base_uri": "https://localhost:8080/"
        },
        "id": "dnP5p0YuKQJe",
        "outputId": "58cf6a88-4ed4-42b3-e310-8a542afd8223"
      },
      "id": "dnP5p0YuKQJe",
      "execution_count": null,
      "outputs": [
        {
          "output_type": "execute_result",
          "data": {
            "text/plain": [
              "60"
            ]
          },
          "metadata": {},
          "execution_count": 39
        }
      ]
    },
    {
      "cell_type": "code",
      "execution_count": null,
      "id": "8cf07fe1",
      "metadata": {
        "id": "8cf07fe1",
        "outputId": "ae2c081d-aac2-4ea0-ca91-9e4349d36791",
        "colab": {
          "base_uri": "https://localhost:8080/"
        }
      },
      "outputs": [
        {
          "output_type": "stream",
          "name": "stdout",
          "text": [
            "0\n"
          ]
        }
      ],
      "source": [
        "a = 10\n",
        "a %= 2   # a = a % 2\n",
        "print(a)"
      ]
    },
    {
      "cell_type": "code",
      "execution_count": null,
      "id": "2e6b162e",
      "metadata": {
        "id": "2e6b162e",
        "outputId": "0b149707-87f2-4d08-c744-e7d404db9dc0",
        "colab": {
          "base_uri": "https://localhost:8080/"
        }
      },
      "outputs": [
        {
          "output_type": "stream",
          "name": "stdout",
          "text": [
            "1000\n"
          ]
        }
      ],
      "source": [
        "a = 10\n",
        "a **= 3   # a = a ** 3\n",
        "print(a)"
      ]
    },
    {
      "cell_type": "code",
      "execution_count": null,
      "id": "6d9129b1",
      "metadata": {
        "id": "6d9129b1"
      },
      "outputs": [],
      "source": [
        "++\n",
        "--\n",
        "a=10\n",
        "a++ #error"
      ]
    },
    {
      "cell_type": "code",
      "execution_count": null,
      "id": "c8122b3c",
      "metadata": {
        "colab": {
          "base_uri": "https://localhost:8080/"
        },
        "id": "c8122b3c",
        "outputId": "89b1bfb3-8dd0-4cb2-d364-0d840ec8f9bd"
      },
      "outputs": [
        {
          "output_type": "stream",
          "name": "stdout",
          "text": [
            "11\n"
          ]
        }
      ],
      "source": [
        "a = 10  # a++ error\n",
        "a += 1  # a=a+1\n",
        "print(a)"
      ]
    },
    {
      "cell_type": "markdown",
      "id": "a7e9edfd",
      "metadata": {
        "id": "a7e9edfd"
      },
      "source": [
        "6. Bitwise O."
      ]
    },
    {
      "cell_type": "code",
      "execution_count": null,
      "id": "e05224d4",
      "metadata": {
        "id": "e05224d4"
      },
      "outputs": [],
      "source": [
        "&  | ^ << >>\n",
        "# & shift + 7\n",
        "# | shift + \\\n",
        "# ^ shift + 6\n",
        "# << shift + ,\n",
        "# >> shift + ."
      ]
    },
    {
      "cell_type": "code",
      "execution_count": null,
      "id": "feb6617f",
      "metadata": {
        "id": "feb6617f"
      },
      "outputs": [],
      "source": [
        "1024    512    256    128    64    32    16    8    4    2    1\n",
        "#                                              1    0    0    1\n",
        "#                             1     0     1    1    0    0    0\n",
        "#                                              1    1    1    1"
      ]
    },
    {
      "cell_type": "code",
      "source": [
        "128 64  32 16  8  4  2   1\n",
        "[]  []  [] []  [] [1] [0] [1]   =  5 ->> 101\n",
        "                                = 1000\n",
        "                                = 00001010\n",
        "\n"
      ],
      "metadata": {
        "id": "mAI1GrgXjlua"
      },
      "id": "mAI1GrgXjlua",
      "execution_count": null,
      "outputs": []
    },
    {
      "cell_type": "code",
      "execution_count": null,
      "id": "7b5ba1b5",
      "metadata": {
        "id": "7b5ba1b5"
      },
      "outputs": [],
      "source": [
        "1 byte  -  8 bits\n",
        "2 byte  -  16 bits\n",
        "4 byte  -  32 bits"
      ]
    },
    {
      "cell_type": "code",
      "execution_count": null,
      "id": "d0db4689",
      "metadata": {
        "id": "d0db4689"
      },
      "outputs": [],
      "source": [
        "Truth Table\n",
        "\n",
        "0  &  0  -- 0\n",
        "0  &  1  -- 0\n",
        "1  &  0  -- 0\n",
        "1  &  1  -- 1\n"
      ]
    },
    {
      "cell_type": "code",
      "execution_count": null,
      "id": "2ff5ebbc",
      "metadata": {
        "id": "2ff5ebbc",
        "outputId": "47b412a2-4dfb-438a-f8d1-e53c02b401e2",
        "colab": {
          "base_uri": "https://localhost:8080/"
        }
      },
      "outputs": [
        {
          "output_type": "execute_result",
          "data": {
            "text/plain": [
              "0"
            ]
          },
          "metadata": {},
          "execution_count": 45
        }
      ],
      "source": [
        "8 & 2   # 1000\n",
        "        # 0010\n",
        "        # 0000"
      ]
    },
    {
      "cell_type": "code",
      "execution_count": null,
      "id": "5af927c4",
      "metadata": {
        "id": "5af927c4",
        "outputId": "1191c228-381d-4fb5-d154-3197454452c3",
        "colab": {
          "base_uri": "https://localhost:8080/"
        }
      },
      "outputs": [
        {
          "output_type": "execute_result",
          "data": {
            "text/plain": [
              "0"
            ]
          },
          "metadata": {},
          "execution_count": 46
        }
      ],
      "source": [
        "11 & 4  # 1011\n",
        "        # 0100\n",
        "        # 0000"
      ]
    },
    {
      "cell_type": "code",
      "execution_count": null,
      "id": "999805d0",
      "metadata": {
        "colab": {
          "base_uri": "https://localhost:8080/"
        },
        "id": "999805d0",
        "outputId": "a79e7e7e-1d5c-4cf5-e238-8022104dd1ad"
      },
      "outputs": [
        {
          "output_type": "execute_result",
          "data": {
            "text/plain": [
              "5"
            ]
          },
          "metadata": {},
          "execution_count": 47
        }
      ],
      "source": [
        "15 & 5  # 1111\n",
        "        # 0101\n",
        "        # 0101"
      ]
    },
    {
      "cell_type": "code",
      "execution_count": null,
      "id": "286f437c",
      "metadata": {
        "id": "286f437c"
      },
      "outputs": [],
      "source": [
        "Truth Table\n",
        "\n",
        "0  |  0  -- 0\n",
        "0  |  1  -- 1\n",
        "1  |  0  -- 1\n",
        "1  |  1  -- 1\n"
      ]
    },
    {
      "cell_type": "code",
      "execution_count": null,
      "id": "f3d6d741",
      "metadata": {
        "id": "f3d6d741",
        "outputId": "52844d74-63e9-45ef-c281-aa9f4bed294f",
        "colab": {
          "base_uri": "https://localhost:8080/"
        }
      },
      "outputs": [
        {
          "output_type": "execute_result",
          "data": {
            "text/plain": [
              "15"
            ]
          },
          "metadata": {},
          "execution_count": 48
        }
      ],
      "source": [
        "7 | 9  # 0111\n",
        "       # 1001\n",
        "       # 1111"
      ]
    },
    {
      "cell_type": "code",
      "source": [
        "(7 >5 ) or (9 < 10)"
      ],
      "metadata": {
        "colab": {
          "base_uri": "https://localhost:8080/"
        },
        "id": "MVil7bW7qxQx",
        "outputId": "2929c8c8-8a41-4eca-f879-3cb72c2b8f66"
      },
      "id": "MVil7bW7qxQx",
      "execution_count": null,
      "outputs": [
        {
          "output_type": "execute_result",
          "data": {
            "text/plain": [
              "True"
            ]
          },
          "metadata": {},
          "execution_count": 11
        }
      ]
    },
    {
      "cell_type": "code",
      "execution_count": null,
      "id": "bbbe7fa7",
      "metadata": {
        "id": "bbbe7fa7"
      },
      "outputs": [],
      "source": [
        "Truth Table\n",
        "\n",
        "0  ^  0  -- 0\n",
        "0  ^  1  -- 1\n",
        "1  ^  0  -- 1\n",
        "1  ^  1  -- 0\n"
      ]
    },
    {
      "cell_type": "code",
      "execution_count": null,
      "id": "96a41861",
      "metadata": {
        "id": "96a41861",
        "outputId": "3cf7f956-0c4d-41a8-d8b3-31a71acb467f",
        "colab": {
          "base_uri": "https://localhost:8080/"
        }
      },
      "outputs": [
        {
          "output_type": "execute_result",
          "data": {
            "text/plain": [
              "9"
            ]
          },
          "metadata": {},
          "execution_count": 49
        }
      ],
      "source": [
        "15 ^ 6  # 1111\n",
        "        # 0110\n",
        "        # 1001"
      ]
    },
    {
      "cell_type": "code",
      "execution_count": null,
      "id": "afd33e67",
      "metadata": {
        "colab": {
          "base_uri": "https://localhost:8080/"
        },
        "id": "afd33e67",
        "outputId": "d738c488-6d10-4b8d-8ac8-c7f4007f86a2"
      },
      "outputs": [
        {
          "output_type": "execute_result",
          "data": {
            "text/plain": [
              "32"
            ]
          },
          "metadata": {},
          "execution_count": 50
        }
      ],
      "source": [
        "8 << 2   #00100000\n",
        "         #000100000\n"
      ]
    },
    {
      "cell_type": "code",
      "execution_count": null,
      "id": "f94c7dae",
      "metadata": {
        "id": "f94c7dae",
        "outputId": "1523cf8d-66a1-4ebb-e07c-70ded4a9867d",
        "colab": {
          "base_uri": "https://localhost:8080/"
        }
      },
      "outputs": [
        {
          "output_type": "execute_result",
          "data": {
            "text/plain": [
              "88"
            ]
          },
          "metadata": {},
          "execution_count": 51
        }
      ],
      "source": [
        "11 << 3  # 01011000"
      ]
    },
    {
      "cell_type": "code",
      "source": [
        "88 << 2  # 255"
      ],
      "metadata": {
        "colab": {
          "base_uri": "https://localhost:8080/"
        },
        "id": "mG6DPbJI9wvh",
        "outputId": "91343c83-f22f-4127-cc98-67a2afd2e488"
      },
      "id": "mG6DPbJI9wvh",
      "execution_count": null,
      "outputs": [
        {
          "output_type": "execute_result",
          "data": {
            "text/plain": [
              "352"
            ]
          },
          "metadata": {},
          "execution_count": 52
        }
      ]
    },
    {
      "cell_type": "code",
      "source": [
        "import sys\n",
        "a = 5\n",
        "sys.getsizeof(a)"
      ],
      "metadata": {
        "colab": {
          "base_uri": "https://localhost:8080/"
        },
        "id": "ItLDVt_rFAOI",
        "outputId": "1d644c1d-ba4b-4a69-a791-cc888b6f8802"
      },
      "id": "ItLDVt_rFAOI",
      "execution_count": null,
      "outputs": [
        {
          "output_type": "execute_result",
          "data": {
            "text/plain": [
              "28"
            ]
          },
          "metadata": {},
          "execution_count": 19
        }
      ]
    },
    {
      "cell_type": "code",
      "source": [
        "sys.getsizeof?"
      ],
      "metadata": {
        "id": "xn4ljvUl_TXB"
      },
      "id": "xn4ljvUl_TXB",
      "execution_count": null,
      "outputs": []
    },
    {
      "cell_type": "code",
      "source": [
        "88 << 2 # 01011000\n",
        "        # 01100000"
      ],
      "metadata": {
        "colab": {
          "base_uri": "https://localhost:8080/"
        },
        "id": "1VYV6BLoEOzG",
        "outputId": "ae632bb9-defb-498a-9c99-cb11ec545fc8"
      },
      "id": "1VYV6BLoEOzG",
      "execution_count": null,
      "outputs": [
        {
          "output_type": "execute_result",
          "data": {
            "text/plain": [
              "352"
            ]
          },
          "metadata": {},
          "execution_count": 1
        }
      ]
    },
    {
      "cell_type": "code",
      "source": [],
      "metadata": {
        "id": "We3iynsPGjMQ"
      },
      "id": "We3iynsPGjMQ",
      "execution_count": null,
      "outputs": []
    },
    {
      "cell_type": "code",
      "execution_count": null,
      "id": "2e3af273",
      "metadata": {
        "colab": {
          "base_uri": "https://localhost:8080/"
        },
        "id": "2e3af273",
        "outputId": "dec7c093-4cdf-4533-d8c8-5eab4a643cc1"
      },
      "outputs": [
        {
          "output_type": "execute_result",
          "data": {
            "text/plain": [
              "1"
            ]
          },
          "metadata": {},
          "execution_count": 27
        }
      ],
      "source": [
        "# right shift\n",
        "          # 00000111\n",
        "7 >> 2    # 00000001"
      ]
    },
    {
      "cell_type": "code",
      "execution_count": null,
      "id": "56ee1e12",
      "metadata": {
        "id": "56ee1e12"
      },
      "outputs": [],
      "source": [
        "y = a*x+b"
      ]
    },
    {
      "cell_type": "code",
      "source": [
        "#int  x = 5;\n",
        "x = 5"
      ],
      "metadata": {
        "id": "79-LzkbXHb2G"
      },
      "id": "79-LzkbXHb2G",
      "execution_count": null,
      "outputs": []
    },
    {
      "cell_type": "code",
      "source": [
        "a = int(input(\"please enter a \"))\n",
        "x = int(input(\"please enter x \"))\n",
        "b = int(input(\"please enter b \"))\n",
        "\n",
        "y = a*x+b\n"
      ],
      "metadata": {
        "colab": {
          "base_uri": "https://localhost:8080/"
        },
        "id": "rJuuNlT4seU4",
        "outputId": "7d452a77-11d7-4993-cf18-ef3426c30804"
      },
      "id": "rJuuNlT4seU4",
      "execution_count": null,
      "outputs": [
        {
          "name": "stdout",
          "output_type": "stream",
          "text": [
            "please enter a 2\n",
            "please enter x 5\n",
            "please enter b 1\n"
          ]
        }
      ]
    },
    {
      "cell_type": "code",
      "source": [
        "print(y)"
      ],
      "metadata": {
        "colab": {
          "base_uri": "https://localhost:8080/"
        },
        "id": "1TGHSzU3ZhNs",
        "outputId": "ba616b1e-2055-4897-a724-0aa02ffe37de"
      },
      "id": "1TGHSzU3ZhNs",
      "execution_count": null,
      "outputs": [
        {
          "output_type": "stream",
          "name": "stdout",
          "text": [
            "11\n"
          ]
        }
      ]
    },
    {
      "cell_type": "code",
      "source": [
        "a = int(input(\"Please Enter your integer number \"))\n",
        "b = float(input(\"Please Enter your float number \"))"
      ],
      "metadata": {
        "colab": {
          "base_uri": "https://localhost:8080/"
        },
        "id": "IZCrVx2ZwkjZ",
        "outputId": "c6162347-3f2a-4285-e5d1-f0f5da9f02d6"
      },
      "id": "IZCrVx2ZwkjZ",
      "execution_count": null,
      "outputs": [
        {
          "name": "stdout",
          "output_type": "stream",
          "text": [
            "Please Enter your integer number 10\n",
            "Please Enter your float number 2\n"
          ]
        }
      ]
    },
    {
      "cell_type": "code",
      "source": [
        "y = a+b\n",
        "print(y)\n",
        "print(type(y))"
      ],
      "metadata": {
        "colab": {
          "base_uri": "https://localhost:8080/"
        },
        "id": "Q8fHX9rkw5iB",
        "outputId": "7083a145-a6ea-4a31-b569-1ce33b8c674d"
      },
      "id": "Q8fHX9rkw5iB",
      "execution_count": null,
      "outputs": [
        {
          "output_type": "stream",
          "name": "stdout",
          "text": [
            "15.25\n",
            "<class 'float'>\n"
          ]
        }
      ]
    },
    {
      "cell_type": "code",
      "source": [
        "z = a/b\n",
        "print(z)\n",
        "print(type(z))"
      ],
      "metadata": {
        "colab": {
          "base_uri": "https://localhost:8080/"
        },
        "id": "EV6fQmkJxKfo",
        "outputId": "42b44c16-9630-4acf-85dc-f04a0deebdd5"
      },
      "id": "EV6fQmkJxKfo",
      "execution_count": null,
      "outputs": [
        {
          "output_type": "stream",
          "name": "stdout",
          "text": [
            "5.0\n",
            "<class 'float'>\n"
          ]
        }
      ]
    },
    {
      "cell_type": "code",
      "source": [
        "a = 10\n",
        "a"
      ],
      "metadata": {
        "id": "5XY5-6ZJxT_B",
        "colab": {
          "base_uri": "https://localhost:8080/"
        },
        "outputId": "646ada76-a100-443b-e928-2698d241b289"
      },
      "id": "5XY5-6ZJxT_B",
      "execution_count": null,
      "outputs": [
        {
          "output_type": "execute_result",
          "data": {
            "text/plain": [
              "10"
            ]
          },
          "metadata": {},
          "execution_count": 55
        }
      ]
    }
  ],
  "metadata": {
    "kernelspec": {
      "display_name": "Python 3",
      "language": "python",
      "name": "python3"
    },
    "language_info": {
      "codemirror_mode": {
        "name": "ipython",
        "version": 3
      },
      "file_extension": ".py",
      "mimetype": "text/x-python",
      "name": "python",
      "nbconvert_exporter": "python",
      "pygments_lexer": "ipython3",
      "version": "3.8.10"
    },
    "colab": {
      "provenance": []
    }
  },
  "nbformat": 4,
  "nbformat_minor": 5
}