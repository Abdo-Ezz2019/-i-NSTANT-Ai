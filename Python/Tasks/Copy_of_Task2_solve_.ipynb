{
  "cells": [
    {
      "cell_type": "markdown",
      "metadata": {
        "id": "geChZ-GE43LW"
      },
      "source": [
        "##Write a program that asks the user to enter their name and age. The program should check if the user's age is greater than or equal to 18. If it is, the program should print a message saying they are eligible to vote. Otherwise, the program should print a message saying they are not eligible to vote due to being underage.\n"
      ]
    },
    {
      "cell_type": "code",
      "execution_count": null,
      "metadata": {
        "id": "WR7gSNd743Lh",
        "colab": {
          "base_uri": "https://localhost:8080/"
        },
        "outputId": "92a93c39-dc8a-489b-a5d8-10590ceaf7ed"
      },
      "outputs": [
        {
          "output_type": "stream",
          "name": "stdout",
          "text": [
            "Enter your name: abdelrahman\n",
            "Enter your age: 32\n",
            "You are eligible to vote.\n"
          ]
        }
      ],
      "source": [
        "name = input(\"Enter your name: \")\n",
        "age = int(input(\"Enter your age: \"))\n",
        "if age >= 18:\n",
        "    print(\"You are eligible to vote.\")\n",
        "else:\n",
        "    print(\"You are not eligible to vote due to being underage.\")"
      ]
    },
    {
      "cell_type": "markdown",
      "metadata": {
        "id": "1tpbzQZ443Lp"
      },
      "source": [
        "# Given 4 numbers A, B, C and D. Print the last 2 digits from their Multiplication.\n",
        "### Example :\n",
        "### the Multiplication of 4 numbers is 5 * 7 * 2 * 4 = 280 so the answer will be the last 2 digits which are 80."
      ]
    },
    {
      "cell_type": "code",
      "execution_count": null,
      "metadata": {
        "id": "HDfxxvFC43Lr",
        "colab": {
          "base_uri": "https://localhost:8080/"
        },
        "outputId": "04e0e7fe-8506-4890-a820-b4a398f8db58"
      },
      "outputs": [
        {
          "output_type": "stream",
          "name": "stdout",
          "text": [
            "Please enter a number1: 5\n",
            "Please enter a number2: 7\n",
            "Please enter a number3: 2\n",
            "Please enter a number4: 4\n",
            "80\n"
          ]
        }
      ],
      "source": [
        "num1=int(input(\"Please enter a number1: \"))\n",
        "num2=int(input(\"Please enter a number2: \"))\n",
        "num3=int(input(\"Please enter a number3: \"))\n",
        "num4=int(input(\"Please enter a number4: \"))\n",
        "mul=num1*num2*num3*num4\n",
        "i=mul%100\n",
        "print(i)\n"
      ]
    },
    {
      "cell_type": "markdown",
      "metadata": {
        "id": "RyMtOjFK43Ls"
      },
      "source": [
        "# Write a Python program to remove spaces from a given string without string method solve it using while loop"
      ]
    },
    {
      "cell_type": "code",
      "source": [
        "name=input(\"Enter the string \")\n",
        "i=0\n",
        "while i<len(name):\n",
        "    if name[i]==\" \":\n",
        "        name=name.replace(name[i],\"\")\n",
        "    i+=1\n",
        "print(name)"
      ],
      "metadata": {
        "id": "NOtYddnGvd2K",
        "colab": {
          "base_uri": "https://localhost:8080/"
        },
        "outputId": "327b86da-2b3a-40c3-c835-b006ab6e2864"
      },
      "execution_count": null,
      "outputs": [
        {
          "output_type": "stream",
          "name": "stdout",
          "text": [
            "Enter the string abdo Ezz\n",
            "abdoEzz\n"
          ]
        }
      ]
    },
    {
      "cell_type": "markdown",
      "metadata": {
        "id": "asXyBcTW43Lt"
      },
      "source": [
        "## Write a Python program that takes an integer as input and checks if it is even or odd. Print \"Even\" if the number is divisible by 2, otherwise print \"Odd\"."
      ]
    },
    {
      "cell_type": "code",
      "execution_count": null,
      "metadata": {
        "id": "f_l6ujFJ43Lu",
        "colab": {
          "base_uri": "https://localhost:8080/"
        },
        "outputId": "50749621-e6d7-4e84-e15a-76436b4b1bbe"
      },
      "outputs": [
        {
          "output_type": "stream",
          "name": "stdout",
          "text": [
            "Enter the number 50\n",
            "Even\n"
          ]
        }
      ],
      "source": [
        "num=int(input(\"Enter the number \"))\n",
        "if num%2==0:\n",
        "    print(\"Even\")\n",
        "else:\n",
        "    print(\"Odd\")\n"
      ]
    },
    {
      "cell_type": "markdown",
      "metadata": {
        "id": "yeJUsc3F43Lu"
      },
      "source": [
        "# Write a program to Create 3 variables to store street, city and country, now create address variable to store entire address , using + operator .Now Print the address in such a way that the street, city and country prints in a separate line"
      ]
    },
    {
      "cell_type": "code",
      "execution_count": null,
      "metadata": {
        "id": "kNg8mhlG43Ly",
        "colab": {
          "base_uri": "https://localhost:8080/"
        },
        "outputId": "92214cb9-affa-4b51-c32b-6bb762076ac0"
      },
      "outputs": [
        {
          "output_type": "stream",
          "name": "stdout",
          "text": [
            "Enter the street name EL Slam str\n",
            "Enter the city name Cairo\n",
            "Enter the country name Egypt\n",
            "EL Slam str\n",
            "Cairo\n",
            "Egypt\n"
          ]
        }
      ],
      "source": [
        "street=input(\"Enter the street name \")\n",
        "city=input(\"Enter the city name \")\n",
        "country=input(\"Enter the country name \")\n",
        "address=street+\"\\n\"+city+\"\\n\"+country\n",
        "print(address)\n"
      ]
    },
    {
      "cell_type": "markdown",
      "metadata": {
        "id": "hq0K8xNu43L0"
      },
      "source": [
        "# Write a Python program to reverse a number\n",
        "# Example : number 1235              "
      ]
    },
    {
      "cell_type": "code",
      "execution_count": null,
      "metadata": {
        "id": "aEWTu0yb43L1",
        "colab": {
          "base_uri": "https://localhost:8080/"
        },
        "outputId": "5c25bff5-0eab-4497-fa11-4f45665c45b8"
      },
      "outputs": [
        {
          "output_type": "stream",
          "name": "stdout",
          "text": [
            "Please enter a number: 1235\n",
            "5321"
          ]
        }
      ],
      "source": [
        "num=int(input(\"Please enter a number: \"))\n",
        "while num > 0 :\n",
        "    r=num%10         # split the last num 123 num=3\n",
        "    print(r,end=\"\")\n",
        "    num=num//10       # floor division to make 12\n"
      ]
    },
    {
      "cell_type": "markdown",
      "metadata": {
        "id": "JA4FLCdF43L1"
      },
      "source": [
        "#  Write a program that uses a while loop to print all even numbers in range taken from user."
      ]
    },
    {
      "cell_type": "code",
      "execution_count": null,
      "metadata": {
        "id": "E5N7K9iu43L2",
        "colab": {
          "base_uri": "https://localhost:8080/"
        },
        "outputId": "eea9e639-03d1-4e62-b3cd-3670325a57e6"
      },
      "outputs": [
        {
          "output_type": "stream",
          "name": "stdout",
          "text": [
            "Enter the max number 10\n",
            "the even number  2\n",
            "the even number  4\n",
            "the even number  6\n",
            "the even number  8\n",
            "the even number  10\n"
          ]
        }
      ],
      "source": [
        "num=int(input(\"Enter the max number \"))\n",
        "i=1\n",
        "while i <= num :\n",
        "  if i %2 != 0 : # the number is odd\n",
        "    i += 1\n",
        "    continue\n",
        "  print(\"the even number \",i)         # the number is even\n",
        "  i += 1"
      ]
    },
    {
      "cell_type": "markdown",
      "metadata": {
        "id": "3q-7CwWc43L2"
      },
      "source": [
        "# Write a program that asks the user to enter a number and then prints its multiplication table up to 10 using a while loop"
      ]
    },
    {
      "cell_type": "code",
      "execution_count": null,
      "metadata": {
        "id": "Yh88Fadh43L2",
        "colab": {
          "base_uri": "https://localhost:8080/"
        },
        "outputId": "6d2adc79-5ecb-4608-d8a7-167839cf7242"
      },
      "outputs": [
        {
          "output_type": "stream",
          "name": "stdout",
          "text": [
            "Enter the number 3\n",
            "3 * 1 = 3\n",
            "3 * 2 = 6\n",
            "3 * 3 = 9\n",
            "3 * 4 = 12\n",
            "3 * 5 = 15\n",
            "3 * 6 = 18\n",
            "3 * 7 = 21\n",
            "3 * 8 = 24\n",
            "3 * 9 = 27\n",
            "3 * 10 = 30\n"
          ]
        }
      ],
      "source": [
        "num=int(input(\"Enter the number \"))\n",
        "i=1\n",
        "while i <= 10 :\n",
        "    print(num,\"*\",i,\"=\",num*i)\n",
        "    i+=1\n"
      ]
    },
    {
      "cell_type": "markdown",
      "metadata": {
        "id": "TM1ImfqO43L3"
      },
      "source": [
        "# Write a program that uses a while loop to print the squares of numbers from 1 to n, where n is entered by the user"
      ]
    },
    {
      "cell_type": "code",
      "source": [
        "n=int(input(\"Enter the number \"))\n",
        "i=1\n",
        "while i <= n :\n",
        "  print( i,\"number square = \",i*i)\n",
        "  i+=1\n",
        "\n"
      ],
      "metadata": {
        "id": "G3jrHDpmtzhN",
        "colab": {
          "base_uri": "https://localhost:8080/"
        },
        "outputId": "1c292825-1bc2-45e2-aa6d-37ab06c732d1"
      },
      "execution_count": null,
      "outputs": [
        {
          "output_type": "stream",
          "name": "stdout",
          "text": [
            "Enter the number 5\n",
            "1 number square =  1\n",
            "2 number square =  4\n",
            "3 number square =  9\n",
            "4 number square =  16\n",
            "5 number square =  25\n"
          ]
        }
      ]
    },
    {
      "cell_type": "markdown",
      "source": [
        "# Task (2)\n",
        "how can negative numbers be reversed using while loop?\n"
      ],
      "metadata": {
        "id": "9JAm2BeKf6iM"
      }
    },
    {
      "cell_type": "code",
      "source": [
        "num = int(input(\"Please Enter a number \"))\n",
        "if num < 0:\n",
        "  num=num*-1\n",
        "  while num > 0 :\n",
        "    r=num%10         # split the last num 123 num=3\n",
        "    print(r,end=\"\")\n",
        "    num=num//10       # floor division to make 12\n",
        "elif num > 0 :\n",
        "    reversed_num = int(str(num)[::-1])\n",
        "    print(reversed_num)\n",
        "print(\"-\")"
      ],
      "metadata": {
        "colab": {
          "base_uri": "https://localhost:8080/"
        },
        "id": "_UCvl4M9fh5X",
        "outputId": "f3383480-63a3-467e-aac6-c05e48fd3216"
      },
      "execution_count": null,
      "outputs": [
        {
          "output_type": "stream",
          "name": "stdout",
          "text": [
            "Please Enter a number -120\n",
            "021-\n"
          ]
        }
      ]
    },
    {
      "cell_type": "code",
      "source": [],
      "metadata": {
        "id": "bWIkWvUMgD2a"
      },
      "execution_count": null,
      "outputs": []
    }
  ],
  "metadata": {
    "kernelspec": {
      "display_name": "Python 3",
      "name": "python3"
    },
    "language_info": {
      "codemirror_mode": {
        "name": "ipython",
        "version": 3
      },
      "file_extension": ".py",
      "mimetype": "text/x-python",
      "name": "python",
      "nbconvert_exporter": "python",
      "pygments_lexer": "ipython3",
      "version": "3.12.4"
    },
    "colab": {
      "provenance": []
    }
  },
  "nbformat": 4,
  "nbformat_minor": 0
}