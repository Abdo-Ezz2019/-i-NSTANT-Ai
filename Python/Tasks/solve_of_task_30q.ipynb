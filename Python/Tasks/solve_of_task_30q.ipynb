{
  "nbformat": 4,
  "nbformat_minor": 0,
  "metadata": {
    "colab": {
      "provenance": []
    },
    "kernelspec": {
      "name": "python3",
      "display_name": "Python 3"
    },
    "language_info": {
      "name": "python"
    }
  },
  "cells": [
    {
      "cell_type": "markdown",
      "source": [
        "**1-Write a Python program to calculate the length of a string using 2 ways\n"
      ],
      "metadata": {
        "id": "rXUTGE16dPUt"
      }
    },
    {
      "cell_type": "code",
      "source": [
        "s=input(\"enter string: \")\n",
        "print(len(s))\n",
        "\n",
        "print(\"--\"*25)\n",
        "print(\"##\"*25)\n",
        "print(\"--\"*25)\n",
        "print(\"use for loop \")\n",
        "print(\"--\"*25)\n",
        "count=0\n",
        "for i in s:\n",
        "    count+=1\n",
        "print(count)\n",
        "\n",
        "print(\"--\"*25)\n",
        "print(\"##\"*25)\n",
        "print(\"--\"*25)\n",
        "\n",
        "print(\"use while loop \")\n",
        "print(\"--\"*25)\n",
        "\n",
        "s=s+\"\\0\"\n",
        "count=0\n",
        "while True:\n",
        "  if s[count]=='\\0':\n",
        "    break\n",
        "  elif s[count]!='\\0':\n",
        "    count+=1\n",
        "print(count)\n",
        "\n",
        "print(\"--\"*25)\n",
        "print(\"##\"*25)\n",
        "print(\"--\"*25)\n",
        "\n",
        "print(\"use try and except\")\n",
        "print(\"--\"*25)\n",
        "count=0\n",
        "i=0\n",
        "while True:\n",
        "  try:\n",
        "    _=s[i]\n",
        "    count+=1\n",
        "    i+=1\n",
        "  except IndexError:\n",
        "    break\n",
        "print(count-1)\n",
        "\n"
      ],
      "metadata": {
        "id": "HsQg4wB3dT6W",
        "colab": {
          "base_uri": "https://localhost:8080/"
        },
        "outputId": "7f88d4c1-1ced-4cdc-cdf2-92ab94ba6dd5"
      },
      "execution_count": null,
      "outputs": [
        {
          "output_type": "stream",
          "name": "stdout",
          "text": [
            "enter string: abdo EZZ\n",
            "8\n",
            "--------------------------------------------------\n",
            "##################################################\n",
            "--------------------------------------------------\n",
            "use for loop \n",
            "--------------------------------------------------\n",
            "8\n",
            "--------------------------------------------------\n",
            "##################################################\n",
            "--------------------------------------------------\n",
            "use while loop \n",
            "--------------------------------------------------\n",
            "8\n",
            "--------------------------------------------------\n",
            "##################################################\n",
            "--------------------------------------------------\n",
            "use try and except\n",
            "--------------------------------------------------\n",
            "8\n"
          ]
        }
      ]
    },
    {
      "cell_type": "code",
      "source": [],
      "metadata": {
        "id": "gscPvOaldUIl"
      },
      "execution_count": null,
      "outputs": []
    },
    {
      "cell_type": "markdown",
      "source": [
        "**2-Write a Python program to get a string made of the first 2 and last 2 characters of a given string. If the string length is less than 2, return the empty string instead (\"##Sample String : 'w3resource' Expected Result : 'w3ce'\n",
        "\n",
        "Sample String : 'w3'\n",
        "Expected Result : 'w3w3'\n",
        "\n",
        "Sample String : ' w'\n",
        "Expected Result : Empty String)"
      ],
      "metadata": {
        "id": "N18AMMrwdXV4"
      }
    },
    {
      "cell_type": "code",
      "source": [
        "s=input(\"enter string: \")\n",
        "if len(s)<2:\n",
        "  print('Empty String')\n",
        "else:\n",
        "  print(s[:2]+s[-2:])"
      ],
      "metadata": {
        "id": "KjftoSS4ddEg",
        "colab": {
          "base_uri": "https://localhost:8080/"
        },
        "outputId": "8f6513b7-5033-4cfe-d0b7-76d8ca989544"
      },
      "execution_count": null,
      "outputs": [
        {
          "output_type": "stream",
          "name": "stdout",
          "text": [
            "enter string: w\n",
            "w\n"
          ]
        }
      ]
    },
    {
      "cell_type": "markdown",
      "source": [
        "**3-Write a Python program to add 'ing' at the end of a given string (length should be at least 3). If the given string already ends with 'ing', add 'ly' instead. If the string length of the given string is less than 3, leave it unchanged. (Sample String : 'abc'\n",
        "Expected Result : 'abcing')"
      ],
      "metadata": {
        "id": "rFddzW2UdePa"
      }
    },
    {
      "cell_type": "code",
      "source": [
        "s=input(\"enter string: \")\n",
        "if len(s)<3:\n",
        "  print(\"should be at least 3\")\n",
        "elif s[-3:]==\"ing\":    # the last char is 3 == ing\n",
        "  print(s+\"ly\")\n",
        "else:\n",
        "  print(s+\"ing\")\n"
      ],
      "metadata": {
        "id": "o1HQYwTJdoQ3",
        "colab": {
          "base_uri": "https://localhost:8080/"
        },
        "outputId": "63270a6d-0b7c-4491-d5bf-544bb3fb286a"
      },
      "execution_count": null,
      "outputs": [
        {
          "output_type": "stream",
          "name": "stdout",
          "text": [
            "enter string: sd\n",
            "should be at least 3 sd\n"
          ]
        }
      ]
    },
    {
      "cell_type": "code",
      "source": [],
      "metadata": {
        "id": "qirmQDwldom1"
      },
      "execution_count": null,
      "outputs": []
    },
    {
      "cell_type": "markdown",
      "source": [
        "**4-Write a Python function that takes a list of words and return the longest word and the length of the longest one\n",
        "(Longest word: Exercises\n",
        "Length of the longest word: 9)"
      ],
      "metadata": {
        "id": "zbJ0gLgZdu-E"
      }
    },
    {
      "cell_type": "code",
      "source": [
        "def find_longest_word(words_list):\n",
        "    word_len = []\n",
        "    for n in words_list:\n",
        "        word_len.append((len(n), n))\n",
        "    word_len.sort() # to make the final of the list is the max one\n",
        "    return word_len\n",
        "\n",
        "def the_longest (w) :\n",
        "  print(find_longest_word(w)[-1][1]) # to show the longest one\n",
        "  print(find_longest_word(w)[-1][0]) # to show the length of it\n",
        "\n",
        "\n",
        "\n",
        "w=[\"abdo\",\"EZZZZZ\",\"Anas\"]\n",
        "find_longest_word(w)\n",
        "the_longest(w)\n"
      ],
      "metadata": {
        "id": "kivCV-CadvsZ",
        "colab": {
          "base_uri": "https://localhost:8080/"
        },
        "outputId": "e63ba52a-38a7-4711-a8f5-3cc7a9402ff0"
      },
      "execution_count": null,
      "outputs": [
        {
          "output_type": "stream",
          "name": "stdout",
          "text": [
            "EZZZZZ\n",
            "6\n"
          ]
        }
      ]
    },
    {
      "cell_type": "markdown",
      "source": [
        "**5-Write a Python program to change a given string to a newly string where the first and last chars have been exchanged using 2 ways (Sample String:abca  Expected Result:ebce)"
      ],
      "metadata": {
        "id": "MaAgqEcNdxFk"
      }
    },
    {
      "cell_type": "code",
      "source": [
        "s=input(\"enter string: \")\n",
        "print(s[-1]+s[1:-1]+s[0])\n",
        "\n",
        "\n",
        "\n",
        "print(\"--\"*25)\n",
        "print(\"##\"*25)\n",
        "print(\"--\"*25)\n",
        "\n",
        "print(\"use lists\")\n",
        "print(\"--\"*25)\n",
        "\n",
        "s1=\"abdo\"\n",
        "s1=list(s1)\n",
        "print(type(s1),s1)\n",
        "s1[-1] , s1[0]=s1[0],s1[-1]\n",
        "print(s1)\n",
        "s1 = \"\".join(s1)\n",
        "print(type(s1),s1)"
      ],
      "metadata": {
        "id": "JY_k3iy_d1ZI",
        "colab": {
          "base_uri": "https://localhost:8080/"
        },
        "outputId": "60f00f9c-e787-42d9-ce2b-06b50bff124e"
      },
      "execution_count": null,
      "outputs": [
        {
          "output_type": "stream",
          "name": "stdout",
          "text": [
            "enter string: abdo\n",
            "obda\n",
            "--------------------------------------------------\n",
            "##################################################\n",
            "--------------------------------------------------\n",
            "use lists\n",
            "--------------------------------------------------\n",
            "<class 'list'> ['a', 'b', 'd', 'o']\n",
            "['o', 'b', 'd', 'a']\n",
            "<class 'str'> obda\n"
          ]
        }
      ]
    },
    {
      "cell_type": "markdown",
      "source": [
        "**6-Write a Python program to remove characters that have odd index values in a given string (Sample String:abca Expected Result:ac)"
      ],
      "metadata": {
        "id": "kIBRcJBLd1z5"
      }
    },
    {
      "cell_type": "code",
      "source": [
        "s=input(\"enter string: \")\n",
        "print(s[0::2])    # step =2 the eve numper"
      ],
      "metadata": {
        "id": "GmALUDLld7Oo",
        "colab": {
          "base_uri": "https://localhost:8080/"
        },
        "outputId": "12b4a008-aef5-4026-f2f8-0b26684e8d55"
      },
      "execution_count": null,
      "outputs": [
        {
          "output_type": "stream",
          "name": "stdout",
          "text": [
            "enter string: abca\n",
            "ac\n"
          ]
        }
      ]
    },
    {
      "cell_type": "markdown",
      "source": [
        "**7-Write a Python program to count the occurrences of each word in a given sentence (Sample String:amr and ahmed are frindes but amr is the tallest Expected Result:2)"
      ],
      "metadata": {
        "id": "HA9Dpolfd7rH"
      }
    },
    {
      "cell_type": "code",
      "source": [
        "s='amr and ahmed are frindes but amr is the tallest'\n",
        "w='amr'\n",
        "count=s.split().count(w)\n",
        "print(count)"
      ],
      "metadata": {
        "id": "X9mXSksjeAEU",
        "colab": {
          "base_uri": "https://localhost:8080/"
        },
        "outputId": "21f28a5f-4bad-4fd7-b82a-78144ca318fc"
      },
      "execution_count": null,
      "outputs": [
        {
          "output_type": "stream",
          "name": "stdout",
          "text": [
            "2\n"
          ]
        }
      ]
    },
    {
      "cell_type": "code",
      "source": [],
      "metadata": {
        "id": "aGRFMjnpeArE"
      },
      "execution_count": null,
      "outputs": []
    },
    {
      "cell_type": "markdown",
      "source": [
        "**8-Write a Python script that takes input from the user and displays that input back in upper and lower cases"
      ],
      "metadata": {
        "id": "_-EkTxFTeA3B"
      }
    },
    {
      "cell_type": "code",
      "source": [
        "s=input(\"enter string: \")\n",
        "print(s.upper())\n",
        "print(s.lower())\n"
      ],
      "metadata": {
        "id": "B9qvZeGOeEiU",
        "colab": {
          "base_uri": "https://localhost:8080/"
        },
        "outputId": "733839f4-870a-4d92-f8ff-d5c17d1289d9"
      },
      "execution_count": null,
      "outputs": [
        {
          "output_type": "stream",
          "name": "stdout",
          "text": [
            "enter string: abdo\n",
            "ABDO\n",
            "abdo\n"
          ]
        }
      ]
    },
    {
      "cell_type": "markdown",
      "source": [
        "**9-Write a Python function to reverse a string if its length is a multiple of 4"
      ],
      "metadata": {
        "id": "ydkMfPGeeE0C"
      }
    },
    {
      "cell_type": "code",
      "source": [
        "def reves_fun (w) :\n",
        "  if len(w) %4 == 0 :\n",
        "    w=w[::-1]\n",
        "    return(w)\n",
        "  else :\n",
        "    print(\"the length is not a multiple of 4 \")\n",
        "    return(None)\n",
        "\n",
        "s=input(\"enter string: \")\n",
        "a=reves_fun(s)\n",
        "print(a)\n"
      ],
      "metadata": {
        "id": "qLF9nDDVeJlH",
        "colab": {
          "base_uri": "https://localhost:8080/"
        },
        "outputId": "75dd0158-6150-4d8d-c398-8e55bb5e9266"
      },
      "execution_count": null,
      "outputs": [
        {
          "output_type": "stream",
          "name": "stdout",
          "text": [
            "enter string: absdlaksn\n",
            "the length is not a multiple of 4 \n",
            "None\n"
          ]
        }
      ]
    },
    {
      "cell_type": "markdown",
      "source": [
        "**10- Write a Python program to remove a newline in Python"
      ],
      "metadata": {
        "id": "Wc-vlmwuH1mV"
      }
    },
    {
      "cell_type": "code",
      "source": [
        "s=\"abdo\\nhi \"\n",
        "print(s)\n",
        "s=s.replace(\"\\n\",\" \")\n",
        "print(s)\n"
      ],
      "metadata": {
        "id": "AWut03yueOHU",
        "colab": {
          "base_uri": "https://localhost:8080/"
        },
        "outputId": "37d4a590-7ed2-48f7-e53c-834e4e8053e6"
      },
      "execution_count": null,
      "outputs": [
        {
          "output_type": "stream",
          "name": "stdout",
          "text": [
            "abdo\n",
            "hi \n",
            "abdo hi \n"
          ]
        }
      ]
    },
    {
      "cell_type": "markdown",
      "source": [
        "**11-Write a Python program to check whether a string starts with specified characters"
      ],
      "metadata": {
        "id": "r4r52gmgePHH"
      }
    },
    {
      "cell_type": "code",
      "source": [
        "s=input(\"enter string: \")\n",
        "pre=input(\"enter prefix: \")\n",
        "i=0\n",
        "while True :\n",
        "  if pre[i] == s[i] :\n",
        "    i+=1\n",
        "    if i == len(pre) :\n",
        "      print(\"yes\")\n",
        "      break\n",
        "  else :\n",
        "    print(\"no\")\n",
        "    break\n"
      ],
      "metadata": {
        "id": "hlP0wmFzeS7k",
        "colab": {
          "base_uri": "https://localhost:8080/"
        },
        "outputId": "7d713ca9-93de-4ec1-c8d6-5c646ee90139"
      },
      "execution_count": null,
      "outputs": [
        {
          "output_type": "stream",
          "name": "stdout",
          "text": [
            "enter string: abdo hi \n",
            "enter prefix: hi\n",
            "no\n"
          ]
        }
      ]
    },
    {
      "cell_type": "markdown",
      "source": [
        "**12- Write a Python program to add prefix text to all of the lines in a string\n",
        "\n",
        "\n"
      ],
      "metadata": {
        "id": "eqnjo55neTgO"
      }
    },
    {
      "cell_type": "code",
      "source": [
        "text = \"Hello\\nWorld\\nFrom Python\"\n",
        "\n",
        "prefix = \"[*]\"\n",
        "lines = text.split('\\n')\n",
        "for line in lines:\n",
        "    print(prefix + line)\n"
      ],
      "metadata": {
        "id": "ghohEJqteWsu",
        "colab": {
          "base_uri": "https://localhost:8080/"
        },
        "outputId": "96dd93cb-2a78-4d2b-b77b-7c233ca97e39"
      },
      "execution_count": null,
      "outputs": [
        {
          "output_type": "stream",
          "name": "stdout",
          "text": [
            "[*]Hello\n",
            "[*]World\n",
            "[*]From Python\n"
          ]
        }
      ]
    },
    {
      "cell_type": "markdown",
      "source": [
        "**13-Write a Python program to print the following numbers up to 2 decimal places:"
      ],
      "metadata": {
        "id": "AU68jxukecj9"
      }
    },
    {
      "cell_type": "code",
      "source": [
        "numbers = [3.14159, 2.71828, 1.41421, 0.33333, 10.98765]\n",
        "\n",
        "for num in numbers:\n",
        "    print(f\"{num:.2f} \")\n"
      ],
      "metadata": {
        "id": "jfIhe-8KehhT",
        "colab": {
          "base_uri": "https://localhost:8080/"
        },
        "outputId": "d0d89670-01d1-4598-bfaa-003e5b629cf0"
      },
      "execution_count": null,
      "outputs": [
        {
          "output_type": "stream",
          "name": "stdout",
          "text": [
            "3.14\n",
            "2.72\n",
            "1.41\n",
            "0.33\n",
            "10.99\n"
          ]
        }
      ]
    },
    {
      "cell_type": "markdown",
      "source": [
        "**14-Write a Python program to print the following numbers up to 2 decimal places with a sign"
      ],
      "metadata": {
        "id": "Bmgsh9tIejVc"
      }
    },
    {
      "cell_type": "code",
      "source": [
        "numbers = [3.14159, -2.71828, 1.41421, 0.33333, 10.98765]\n",
        "\n",
        "for num in numbers:\n",
        "    print(f\"{num:+.2f} \")"
      ],
      "metadata": {
        "id": "5nqq7qF-eovn",
        "colab": {
          "base_uri": "https://localhost:8080/"
        },
        "outputId": "2be81e22-e000-4a3d-c75b-5e3efa7b1b61"
      },
      "execution_count": null,
      "outputs": [
        {
          "output_type": "stream",
          "name": "stdout",
          "text": [
            "+3.14 \n",
            "-2.72 \n",
            "+1.41 \n",
            "+0.33 \n",
            "+10.99 \n"
          ]
        }
      ]
    },
    {
      "cell_type": "markdown",
      "source": [
        "**15-Write a Python program to display a number with a comma separator\n",
        "\n",
        "\n"
      ],
      "metadata": {
        "id": "Tu_fUfkEepFN"
      }
    },
    {
      "cell_type": "code",
      "source": [
        "num=123456789\n",
        "print(f\"{num:,}\")"
      ],
      "metadata": {
        "id": "YhB02IZNesv2",
        "colab": {
          "base_uri": "https://localhost:8080/"
        },
        "outputId": "c9c49bcc-75c2-4ffb-c675-774848b845bf"
      },
      "execution_count": null,
      "outputs": [
        {
          "output_type": "stream",
          "name": "stdout",
          "text": [
            "123,456,789\n"
          ]
        }
      ]
    },
    {
      "cell_type": "markdown",
      "source": [
        "\n",
        "\n",
        "\n",
        "**16-Write a Python program to reverse a string using 2 ways"
      ],
      "metadata": {
        "id": "2HNB9RQMe_JR"
      }
    },
    {
      "cell_type": "code",
      "source": [
        "def reves_fun (w) :\n",
        "  if len(w)==0 :\n",
        "    return w\n",
        "  else :\n",
        "    return reves_fun(w[1:]) + w[0]\n",
        "\n",
        "print(\"use slicing\")\n",
        "s=input(\"enter string: \")\n",
        "print(s[::-1])\n",
        "\n",
        "print(\"--\"*25)\n",
        "print(\"##\"*25)\n",
        "print(\"--\"*25)\n",
        "\n",
        "print(\"use recursion\")\n",
        "print(reves_fun(s))\n",
        "\n",
        "\n"
      ],
      "metadata": {
        "id": "ZS-L8CiCe_71",
        "colab": {
          "base_uri": "https://localhost:8080/"
        },
        "outputId": "1a9b75d3-8a21-4329-f87b-9f835600045a"
      },
      "execution_count": null,
      "outputs": [
        {
          "output_type": "stream",
          "name": "stdout",
          "text": [
            "use slicing\n",
            "enter string: abdo\n",
            "odba\n",
            "--------------------------------------------------\n",
            "##################################################\n",
            "--------------------------------------------------\n",
            "use recursion\n",
            "odba\n"
          ]
        }
      ]
    },
    {
      "cell_type": "markdown",
      "source": [
        "\n",
        "**17-Write a Python program to count repeated characters in a string (hint:use dictionary)"
      ],
      "metadata": {
        "id": "FED79pnVfAiK"
      }
    },
    {
      "cell_type": "code",
      "source": [
        "s=input(\"enter string: \")\n",
        "d={}\n",
        "for i in s:\n",
        "  if i in d:\n",
        "    d[i]+=1\n",
        "  else:\n",
        "    d[i]=1\n",
        "print(d)\n"
      ],
      "metadata": {
        "id": "VEtbIcI_fDtb",
        "colab": {
          "base_uri": "https://localhost:8080/"
        },
        "outputId": "e684a24e-2e72-42b4-d25d-61e09ff362dc"
      },
      "execution_count": null,
      "outputs": [
        {
          "output_type": "stream",
          "name": "stdout",
          "text": [
            "enter string: abddddooo\n",
            "{'a': 1, 'b': 1, 'd': 4, 'o': 3}\n"
          ]
        }
      ]
    },
    {
      "cell_type": "markdown",
      "source": [
        "**18-Write a Python program to find the first non-repeating character in a given string\n",
        "\n",
        "\n"
      ],
      "metadata": {
        "id": "D_mTmarPfGfc"
      }
    },
    {
      "cell_type": "code",
      "source": [
        "def non_repeating_char(s):\n",
        "    d = {}\n",
        "    for i in s:\n",
        "        if i in d:\n",
        "            d[i] += 1\n",
        "        else:\n",
        "            d[i] = 1\n",
        "    for i in s:\n",
        "        if d[i] == 1:\n",
        "            return i\n",
        "    return None\n",
        "\n",
        "s=input(\"enter string: \")\n",
        "print(non_repeating_char(s))\n"
      ],
      "metadata": {
        "id": "3_oAOFUwfHJh",
        "colab": {
          "base_uri": "https://localhost:8080/"
        },
        "outputId": "54820488-6af2-4964-97f0-02477296a1d7"
      },
      "execution_count": null,
      "outputs": [
        {
          "output_type": "stream",
          "name": "stdout",
          "text": [
            "enter string: aaaadddsssssfffghhhh\n",
            "g\n"
          ]
        }
      ]
    },
    {
      "cell_type": "markdown",
      "source": [
        "**19-Write a Python program to remove spaces from a given string"
      ],
      "metadata": {
        "id": "47Vo-UlKfHc5"
      }
    },
    {
      "cell_type": "code",
      "source": [
        "s=input(\"enter string: \")\n",
        "print(s.replace(\" \",\"\"))\n"
      ],
      "metadata": {
        "id": "aZtJdHS_fKii",
        "colab": {
          "base_uri": "https://localhost:8080/"
        },
        "outputId": "d12462e1-54c7-4a6e-c735-df7e26aad810"
      },
      "execution_count": null,
      "outputs": [
        {
          "output_type": "stream",
          "name": "stdout",
          "text": [
            "enter string: abdo ezz\n",
            "abdoezz\n"
          ]
        }
      ]
    },
    {
      "cell_type": "markdown",
      "source": [
        "**20-Write a Python program to count the number of non-empty\n",
        "\n",
        "substrings of a given string"
      ],
      "metadata": {
        "id": "LtSYtnuufLAE"
      }
    },
    {
      "cell_type": "code",
      "source": [
        "def substrings (n) :\n",
        "  n=len(n)\n",
        "  return int(n*(n+1)/2)\n",
        "\n",
        "s=input(\"enter string: \")\n",
        "print(substrings(s))"
      ],
      "metadata": {
        "id": "OPOO9jGEfN-n",
        "colab": {
          "base_uri": "https://localhost:8080/"
        },
        "outputId": "d29f6af0-6f41-4820-aacb-ed6be44df30d"
      },
      "execution_count": null,
      "outputs": [
        {
          "output_type": "stream",
          "name": "stdout",
          "text": [
            "enter string: abc\n",
            "6\n"
          ]
        }
      ]
    },
    {
      "cell_type": "markdown",
      "source": [
        "**21-write a Python program to swap first and last element of any list."
      ],
      "metadata": {
        "id": "vtVetl8EfOa4"
      }
    },
    {
      "cell_type": "code",
      "source": [
        "s1=list(input(\"enter list: \"))\n",
        "s1[-1] , s1[0]=s1[0],s1[-1]\n",
        "print(s1)\n"
      ],
      "metadata": {
        "id": "hslm-s0xfRTK",
        "colab": {
          "base_uri": "https://localhost:8080/"
        },
        "outputId": "05b954e7-3607-4312-af08-5e6674156c29"
      },
      "execution_count": null,
      "outputs": [
        {
          "output_type": "stream",
          "name": "stdout",
          "text": [
            "enter list: abdoezz\n",
            "['z', 'b', 'd', 'o', 'e', 'z', 'a']\n"
          ]
        }
      ]
    },
    {
      "cell_type": "markdown",
      "source": [
        "**22-Given a list in Python and provided the positions of the elements, write a program to swap the two elements in the list. (Input : List = [23, 65, 19, 90], pos1 = 1, pos2 = 3 Output : [19, 65, 23, 90])"
      ],
      "metadata": {
        "id": "49FRwLGKfRhw"
      }
    },
    {
      "cell_type": "code",
      "source": [
        "l=input(\"enter list: \")\n",
        "l=l.split()\n",
        "l=list(l)\n",
        "pos1=int(input(\"enter pos1: \"))\n",
        "pos2=int(input(\"enter pos2: \"))\n",
        "l[pos1-1],l[pos2-1]=l[pos2-1],l[pos1-1]\n",
        "print(l)"
      ],
      "metadata": {
        "id": "WMGvHCMbfVSD",
        "colab": {
          "base_uri": "https://localhost:8080/"
        },
        "outputId": "cdee2700-bb6d-450e-9d86-c8a1eb4598d4"
      },
      "execution_count": null,
      "outputs": [
        {
          "output_type": "stream",
          "name": "stdout",
          "text": [
            "enter list: 23 65 19 90\n",
            "enter pos1: 1\n",
            "enter pos2: 3\n",
            "['19', '65', '23', '90']\n"
          ]
        }
      ]
    },
    {
      "cell_type": "markdown",
      "source": [
        "**23- search for the all ways to know the length of the list"
      ],
      "metadata": {
        "id": "XnSWWTSjfWAY"
      }
    },
    {
      "cell_type": "code",
      "source": [
        "s=input(\"enter list: \")\n",
        "s=s.split()\n",
        "print(len(s))\n",
        "\n",
        "print(\"--\"*25)\n",
        "print(\"##\"*25)\n",
        "print(\"--\"*25)\n",
        "print(\"use for loop\")\n",
        "print(\"--\"*25)\n",
        "count=0\n",
        "for i in s:\n",
        "    count+=1\n",
        "print(count)\n",
        "\n",
        "print(\"--\"*25)\n",
        "print(\"##\"*25)\n",
        "print(\"--\"*25)\n",
        "print(\"use while loop\")\n",
        "print(\"--\"*25)\n",
        "\n",
        "\n",
        "count=0\n",
        "s.append(\"\\0\")\n",
        "\n",
        "while True:\n",
        "  if s[count]=='\\0':\n",
        "    break\n",
        "  elif s[count]!='\\0':\n",
        "    count+=1\n",
        "print(count)\n",
        "\n"
      ],
      "metadata": {
        "id": "CiKtt3FFfY4z",
        "colab": {
          "base_uri": "https://localhost:8080/"
        },
        "outputId": "be7088d7-8211-4975-fb34-676c03320557"
      },
      "execution_count": null,
      "outputs": [
        {
          "output_type": "stream",
          "name": "stdout",
          "text": [
            "enter list: 10 90 80 60\n",
            "4\n",
            "--------------------------------------------------\n",
            "##################################################\n",
            "--------------------------------------------------\n",
            "use for loop\n",
            "--------------------------------------------------\n",
            "4\n",
            "--------------------------------------------------\n",
            "##################################################\n",
            "--------------------------------------------------\n",
            "use while loop\n",
            "--------------------------------------------------\n",
            "4\n"
          ]
        }
      ]
    },
    {
      "cell_type": "markdown",
      "source": [
        "**24-write a Python code to find the Maximum number of list of numbers."
      ],
      "metadata": {
        "id": "h-CpRb9_fZvB"
      }
    },
    {
      "cell_type": "code",
      "source": [
        "s=input(\"enter list: \")\n",
        "s=s.split()\n",
        "for i in s :\n",
        "  s[s.index(i)]=int(i)\n",
        "s.sort()\n",
        "print(s)\n",
        "print(s[-1])\n",
        "\n",
        "print(\"--\"*25)\n",
        "print(\"##\"*25)\n",
        "print(\"--\"*25)\n",
        "print(\"use max function\")\n",
        "print(\"--\"*25)\n",
        "print(max(s))\n"
      ],
      "metadata": {
        "id": "lS0VkmOlfdDI",
        "colab": {
          "base_uri": "https://localhost:8080/"
        },
        "outputId": "50821296-cc24-418d-ac22-f5556ca23b12"
      },
      "execution_count": null,
      "outputs": [
        {
          "output_type": "stream",
          "name": "stdout",
          "text": [
            "enter list: 80 90 20 1 3 5 6 \n",
            "[1, 3, 5, 6, 20, 80, 90]\n",
            "90\n",
            "--------------------------------------------------\n",
            "##################################################\n",
            "--------------------------------------------------\n",
            "use max function\n",
            "--------------------------------------------------\n",
            "90\n"
          ]
        }
      ]
    },
    {
      "cell_type": "markdown",
      "source": [
        "**25-write a Python code to find the Minimum number of list of numbers.]4"
      ],
      "metadata": {
        "id": "_UUCIbuAfde1"
      }
    },
    {
      "cell_type": "code",
      "source": [
        "s=input(\"enter list: \")\n",
        "s=s.split()\n",
        "for i in s :\n",
        "  s[s.index(i)]=int(i)\n",
        "s.sort()\n",
        "print(s)\n",
        "print(s[0])\n",
        "print(\"--\"*25)\n",
        "print(\"##\"*25)\n",
        "print(\"--\"*25)\n",
        "print(\"use min function\")\n",
        "print(\"--\"*25)\n",
        "print(min(s))\n"
      ],
      "metadata": {
        "id": "-1iRoL1Nfhk0",
        "colab": {
          "base_uri": "https://localhost:8080/"
        },
        "outputId": "889fea83-6c24-48c7-9f2a-88dde3621c69"
      },
      "execution_count": null,
      "outputs": [
        {
          "output_type": "stream",
          "name": "stdout",
          "text": [
            "enter list: 10 2 6 98 5 1\n",
            "[1, 2, 5, 6, 10, 98]\n",
            "1\n",
            "--------------------------------------------------\n",
            "##################################################\n",
            "--------------------------------------------------\n",
            "use min function\n",
            "--------------------------------------------------\n",
            "1\n"
          ]
        }
      ]
    },
    {
      "cell_type": "markdown",
      "source": [
        "**26-search for if an elem is existing in list\n",
        "\n",
        "\n",
        "\n"
      ],
      "metadata": {
        "id": "QGYJl9g9fiNg"
      }
    },
    {
      "cell_type": "code",
      "source": [
        "s=input(\"enter list: \")\n",
        "x=int(input(\"enter number to search : \"))\n",
        "s=s.split()\n",
        "for i in s :\n",
        "  s[s.index(i)]=int(i)\n",
        "if x in s :\n",
        "  print(\"yes\")\n",
        "else :\n",
        "  print(\"no\")\n",
        "\n"
      ],
      "metadata": {
        "id": "r2g7Rd1hfk7I",
        "colab": {
          "base_uri": "https://localhost:8080/"
        },
        "outputId": "a3a2f924-b0b5-4dbf-d90d-6a190e2de0e6"
      },
      "execution_count": null,
      "outputs": [
        {
          "output_type": "stream",
          "name": "stdout",
          "text": [
            "enter list: 10 20 30 90 \n",
            "enter number to search : 20\n",
            "yes\n"
          ]
        }
      ]
    },
    {
      "cell_type": "code",
      "source": [
        "s=input(\"enter list: \")\n",
        "x=input(\"enter number to search : \")\n",
        "s=s.split()\n",
        "print(x in s)"
      ],
      "metadata": {
        "colab": {
          "base_uri": "https://localhost:8080/"
        },
        "id": "kfURYq0eRoX5",
        "outputId": "1060b128-f8fd-4380-c892-eaef6a42530c"
      },
      "execution_count": null,
      "outputs": [
        {
          "output_type": "stream",
          "name": "stdout",
          "text": [
            "enter list: 10 20 90 50 \n",
            "enter number to search : 50\n",
            "True\n"
          ]
        }
      ]
    },
    {
      "cell_type": "markdown",
      "source": [
        "**27- clear python list using different ways\n",
        "\n",
        "\n",
        "\n",
        "\n",
        "\n"
      ],
      "metadata": {
        "id": "1msew2GzflNR"
      }
    },
    {
      "cell_type": "code",
      "source": [
        "l = [1, 2, 3]\n",
        "l.clear()\n",
        "print(l)"
      ],
      "metadata": {
        "id": "QYvUDzP0foZ-",
        "colab": {
          "base_uri": "https://localhost:8080/"
        },
        "outputId": "906fd338-acef-4809-d03b-eb2b84849061"
      },
      "execution_count": null,
      "outputs": [
        {
          "output_type": "stream",
          "name": "stdout",
          "text": [
            "[]\n"
          ]
        }
      ]
    },
    {
      "cell_type": "code",
      "source": [
        "l = [1, 2, 3]\n",
        "while l:\n",
        "    l.pop()\n",
        "print(l)\n"
      ],
      "metadata": {
        "colab": {
          "base_uri": "https://localhost:8080/"
        },
        "id": "m2v_GEXFSwDg",
        "outputId": "01afa457-399d-433f-f6ca-2c9d848550b4"
      },
      "execution_count": null,
      "outputs": [
        {
          "output_type": "stream",
          "name": "stdout",
          "text": [
            "[]\n"
          ]
        }
      ]
    },
    {
      "cell_type": "code",
      "source": [
        "l = [1, 2, 3]\n",
        "l=[]\n",
        "print(l)"
      ],
      "metadata": {
        "colab": {
          "base_uri": "https://localhost:8080/"
        },
        "id": "fvEl37gDS2_G",
        "outputId": "efc890ef-1d50-4e8c-ddd9-ea33db4b62ea"
      },
      "execution_count": null,
      "outputs": [
        {
          "output_type": "stream",
          "name": "stdout",
          "text": [
            "[]\n"
          ]
        }
      ]
    },
    {
      "cell_type": "markdown",
      "source": [
        "**28-remove duplicated elements from a list"
      ],
      "metadata": {
        "id": "VZted3Gyfosv"
      }
    },
    {
      "cell_type": "code",
      "source": [
        "s=input(\"enter list: \")\n",
        "s=s.split()\n",
        "s=set(s)\n",
        "s=list(s)\n",
        "print(s)\n"
      ],
      "metadata": {
        "id": "edj9ez9Hfra1",
        "colab": {
          "base_uri": "https://localhost:8080/"
        },
        "outputId": "1816e54d-400c-4332-d359-18fec9209b9e"
      },
      "execution_count": null,
      "outputs": [
        {
          "output_type": "stream",
          "name": "stdout",
          "text": [
            "enter list: 10 10 10 30 60 50 \n",
            "['50', '30', '10', '60']\n"
          ]
        }
      ]
    },
    {
      "cell_type": "markdown",
      "source": [
        "**29-Given list values and keys list, convert these values to key value pairs in form of list of dictionaries. (Input : test_list = [“Gfg”, 3, “is”, 8], key_list = [“name”, “id”] Output : [{‘name’: ‘Gfg’, ‘id’: 3}, {‘name’: ‘is’, ‘id’: 8}])"
      ],
      "metadata": {
        "id": "WnmBvvsyfrsb"
      }
    },
    {
      "cell_type": "code",
      "source": [
        "test_list = [\"Gfg\", 3, \"is\", 8]\n",
        "key_list = [\"name\", \"id\"]\n",
        "\n",
        "result = []\n",
        "\n",
        "for i in range(0, len(test_list), len(key_list)):\n",
        "    temp = {}\n",
        "    for j in range(len(key_list)):\n",
        "        temp[key_list[j]] = test_list[i + j]\n",
        "    result.append(temp)\n",
        "\n",
        "print(result)"
      ],
      "metadata": {
        "id": "zEoPLzLsfuy_",
        "colab": {
          "base_uri": "https://localhost:8080/"
        },
        "outputId": "77e1f016-ebb1-43f1-b39d-ccf30f524ebf"
      },
      "execution_count": null,
      "outputs": [
        {
          "output_type": "stream",
          "name": "stdout",
          "text": [
            "[{'name': 'Gfg', 'id': 3}, {'name': 'is', 'id': 8}]\n"
          ]
        }
      ]
    },
    {
      "cell_type": "markdown",
      "source": [
        "**30-write a python program to count unique values inside a list using\n",
        " different ways"
      ],
      "metadata": {
        "id": "FHml43b2fvGZ"
      }
    },
    {
      "cell_type": "code",
      "source": [
        "l = [1, 2, 2, 3, 4, 4, 5]\n",
        "for i in range(len(l)):\n",
        "  if l.count(l[i])==1:\n",
        "    print(l[i])"
      ],
      "metadata": {
        "id": "cKBqLXAOfx-j",
        "colab": {
          "base_uri": "https://localhost:8080/"
        },
        "outputId": "e14bfd0e-0b13-496c-cbc0-410117240d34"
      },
      "execution_count": null,
      "outputs": [
        {
          "output_type": "stream",
          "name": "stdout",
          "text": [
            "1\n",
            "3\n",
            "5\n"
          ]
        }
      ]
    },
    {
      "cell_type": "code",
      "source": [
        "l = [1, 2, 2, 3, 4, 4, 5]\n",
        "i = 1\n",
        "while i < len(l):\n",
        "    if l[i] == l[i-1]:\n",
        "        del l[i]\n",
        "        del l[i-1]\n",
        "        i = max(i - 1, 1)\n",
        "    else:\n",
        "        i += 1\n",
        "print(l)"
      ],
      "metadata": {
        "colab": {
          "base_uri": "https://localhost:8080/"
        },
        "id": "u-JnxrLOjCZp",
        "outputId": "7a0d24bb-b94e-4129-9199-f37b6bf5b800"
      },
      "execution_count": null,
      "outputs": [
        {
          "output_type": "stream",
          "name": "stdout",
          "text": [
            "[1, 3, 5]\n"
          ]
        }
      ]
    },
    {
      "cell_type": "code",
      "source": [],
      "metadata": {
        "id": "gR1UDLG_lLhY"
      },
      "execution_count": null,
      "outputs": []
    }
  ]
}