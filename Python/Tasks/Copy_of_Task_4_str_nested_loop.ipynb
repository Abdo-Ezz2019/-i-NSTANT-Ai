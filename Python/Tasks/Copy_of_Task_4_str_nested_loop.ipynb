{
  "nbformat": 4,
  "nbformat_minor": 0,
  "metadata": {
    "colab": {
      "provenance": []
    },
    "kernelspec": {
      "name": "python3",
      "display_name": "Python 3"
    },
    "language_info": {
      "name": "python"
    }
  },
  "cells": [
    {
      "cell_type": "markdown",
      "source": [
        "# Swap first and last chars of a string.\n",
        "\n",
        "Write a Python program to change a given string to a newly string where the first and last chars have been exchanged."
      ],
      "metadata": {
        "id": "l0DvRYI-H6gX"
      }
    },
    {
      "cell_type": "code",
      "execution_count": null,
      "metadata": {
        "id": "H_8rETRgHwDU",
        "colab": {
          "base_uri": "https://localhost:8080/"
        },
        "outputId": "62833723-be82-4043-c605-6b9b46a5ca60"
      },
      "outputs": [
        {
          "output_type": "stream",
          "name": "stdout",
          "text": [
            "entre the string : abdo\n",
            "ao\n"
          ]
        }
      ],
      "source": [
        "s=input(\"entre the string : \")\n",
        "new=s[0]+s[-1]\n",
        "print(new)\n"
      ]
    },
    {
      "cell_type": "markdown",
      "source": [
        "# Sort distinct words in comma-separated input.\n",
        "\n",
        "Write a Python program that accepts a comma-separated sequence of words as input and prints the distinct words in sorted form (alphanumerically)."
      ],
      "metadata": {
        "id": "ncgTgQvaH9EP"
      }
    },
    {
      "cell_type": "code",
      "source": [
        "s=input(\"entre the string : \")\n",
        "new=s.split(\",\")\n",
        "new=set(new)\n",
        "print(new)"
      ],
      "metadata": {
        "id": "iHjycanFH7mj",
        "colab": {
          "base_uri": "https://localhost:8080/"
        },
        "outputId": "6e29b195-149d-49f0-f9eb-dcd21d0c530b"
      },
      "execution_count": null,
      "outputs": [
        {
          "output_type": "stream",
          "name": "stdout",
          "text": [
            "entre the string : banana,apple,orange,banana,apple\n",
            "{'apple', 'banana', 'orange'}\n"
          ]
        }
      ]
    },
    {
      "cell_type": "markdown",
      "source": [
        "# Get first 3 chars of a string.\n",
        "\n",
        "Write a Python function to get a string made of the first three characters of a specified string. If the length of the string is less than 3, return the original string."
      ],
      "metadata": {
        "id": "yuRateYAIYSu"
      }
    },
    {
      "cell_type": "code",
      "source": [
        "s=input(\"entre the string : \")\n",
        "new=s[0:3:1]\n",
        "print(new)"
      ],
      "metadata": {
        "id": "WeJIkfv0IZqH",
        "colab": {
          "base_uri": "https://localhost:8080/"
        },
        "outputId": "e4cfb688-e649-485d-a751-b08b93284c96"
      },
      "execution_count": null,
      "outputs": [
        {
          "output_type": "stream",
          "name": "stdout",
          "text": [
            "entre the string : ab\n",
            "ab\n"
          ]
        }
      ]
    },
    {
      "cell_type": "markdown",
      "source": [
        "# Remove nth character from a string.\n",
        "\n",
        "Write a Python program to remove the nth index character from a nonempty string."
      ],
      "metadata": {
        "id": "_XOF-OaSIglo"
      }
    },
    {
      "cell_type": "code",
      "source": [
        "s=input(\"entre the string : \")\n",
        "n=int(input(\"enter the index : \"))\n",
        "if n<0 or n>=len(s):\n",
        "  print(\"out of range \")\n",
        "else :\n",
        "  print(\"the new string :\",s[:n]+s[n+1:])\n"
      ],
      "metadata": {
        "id": "yqlTu9ASIiV4",
        "colab": {
          "base_uri": "https://localhost:8080/"
        },
        "outputId": "9dce21b1-5e15-4e6f-bc2c-b5f6bf62ea29"
      },
      "execution_count": null,
      "outputs": [
        {
          "output_type": "stream",
          "name": "stdout",
          "text": [
            "entre the string : abdo\n",
            "enter the index : 2\n",
            "the new string : abo\n"
          ]
        }
      ]
    },
    {
      "cell_type": "markdown",
      "source": [
        "# Repeat last 2 chars of a string 4 times.\n",
        "\n",
        "Write a Python function to get a string made of 4 copies of the last two characters of a specified string (length must be at least 2).\n",
        "Sample function and result :\n",
        "insert_end('Python') -> onononon\n",
        "insert_end('Exercises') -> eseseses"
      ],
      "metadata": {
        "id": "rCFq7f1wIo9l"
      }
    },
    {
      "cell_type": "code",
      "source": [
        "s=input(\"entre the string : \")\n",
        "print(s[-2::]*4)"
      ],
      "metadata": {
        "id": "gqmF_0WIIqQ4",
        "colab": {
          "base_uri": "https://localhost:8080/"
        },
        "outputId": "b1eb0225-319b-469c-bea5-806f33e3f5d1"
      },
      "execution_count": null,
      "outputs": [
        {
          "output_type": "stream",
          "name": "stdout",
          "text": [
            "entre the string : Exercises\n",
            "eseseses\n"
          ]
        }
      ]
    },
    {
      "cell_type": "markdown",
      "source": [
        "# Count Digits and Letters in a String\n",
        "\n",
        "Write a Python program that accepts a string and calculates the number of digits and letters.\n",
        "\n",
        "Sample Data : Python 3.2\n",
        "\n",
        "Expected Output :\n",
        "\n",
        "Letters 6\n",
        "Digits 2"
      ],
      "metadata": {
        "id": "eCauG7N6cI50"
      }
    },
    {
      "cell_type": "code",
      "source": [
        "from string import digits\n",
        "s=input(\"entre the string : \")\n",
        "litters=0\n",
        "digitals=0\n",
        "for n in s :\n",
        "  if n.isalpha():\n",
        "    litters+=1\n",
        "  elif n.isdigit():\n",
        "    digitals+=1\n",
        "print(\"Letters: \",litters,\"digits\",digitals)\n",
        "\n"
      ],
      "metadata": {
        "id": "oNOQ5xe4cKKx",
        "colab": {
          "base_uri": "https://localhost:8080/"
        },
        "outputId": "0bb552bd-0a4a-4857-d91c-078c0971a574"
      },
      "execution_count": null,
      "outputs": [
        {
          "output_type": "stream",
          "name": "stdout",
          "text": [
            "entre the string : Python 3.2\n",
            "Letters:  6 digits 2\n"
          ]
        }
      ]
    },
    {
      "cell_type": "markdown",
      "source": [
        "# Nested Loop Number Pattern\n",
        "\n",
        "Write a Python program to construct the following pattern, using a nested loop number.\n",
        "\n",
        "Expected Output:\n",
        "\n",
        "1\n",
        "\n",
        "22\n",
        "\n",
        "333\n",
        "\n",
        "4444\n",
        "\n",
        "55555\n",
        "\n",
        "666666\n",
        "\n",
        "7777777\n",
        "\n",
        "88888888\n",
        "\n",
        "999999999\n",
        "\n",
        "88888888\n",
        "\n",
        "7777777\n",
        "\n",
        "666666\n",
        "\n",
        "55555\n",
        "\n",
        "4444\n",
        "\n",
        "333\n",
        "\n",
        "22\n",
        "\n",
        "1"
      ],
      "metadata": {
        "id": "oaJili0TcdSB"
      }
    },
    {
      "cell_type": "code",
      "source": [
        "for i in range(1,10) :\n",
        "  for j in range(1,i+1) :\n",
        "    print(i,end=\"\")\n",
        "  print()\n",
        "for i in range(8,0,-1) :\n",
        "  for j in range(1,i+1) :\n",
        "    print(i,end=\"\")\n",
        "  print()"
      ],
      "metadata": {
        "id": "mCPLMZyIcdqW",
        "colab": {
          "base_uri": "https://localhost:8080/"
        },
        "outputId": "ca027779-93f8-485f-8e3b-14d2708046f5"
      },
      "execution_count": null,
      "outputs": [
        {
          "output_type": "stream",
          "name": "stdout",
          "text": [
            "1\n",
            "22\n",
            "333\n",
            "4444\n",
            "55555\n",
            "666666\n",
            "7777777\n",
            "88888888\n",
            "999999999\n",
            "88888888\n",
            "7777777\n",
            "666666\n",
            "55555\n",
            "4444\n",
            "333\n",
            "22\n",
            "1\n"
          ]
        }
      ]
    },
    {
      "cell_type": "code",
      "source": [
        "n = 5\n",
        "for i in range(1, n + 1):\n",
        "    spaces = n - i\n",
        "    stars = 2 * i - 1\n",
        "    print(\" \" * spaces + \"*\" * stars)\n",
        "\n",
        "for i in range(n - 1, 0, -1):\n",
        "    spaces = n - i\n",
        "    stars = 2 * i - 1\n",
        "    print(\" \" * spaces + \"*\" * stars)"
      ],
      "metadata": {
        "colab": {
          "base_uri": "https://localhost:8080/"
        },
        "id": "9fQHFblRoNDB",
        "outputId": "9b247c1b-83de-482a-d2fe-b2d56ff34928"
      },
      "execution_count": null,
      "outputs": [
        {
          "output_type": "stream",
          "name": "stdout",
          "text": [
            "    *\n",
            "   ***\n",
            "  *****\n",
            " *******\n",
            "*********\n",
            " *******\n",
            "  *****\n",
            "   ***\n",
            "    *\n"
          ]
        }
      ]
    },
    {
      "cell_type": "code",
      "source": [
        "#      *\n",
        "#     ***\n",
        "#    *****\n",
        "#   *******\n",
        "#  *********\n",
        "#   *******\n",
        "#    *****\n",
        "#     ***\n",
        "#      *"
      ],
      "metadata": {
        "id": "Bh3BQ1S7OYRc"
      },
      "execution_count": null,
      "outputs": []
    },
    {
      "cell_type": "code",
      "source": [
        "r = 5\n",
        "for i in range(1, r + 1):\n",
        "    spaces = r - i\n",
        "    stars = i\n",
        "    print(\" \" * spaces + \"*\" * stars)"
      ],
      "metadata": {
        "id": "I-bbT_5aOZIb",
        "colab": {
          "base_uri": "https://localhost:8080/"
        },
        "outputId": "b435b4d8-5dde-4e16-998e-38f592652137"
      },
      "execution_count": null,
      "outputs": [
        {
          "output_type": "stream",
          "name": "stdout",
          "text": [
            "    *\n",
            "   **\n",
            "  ***\n",
            " ****\n",
            "*****\n"
          ]
        }
      ]
    },
    {
      "cell_type": "code",
      "source": [
        "\n",
        "     *\n",
        "    **\n",
        "   ***\n",
        "  ****\n",
        " *****"
      ],
      "metadata": {
        "id": "ZDlms1lJOciR"
      },
      "execution_count": null,
      "outputs": []
    },
    {
      "cell_type": "code",
      "source": [],
      "metadata": {
        "id": "bzid0Js2OdJC"
      },
      "execution_count": null,
      "outputs": []
    }
  ]
}