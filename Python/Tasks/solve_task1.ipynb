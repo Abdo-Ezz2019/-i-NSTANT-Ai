{
  "nbformat": 4,
  "nbformat_minor": 0,
  "metadata": {
    "colab": {
      "provenance": []
    },
    "kernelspec": {
      "name": "python3",
      "display_name": "Python 3"
    },
    "language_info": {
      "name": "python"
    }
  },
  "cells": [
    {
      "cell_type": "code",
      "execution_count": null,
      "metadata": {
        "id": "3NuPgywVVT-X"
      },
      "outputs": [],
      "source": []
    },
    {
      "cell_type": "markdown",
      "source": [
        "## **1- Write a Python program to find the area of a triangle**"
      ],
      "metadata": {
        "id": "yGQ0PxZIWP0v"
      }
    },
    {
      "cell_type": "code",
      "source": [
        "# area of tringle\n",
        "hight=float(input(\"enter hight of tringle:\"))\n",
        "base=float(input(\"enter base of tringle:\"))\n",
        "area=0.5*hight*base\n",
        "print(\"area of tringle is:\",area,\"cm^2\")\n"
      ],
      "metadata": {
        "id": "fVEa_BPoWYPd",
        "colab": {
          "base_uri": "https://localhost:8080/"
        },
        "outputId": "1c7997a0-4ac2-4b56-b809-3a57432cea86"
      },
      "execution_count": null,
      "outputs": [
        {
          "output_type": "stream",
          "name": "stdout",
          "text": [
            "enter hight of tringle:12\n",
            "enter base of tringle:20\n",
            "area of tringle is: 120.0\n"
          ]
        }
      ]
    },
    {
      "cell_type": "markdown",
      "source": [
        "# **2- Write a Python program to swap two variables.**\n"
      ],
      "metadata": {
        "id": "3DD6RrL1Wa65"
      }
    },
    {
      "cell_type": "code",
      "source": [
        "x=input(\"enter the first value \")\n",
        "y=input(\"enter the second value \")\n",
        "x,y=y,x\n",
        "print(\"value of x after swapping:\",x)\n",
        "print(\"value of y after swapping:\",y)\n",
        "##########################################\n",
        "print(\"##\"*25)\n",
        "print(\"the second solution useing temp >>>>>\")\n",
        "print(\"##\"*25)\n",
        "##########################################\n",
        "# another solution\n",
        "x=input(\"enter the first value \")\n",
        "y=input(\"enter the second value \")\n",
        "temp=x\n",
        "x=y\n",
        "y=temp\n",
        "print(\"value of x after swapping:\",x)\n",
        "print(\"value of y after swapping:\",y)\n"
      ],
      "metadata": {
        "id": "8A-qk-XGWmrK",
        "colab": {
          "base_uri": "https://localhost:8080/"
        },
        "outputId": "8fef3956-ebec-41f3-919f-71f3d8207e0d"
      },
      "execution_count": null,
      "outputs": [
        {
          "output_type": "stream",
          "name": "stdout",
          "text": [
            "enter the first value 13\n",
            "enter the second value 15\n",
            "value of x after swapping: 15\n",
            "value of y after swapping: 13\n",
            "##################################################\n",
            "the second solution useing temp >>>>>\n",
            "##################################################\n",
            "enter the first value 13\n",
            "enter the second value 15\n",
            "value of x after swapping: 15\n",
            "value of y after swapping: 13\n"
          ]
        }
      ]
    },
    {
      "cell_type": "markdown",
      "source": [
        "# **3-Write a Python program to enter a number from user and convert this number from kilometers to miles.**\n"
      ],
      "metadata": {
        "id": "NXzXheUIXDEf"
      }
    },
    {
      "cell_type": "code",
      "source": [
        "# from Kilometers to miles\n",
        "Kilometers=float (input(\"enter the value in Kilometers:\"))\n",
        "miles=Kilometers*0.621371\n",
        "print(Kilometers,\"Kilometers is equal to\",miles,\"miles\")\n",
        "\n"
      ],
      "metadata": {
        "id": "-hO2ACQCX8xA",
        "colab": {
          "base_uri": "https://localhost:8080/"
        },
        "outputId": "7a33c8f3-e634-4cd0-ec2d-bf68ab74e5a5"
      },
      "execution_count": null,
      "outputs": [
        {
          "output_type": "stream",
          "name": "stdout",
          "text": [
            "enter the value in Kilometers:10\n",
            "10.0 Kilometers is equal to 6.21371 miles\n"
          ]
        }
      ]
    },
    {
      "cell_type": "code",
      "source": [],
      "metadata": {
        "id": "jQMLMzReW5Sn"
      },
      "execution_count": null,
      "outputs": []
    }
  ]
}