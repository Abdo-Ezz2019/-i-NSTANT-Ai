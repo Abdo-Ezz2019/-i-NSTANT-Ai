{
  "nbformat": 4,
  "nbformat_minor": 0,
  "metadata": {
    "colab": {
      "provenance": []
    },
    "kernelspec": {
      "name": "python3",
      "display_name": "Python 3"
    },
    "language_info": {
      "name": "python"
    }
  },
  "cells": [
    {
      "cell_type": "markdown",
      "source": [
        "# OOP :Object-Oriented Programming :\n",
        "- classes\n",
        "- object\n",
        "- OOP priciples\n"
      ],
      "metadata": {
        "id": "AZTlK7BGM10Q"
      }
    },
    {
      "cell_type": "markdown",
      "source": [
        "classes && Objects\n"
      ],
      "metadata": {
        "id": "ZL38Dq3OVrD3"
      }
    },
    {
      "cell_type": "code",
      "source": [
        "from os import name\n",
        "class Employee :\n",
        "  name=\"\"\n",
        "  Id:int\n",
        "  Department=\"\"\n",
        "  Adresses=''\n",
        "  PhoneNumper=\"\"\n",
        "  def changePhone(self):\n",
        "    self.PhoneNumper=\"01020906040\"\n",
        "\n"
      ],
      "metadata": {
        "id": "lLqw0mzaG3Nr"
      },
      "execution_count": 32,
      "outputs": []
    },
    {
      "cell_type": "code",
      "source": [
        "from dataclasses import dataclass\n",
        "\n",
        "@dataclass\n",
        "class Person:\n",
        "    name: str\n",
        "    age: int\n",
        "    city: str\n",
        "    GPA: int\n",
        "\n",
        "    def __post_init__(self):\n",
        "        if not isinstance(self.name, str):\n",
        "            raise TypeError(\"name must be a string\")\n",
        "        if not isinstance(self.age, int):\n",
        "            raise TypeError(\"age must be an integer\")\n",
        "        if not isinstance(self.city, str):\n",
        "            raise TypeError(\"city must be a string\")\n",
        "        if not isinstance(self.GPA, int):\n",
        "            raise TypeError(\"GPA must be an integer\")\n",
        "\n",
        "s1 = Person(name=\"5\", age=51, city=\"cairo\", GPA=50)\n"
      ],
      "metadata": {
        "id": "TdVgU62XWime"
      },
      "execution_count": 33,
      "outputs": []
    },
    {
      "cell_type": "code",
      "source": [
        "class BankAccount :\n",
        "  def __init__(self) :\n",
        "    self.name=input(\"enter ur name: \")\n",
        "    self.password=input(\"enter ur pass: \") # is public\n",
        "    self.credite =0\n"
      ],
      "metadata": {
        "id": "3OY1yUgDbHuL"
      },
      "execution_count": 34,
      "outputs": []
    },
    {
      "cell_type": "code",
      "source": [
        "abdo=BankAccount()\n"
      ],
      "metadata": {
        "id": "Wc4FQ7R3hrfn",
        "colab": {
          "base_uri": "https://localhost:8080/"
        },
        "outputId": "b71e2390-13e0-42ea-c33a-d4fdba5e261a"
      },
      "execution_count": 35,
      "outputs": [
        {
          "name": "stdout",
          "output_type": "stream",
          "text": [
            "enter ur name: abdo\n",
            "enter ur pass: 123456\n"
          ]
        }
      ]
    },
    {
      "cell_type": "code",
      "source": [
        "abdo.password"
      ],
      "metadata": {
        "id": "interF9AiSXH",
        "colab": {
          "base_uri": "https://localhost:8080/",
          "height": 35
        },
        "outputId": "2d9bb16e-e8cd-4611-eb4f-baa93775242a"
      },
      "execution_count": 36,
      "outputs": [
        {
          "output_type": "execute_result",
          "data": {
            "text/plain": [
              "'123456'"
            ],
            "application/vnd.google.colaboratory.intrinsic+json": {
              "type": "string"
            }
          },
          "metadata": {},
          "execution_count": 36
        }
      ]
    },
    {
      "cell_type": "code",
      "source": [
        "class BankAccount2 :\n",
        "  def __init__(self) :\n",
        "    self.name=input(\"enter ur name: \")\n",
        "    self.__password=int(input(\"enter ur pass: \")) # is privacy\n",
        "    self.credite =0\n",
        "  def show_Password(self):\n",
        "    check_pass=int(input(\"enter ur pass: \")) # is  privacy\n",
        "    if check_pass == self.__password:\n",
        "      print(\"pass\",check_pass)\n",
        "    else :\n",
        "      print(\"Wronge pass \")\n",
        "  def show_credite(self):\n",
        "    check_pass=int(input(\"enter ur pass: \")) # is  privacy\n",
        "    if check_pass == self.__password:\n",
        "      print(\"you have : \",self.credite)\n",
        "    else :\n",
        "      print(\"Wronge pass\")\n",
        "  def add_credite(self,credite):\n",
        "    check_pass=int(input(\"enter ur pass: \")) # is  privacy\n",
        "    if check_pass != self.__password:\n",
        "      print(\"Wronge pass\")\n",
        "      return\n",
        "    self.credite+=credite\n",
        "\n",
        "    print(self.credite)\n"
      ],
      "metadata": {
        "id": "anQ5OKsuhuqp"
      },
      "execution_count": 59,
      "outputs": []
    },
    {
      "cell_type": "code",
      "source": [
        "kishoo=BankAccount2()"
      ],
      "metadata": {
        "id": "e4-NML6kiYlf",
        "colab": {
          "base_uri": "https://localhost:8080/"
        },
        "outputId": "8cfa5ba8-a860-4d74-b63f-2f76d780ffb0"
      },
      "execution_count": 55,
      "outputs": [
        {
          "name": "stdout",
          "output_type": "stream",
          "text": [
            "enter ur name: kishoo\n",
            "enter ur pass: 1234\n"
          ]
        }
      ]
    },
    {
      "cell_type": "code",
      "source": [
        "kishoo.show_Password()"
      ],
      "metadata": {
        "id": "TLnGCaxyimj2",
        "colab": {
          "base_uri": "https://localhost:8080/"
        },
        "outputId": "880e78d8-d9aa-46f1-ae5c-26a1c1436e96"
      },
      "execution_count": 57,
      "outputs": [
        {
          "output_type": "stream",
          "name": "stdout",
          "text": [
            "enter ur pass: 1234\n",
            "pass 1234\n"
          ]
        }
      ]
    },
    {
      "cell_type": "code",
      "source": [
        "kishoo.show_credite()"
      ],
      "metadata": {
        "colab": {
          "base_uri": "https://localhost:8080/"
        },
        "id": "qNRu7aUoTDmb",
        "outputId": "d7d28c47-0205-482a-9dac-554e4908502c"
      },
      "execution_count": 58,
      "outputs": [
        {
          "output_type": "stream",
          "name": "stdout",
          "text": [
            "enter ur pass: 1234\n",
            "pass 1234\n",
            "0\n"
          ]
        }
      ]
    },
    {
      "cell_type": "markdown",
      "source": [
        "# Abstraction Principle"
      ],
      "metadata": {
        "id": "fKhv8AXfY5-Z"
      }
    },
    {
      "cell_type": "code",
      "source": [
        "from abc import ABC,abstractclassmethod\n",
        "class Shape(ABC):\n",
        "  @abstractclassmethod\n",
        "  def area(self):\n",
        "    pass\n",
        "  @abstractclassmethod\n",
        "  def perimeter(self):\n",
        "    pass\n",
        "\n",
        "\n",
        "class rectangel(Shape):\n",
        "  def __init__(self,length,width) -> None:\n",
        "    self.length=length\n",
        "    self.width=width\n",
        "  def area(self):\n",
        "    return self.length*self.width\n",
        "  def perimeter(self):\n",
        "    return 2*(self.length+self.width)\n",
        "\n",
        "class circle(Shape):\n",
        "  def __init__(self,radius) -> None:\n",
        "    self.radius=radius\n",
        "  def area(self):\n",
        "    return 3.14*self.radius**2\n",
        "  def perimeter(self):\n",
        "    return 2*3.14*self.radius\n",
        "\n"
      ],
      "metadata": {
        "id": "swyntpsWT4Df"
      },
      "execution_count": 60,
      "outputs": []
    },
    {
      "cell_type": "code",
      "source": [
        "rect=rectangel(14,15)\n",
        "print(rect.area())\n",
        "print(rect.perimeter())"
      ],
      "metadata": {
        "colab": {
          "base_uri": "https://localhost:8080/"
        },
        "id": "fVySpRHtV98z",
        "outputId": "2a0527c3-c16b-4037-c560-657fa5ac3595"
      },
      "execution_count": 62,
      "outputs": [
        {
          "output_type": "stream",
          "name": "stdout",
          "text": [
            "210\n",
            "58\n"
          ]
        }
      ]
    },
    {
      "cell_type": "markdown",
      "source": [
        "# Encapsulation Principle"
      ],
      "metadata": {
        "id": "QZhPtZ6kZCVF"
      }
    },
    {
      "cell_type": "code",
      "source": [
        "class Car:\n",
        "  def __init__(self,make,mode):\n",
        "    self.make=make\n",
        "    self.mode=mode\n",
        "  def get_make(self): #getter\n",
        "    return self.make\n",
        "  def get_mode(self):\n",
        "    return self.mode\n",
        "  def set_make(self,make): #setter\n",
        "    self.make=make\n",
        "  def set_mode(self,mode):\n",
        "    self.mode=mode\n",
        "\n"
      ],
      "metadata": {
        "id": "-g2wczHxWKX-"
      },
      "execution_count": 64,
      "outputs": []
    },
    {
      "cell_type": "code",
      "source": [
        "my_car=Car(\"Toyota\",\"corolla\")"
      ],
      "metadata": {
        "id": "0cWbShHJZgMX"
      },
      "execution_count": 65,
      "outputs": []
    },
    {
      "cell_type": "code",
      "source": [
        "my_car.get_mode()"
      ],
      "metadata": {
        "colab": {
          "base_uri": "https://localhost:8080/",
          "height": 35
        },
        "id": "CFRaV53SZidq",
        "outputId": "813f72d6-3776-404c-daaa-595afff3dad9"
      },
      "execution_count": 67,
      "outputs": [
        {
          "output_type": "execute_result",
          "data": {
            "text/plain": [
              "'corolla'"
            ],
            "application/vnd.google.colaboratory.intrinsic+json": {
              "type": "string"
            }
          },
          "metadata": {},
          "execution_count": 67
        }
      ]
    },
    {
      "cell_type": "code",
      "source": [
        "my_car.get_make()"
      ],
      "metadata": {
        "colab": {
          "base_uri": "https://localhost:8080/",
          "height": 35
        },
        "id": "renTzcoyZnGb",
        "outputId": "09530570-9692-4794-ba46-3cb4a87986a6"
      },
      "execution_count": 68,
      "outputs": [
        {
          "output_type": "execute_result",
          "data": {
            "text/plain": [
              "'Toyota'"
            ],
            "application/vnd.google.colaboratory.intrinsic+json": {
              "type": "string"
            }
          },
          "metadata": {},
          "execution_count": 68
        }
      ]
    },
    {
      "cell_type": "code",
      "source": [
        "my_car.set_make(\"kia\")\n",
        "my_car.get_make()"
      ],
      "metadata": {
        "colab": {
          "base_uri": "https://localhost:8080/",
          "height": 35
        },
        "id": "_hj27YLNZsAE",
        "outputId": "10ae5a46-862c-4f96-bcd2-c1c560586ee8"
      },
      "execution_count": 69,
      "outputs": [
        {
          "output_type": "execute_result",
          "data": {
            "text/plain": [
              "'kia'"
            ],
            "application/vnd.google.colaboratory.intrinsic+json": {
              "type": "string"
            }
          },
          "metadata": {},
          "execution_count": 69
        }
      ]
    },
    {
      "cell_type": "markdown",
      "source": [
        "# Inheritance Principle"
      ],
      "metadata": {
        "id": "rCegkO07Z0Ps"
      }
    },
    {
      "cell_type": "code",
      "source": [
        "\n",
        "class Person:\n",
        "    def __init__(self, name):\n",
        "        self.name = name\n",
        "\n",
        "    def show(self):\n",
        "        print(\"Name:\", self.name)\n",
        "\n",
        "class Student(Person):\n",
        "    def __init__(self, name, student_id):\n",
        "        super().__init__(name)\n",
        "        self.student_id = student_id\n",
        "\n",
        "s = Student(\"Ali\", 123)\n",
        "s.show()\n",
        "print(s.student_id)\n"
      ],
      "metadata": {
        "id": "UazBIuI6ZwJ8"
      },
      "execution_count": null,
      "outputs": []
    },
    {
      "cell_type": "markdown",
      "source": [
        "# Polymorphism Principle"
      ],
      "metadata": {
        "id": "4wm7RyGDcV41"
      }
    },
    {
      "cell_type": "code",
      "source": [
        "class Cat:\n",
        "    def sound(self):\n",
        "        return \"Meow\"\n",
        "\n",
        "class Dog:\n",
        "    def sound(self):\n",
        "        return \"Woof\"\n",
        "\n",
        "for animal in [Cat(), Dog()]:\n",
        "    print(animal.sound())\n"
      ],
      "metadata": {
        "colab": {
          "base_uri": "https://localhost:8080/"
        },
        "id": "TSpnrIzacdhv",
        "outputId": "40b5141b-0d85-4417-bc69-90f82b919da7"
      },
      "execution_count": 73,
      "outputs": [
        {
          "output_type": "stream",
          "name": "stdout",
          "text": [
            "Meow\n",
            "Woof\n"
          ]
        }
      ]
    },
    {
      "cell_type": "markdown",
      "source": [
        "# composition"
      ],
      "metadata": {
        "id": "CYQcDAJybj1_"
      }
    },
    {
      "cell_type": "code",
      "source": [
        "# car has an Engine\n",
        "class Engine:\n",
        "    def __init__(self, horsepower):\n",
        "        self.horsepower = horsepower\n",
        "    def start(self):\n",
        "        print(\"Engine started with\", self.horsepower, \"HP\")\n",
        "\n",
        "class Car:\n",
        "    def __init__(self, brand, engine):\n",
        "        self.brand = brand\n",
        "        self.engine = engine\n",
        "\n",
        "    def start(self):\n",
        "        print(f\"{self.brand} car is starting...\")\n",
        "        self.engine.start()\n",
        "\n",
        "\n",
        "engine1 = Engine(150)\n",
        "car1 = Car(\"Toyota\", engine1)\n",
        "car1.start()"
      ],
      "metadata": {
        "colab": {
          "base_uri": "https://localhost:8080/"
        },
        "id": "OSH0XJVUbofi",
        "outputId": "53d8b112-d95c-4030-ea31-989129b1a3fe"
      },
      "execution_count": 71,
      "outputs": [
        {
          "output_type": "stream",
          "name": "stdout",
          "text": [
            "Toyota car is starting...\n",
            "Engine started with 150 HP\n"
          ]
        }
      ]
    },
    {
      "cell_type": "markdown",
      "source": [
        "# Aggregation"
      ],
      "metadata": {
        "id": "cLso1ruAb5Lf"
      }
    },
    {
      "cell_type": "code",
      "source": [
        "class Student:\n",
        "    def __init__(self, name):\n",
        "        self.name = name\n",
        "\n",
        "class University:\n",
        "    def __init__(self, name):\n",
        "        self.name = name\n",
        "        self.students = []   # Aggregation\n",
        "\n",
        "    def add_student(self, student):\n",
        "        self.students.append(student)\n",
        "\n",
        "    def show_students(self):\n",
        "        for s in self.students:\n",
        "            print(s.name)\n",
        "\n",
        "s1 = Student(\"Ali\")\n",
        "s2 = Student(\"Mona\")\n",
        "\n",
        "uni = University(\"Cairo University\")\n",
        "uni.add_student(s1)\n",
        "uni.add_student(s2)\n",
        "\n",
        "uni.show_students()\n"
      ],
      "metadata": {
        "colab": {
          "base_uri": "https://localhost:8080/"
        },
        "id": "D1UOgf6hbo52",
        "outputId": "3ee97664-cef0-4e54-9629-5e5189f325cb"
      },
      "execution_count": 72,
      "outputs": [
        {
          "output_type": "stream",
          "name": "stdout",
          "text": [
            "Ali\n",
            "Mona\n"
          ]
        }
      ]
    },
    {
      "cell_type": "code",
      "source": [],
      "metadata": {
        "id": "TSKHY64Eb-Sy"
      },
      "execution_count": null,
      "outputs": []
    }
  ]
}