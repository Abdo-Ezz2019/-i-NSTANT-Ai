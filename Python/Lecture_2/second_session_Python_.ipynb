{
  "nbformat": 4,
  "nbformat_minor": 0,
  "metadata": {
    "colab": {
      "provenance": []
    },
    "kernelspec": {
      "name": "python3",
      "display_name": "Python 3"
    },
    "language_info": {
      "name": "python"
    }
  },
  "cells": [
    {
      "cell_type": "markdown",
      "source": [
        "# strings\n",
        "- slice\n",
        "\n"
      ],
      "metadata": {
        "id": "j8mPg3HWaatD"
      }
    },
    {
      "cell_type": "code",
      "execution_count": null,
      "metadata": {
        "colab": {
          "base_uri": "https://localhost:8080/"
        },
        "id": "gzUNR0yeaQ-g",
        "outputId": "b40c6bbc-005d-4422-b89a-e9cefaa7c7b9"
      },
      "outputs": [
        {
          "output_type": "stream",
          "name": "stdout",
          "text": [
            "rlu\n",
            "dul\n"
          ]
        }
      ],
      "source": [
        "s=\"abdulrahman\"\n",
        "# s[start : end : step ]\n",
        "print(s[5:2:-1])\n",
        "print(s[2:5:1])"
      ]
    },
    {
      "cell_type": "markdown",
      "source": [
        "# operators\n"
      ],
      "metadata": {
        "id": "bdQIbDzMkPsX"
      }
    },
    {
      "cell_type": "code",
      "source": [
        "from re import A\n",
        " # logical operators\n",
        " # OR\n",
        "print(\"OR Logic\")\n",
        "print( \"False or False <<-\",False or False )\n",
        "print(\"False or True <<- \" ,False or True )\n",
        "print(\"True or True <<- \",True or True)\n",
        "print(\"--\"*25)\n",
        "#------------------------------------\n",
        "# AND\n",
        "print(\"AND logic\")\n",
        "print( \"False or False <<- \" ,False and False )\n",
        "print( \"False or True <<- \" ,False and True )\n",
        "print(\"True and True <<- \",True and True)\n",
        "print(\"--\"*25)\n",
        "#------------------------------------\n",
        "#NOT\n",
        "print(\"NOT logic\")\n",
        "print( \"not False <<-\",not False )\n",
        "print( not True )\n",
        "print(\"--\"*25)\n"
      ],
      "metadata": {
        "colab": {
          "base_uri": "https://localhost:8080/"
        },
        "id": "0LmLNP6ukPWe",
        "outputId": "10577cb5-db71-40d3-c7d5-c353870d9c64"
      },
      "execution_count": null,
      "outputs": [
        {
          "output_type": "stream",
          "name": "stdout",
          "text": [
            "OR Logic\n",
            "False or False False\n",
            "False or True True\n",
            "True or True True\n",
            "--------------------------------------------------\n",
            "AND logic\n",
            "False\n",
            "False\n",
            "True\n",
            "--------------------------------------------------\n",
            "NOT logic\n",
            "True\n",
            "False\n",
            "--------------------------------------------------\n"
          ]
        }
      ]
    },
    {
      "cell_type": "code",
      "source": [
        "# take 2 input from user * , + , / , - , 1**2, floor , mod\n",
        "\n",
        "num1=float(input(\"Enter the first number \"))\n",
        "num2=float(input(\"Enter the second number \"))\n",
        "\n",
        "print(\"Sum =  \", num1+num2)\n",
        "print(\"Sub =  \", num1-num2) if num1>num2 else print(\"Sub =  \", num2-num1) # to make the output always is positive\n",
        "print(\"Mul =  \", num1*num2)\n",
        "print(\"EXP =  \", num1**num2)\n",
        "print(\"Div =  \", num1/num2)\n",
        "print(\"Floor Div =  \", num1//num2)\n",
        "print(\"Mod =  \", num1%num2)\n"
      ],
      "metadata": {
        "colab": {
          "base_uri": "https://localhost:8080/"
        },
        "id": "YEGee5I4apCC",
        "outputId": "4fc4af6e-592d-465a-ce69-2fbfd5f3c8ca"
      },
      "execution_count": null,
      "outputs": [
        {
          "output_type": "stream",
          "name": "stdout",
          "text": [
            "Enter the first number 15\n",
            "Enter the second number 3.5\n",
            "Sum =   18.5\n",
            "Sub =   11.5\n",
            "Mul =   52.5\n",
            "EXP =   13071.318793450033\n",
            "Div =   4.285714285714286\n",
            "Floor Div =   4.0\n",
            "Mod =   1.0\n"
          ]
        }
      ]
    },
    {
      "cell_type": "markdown",
      "source": [
        "# if condition\n"
      ],
      "metadata": {
        "id": "WFqbT2lXq651"
      }
    },
    {
      "cell_type": "code",
      "source": [
        "# if True:\n",
        "#     print(\"Hello\")\n",
        "# else:\n",
        "#     print(\"Bye\")\n"
      ],
      "metadata": {
        "id": "ZAWMTaREq-Cc"
      },
      "execution_count": null,
      "outputs": []
    },
    {
      "cell_type": "code",
      "source": [
        "num1=int(input(\"Enter the number \"))\n",
        "print(\"Even\") if num1 % 2 == 0 else print(\"Odd\")"
      ],
      "metadata": {
        "colab": {
          "base_uri": "https://localhost:8080/"
        },
        "id": "G3xK_3ClmwmK",
        "outputId": "2b37a890-688e-40da-f1db-52758e645ad0"
      },
      "execution_count": null,
      "outputs": [
        {
          "output_type": "stream",
          "name": "stdout",
          "text": [
            "Enter the number 10\n",
            "Even\n"
          ]
        }
      ]
    },
    {
      "cell_type": "code",
      "source": [
        "# area of triangle\n",
        "high=float(input(\"Enter the high \"))\n",
        "base=float(input(\"Enter the base \"))\n",
        "print(\"Area = \",0.5*high*base,\"cm^2\")\n"
      ],
      "metadata": {
        "colab": {
          "base_uri": "https://localhost:8080/"
        },
        "id": "7h-LkjYmp4xO",
        "outputId": "f99b7dbe-216d-4dea-a3a3-f871bc23288f"
      },
      "execution_count": null,
      "outputs": [
        {
          "output_type": "stream",
          "name": "stdout",
          "text": [
            "Enter the high 13\n",
            "Enter the base 68\n",
            "Area =  442.0 cm^2\n"
          ]
        }
      ]
    }
  ]
}