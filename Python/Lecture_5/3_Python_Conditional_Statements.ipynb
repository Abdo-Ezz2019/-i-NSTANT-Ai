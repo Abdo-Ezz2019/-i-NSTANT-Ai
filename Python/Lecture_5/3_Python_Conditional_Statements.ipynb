{
  "cells": [
    {
      "cell_type": "markdown",
      "metadata": {
        "id": "207eaf33"
      },
      "source": [
        "# Conditional Statements"
      ],
      "id": "207eaf33"
    },
    {
      "cell_type": "code",
      "source": [
        "print(\"Good Morning\")\n",
        "print(\"Good Night\")"
      ],
      "metadata": {
        "id": "2LTKtc_2IU2w",
        "colab": {
          "base_uri": "https://localhost:8080/"
        },
        "outputId": "24ebf399-13a4-4d59-964e-861e4c6f9136"
      },
      "id": "2LTKtc_2IU2w",
      "execution_count": null,
      "outputs": [
        {
          "output_type": "stream",
          "name": "stdout",
          "text": [
            "Good Morning\n",
            "Good Night\n"
          ]
        }
      ]
    },
    {
      "cell_type": "code",
      "execution_count": null,
      "metadata": {
        "id": "c8b7f7ef"
      },
      "outputs": [],
      "source": [
        "if condition == True :\n",
        "\n",
        "  print(\"Morning\")\n",
        "  print(\"hhadsa\")\n",
        "  a = 10\n",
        "\n",
        "\n",
        "print(\"Hello\")"
      ],
      "id": "c8b7f7ef"
    },
    {
      "cell_type": "code",
      "source": [
        "name = input(\"please enter your name \")\n",
        "# x = 10\n",
        "# y = 6\n",
        "name= name.lower()  # to avoid different charachter cases like A or a\n",
        "if  name == \"ahmed\":\n",
        "    print(\"Hello Ahmed\")\n",
        "    print(\"Hello\")\n",
        "    a = 10\n",
        "    print(a + 50)\n",
        "else:\n",
        "    print(\"You're not Ahmed ,Hello\",name)\n",
        "\n",
        "# print(\"Good Morning\")"
      ],
      "metadata": {
        "colab": {
          "base_uri": "https://localhost:8080/"
        },
        "id": "pG0jxkzlhuya",
        "outputId": "1935cc34-7d48-440d-93a5-1a76defbab79"
      },
      "id": "pG0jxkzlhuya",
      "execution_count": null,
      "outputs": [
        {
          "output_type": "stream",
          "name": "stdout",
          "text": [
            "please enter your name anas\n",
            "You're not Ahmed ,Hello anas\n"
          ]
        }
      ]
    },
    {
      "cell_type": "code",
      "source": [
        "time = \"8pM\"\n",
        "if time == \"8pM\" :\n",
        "  # block of code\n",
        "  print(\"Good Morning\")\n",
        "else:\n",
        "  print(\"GOOD Night\")\n",
        "\n",
        "# print(\"HELLO\")"
      ],
      "metadata": {
        "colab": {
          "base_uri": "https://localhost:8080/"
        },
        "id": "mGWGqGuBImBP",
        "outputId": "103be88f-471f-4865-99f6-31374aa84e52"
      },
      "id": "mGWGqGuBImBP",
      "execution_count": null,
      "outputs": [
        {
          "output_type": "stream",
          "name": "stdout",
          "text": [
            "Good Morning\n"
          ]
        }
      ]
    },
    {
      "cell_type": "code",
      "execution_count": null,
      "metadata": {
        "colab": {
          "base_uri": "https://localhost:8080/"
        },
        "id": "f1f13e87",
        "outputId": "417cd5af-d099-4cc6-9c18-b0d2f77f5d96"
      },
      "outputs": [
        {
          "output_type": "stream",
          "name": "stdout",
          "text": [
            "welcome\n",
            "end\n"
          ]
        }
      ],
      "source": [
        "if False:\n",
        "    print(\"Hello\")\n",
        "else:\n",
        "  print(\"welcome\")\n",
        "\n",
        "print(\"end\")"
      ],
      "id": "f1f13e87"
    },
    {
      "cell_type": "code",
      "source": [
        "user = input(\"Please Enter your user Name :\")\n",
        "password = input(\"Please Enter your Password :\")\n",
        "\n",
        "if (user == 'admin' or user == 'user' ) and password == '123':\n",
        "  print(\"Welcome admin you're logged in sucessfully\")\n",
        "else :\n",
        "  print(\"Your credntional is not correct!\")"
      ],
      "metadata": {
        "colab": {
          "base_uri": "https://localhost:8080/"
        },
        "id": "tebATiOUzVmF",
        "outputId": "454de98e-d31b-40cd-aceb-8fc63c71a1d3"
      },
      "id": "tebATiOUzVmF",
      "execution_count": null,
      "outputs": [
        {
          "output_type": "stream",
          "name": "stdout",
          "text": [
            "Please Enter your user Name :anas\n",
            "Please Enter your Password :123\n",
            "Your credntional is not correct!\n"
          ]
        }
      ]
    },
    {
      "cell_type": "code",
      "source": [],
      "metadata": {
        "id": "_boya4H8zyeC"
      },
      "id": "_boya4H8zyeC",
      "execution_count": null,
      "outputs": []
    },
    {
      "cell_type": "code",
      "source": [
        "user = input(\"Please Enter your user Name :\")\n",
        "password = input(\"Please Enter your Password :\")\n",
        "\n",
        "if (user == 'admin' or user == 'user') and password =='password':\n",
        "  print(\"Welcome admin you logged in sucessfully\")\n",
        "else:\n",
        "  print(\"Your credentional is not correct!\")"
      ],
      "metadata": {
        "colab": {
          "base_uri": "https://localhost:8080/"
        },
        "id": "z6KGZE9Gir0c",
        "outputId": "c5ef1304-ef1e-40be-a783-78e4e3b7011c"
      },
      "id": "z6KGZE9Gir0c",
      "execution_count": null,
      "outputs": [
        {
          "output_type": "stream",
          "name": "stdout",
          "text": [
            "Please Enter your user Name :user\n",
            "Please Enter your Password :password\n",
            "Welcome admin you logged in sucessfully\n"
          ]
        }
      ]
    },
    {
      "cell_type": "code",
      "source": [
        "user = input(\"Please Enter your user Name :\")\n",
        "password = input(\"Please Enter your Password :\")\n",
        "\n",
        "if user == \"admin\" and password == \"admin\":\n",
        "  print(\"Welcome Admin you Loged Sucessfully \")\n",
        "else :\n",
        "  print(\"Your credintials are not correct !\")"
      ],
      "metadata": {
        "colab": {
          "base_uri": "https://localhost:8080/"
        },
        "id": "1MINS263jTu2",
        "outputId": "ff6cd070-c451-4d46-ff0e-fd0d6752d51f"
      },
      "id": "1MINS263jTu2",
      "execution_count": null,
      "outputs": [
        {
          "output_type": "stream",
          "name": "stdout",
          "text": [
            "Please Enter your user Name :admin\n",
            "Please Enter your Password :admin1\n",
            "Your credintials are not correct !\n"
          ]
        }
      ]
    },
    {
      "cell_type": "code",
      "source": [
        "user = input(\"Please Enter your user Name :\")\n",
        "password = input(\"Please Enter your Password :\")\n",
        "\n",
        "if user == 'admin':\n",
        "  if password == \"password\":\n",
        "    print(\"Welcome Admin you Loged Sucessfully\")\n",
        "  else :\n",
        "    print(\"your password isn't correct!\")\n",
        "else :\n",
        "  print(\"Your credintials are not correct !\")"
      ],
      "metadata": {
        "colab": {
          "base_uri": "https://localhost:8080/"
        },
        "id": "Embs7ole0vWT",
        "outputId": "a96235e0-fe95-4505-a2b4-b86bf3c2f55a"
      },
      "id": "Embs7ole0vWT",
      "execution_count": null,
      "outputs": [
        {
          "output_type": "stream",
          "name": "stdout",
          "text": [
            "Please Enter your user Name :ahmed\n",
            "Please Enter your Password :password\n",
            "Your credintials are not correct !\n"
          ]
        }
      ]
    },
    {
      "cell_type": "code",
      "source": [
        "user = input(\"Please Enter your user Name :\")\n",
        "password = input(\"Please Enter your Password :\")\n",
        "\n",
        "if user == 'admin':\n",
        "    if password == 'password':\n",
        "        print(\"Welcome Admin you Loged Sucessfully \")\n",
        "    else :\n",
        "        print(\"Your password is not correct\")\n",
        "else :\n",
        "  print(\"Your credintials are not correct !\")"
      ],
      "metadata": {
        "colab": {
          "base_uri": "https://localhost:8080/"
        },
        "id": "DSUfgWX4kB-x",
        "outputId": "83ebd07d-5dac-4fdf-be8f-5b3191b6c8cb"
      },
      "id": "DSUfgWX4kB-x",
      "execution_count": null,
      "outputs": [
        {
          "output_type": "stream",
          "name": "stdout",
          "text": [
            "Please Enter your user Name :user\n",
            "Please Enter your Password :asdsad\n",
            "Your credintials are not correct !\n"
          ]
        }
      ]
    },
    {
      "cell_type": "code",
      "source": [
        "user = input(\"Please Enter your user Name :\")\n",
        "password = input(\"Please Enter your Password :\")\n",
        "\n",
        "if user == \"admin\":\n",
        "  if password == \"admin\":\n",
        "    print(\"Welcome Admin you Loged Sucessfully \")\n",
        "  else :\n",
        "    print(\"you entered wrong Password \")\n",
        "else :\n",
        "  print(\"Your credintials are not correct !\")"
      ],
      "metadata": {
        "colab": {
          "base_uri": "https://localhost:8080/"
        },
        "id": "knK9xqutjs_i",
        "outputId": "451b7554-2247-4892-81c9-1c9f61370996"
      },
      "id": "knK9xqutjs_i",
      "execution_count": null,
      "outputs": [
        {
          "output_type": "stream",
          "name": "stdout",
          "text": [
            "Please Enter your user Name :admin\n",
            "Please Enter your Password :admin2\n",
            "you entered wrong Password \n"
          ]
        }
      ]
    },
    {
      "cell_type": "code",
      "source": [
        "user = input(\"Please Enter your user Name :\")\n",
        "password = input(\"Please Enter your Password :\")\n",
        "\n",
        "adminUser = \"admin\"\n",
        "adminPassword = \"admin1\"\n",
        "\n",
        "if user == adminUser and password == adminPassword :\n",
        "  print(\"Welcome Admin you Loged Sucessfully \")\n",
        "else :\n",
        "  print(\"Your credintials are not correct !\")\n",
        "\n",
        "print(\"WELCOME\")"
      ],
      "metadata": {
        "colab": {
          "base_uri": "https://localhost:8080/"
        },
        "id": "8OUg3mLYLveW",
        "outputId": "84f1ed3b-6b95-49f9-b719-d9685489516a"
      },
      "id": "8OUg3mLYLveW",
      "execution_count": null,
      "outputs": [
        {
          "output_type": "stream",
          "name": "stdout",
          "text": [
            "Please Enter your user Name :admin\n",
            "Please Enter your Password :admin\n",
            "Your credintials are not correct !\n",
            "WELCOME\n"
          ]
        }
      ]
    },
    {
      "cell_type": "code",
      "execution_count": null,
      "metadata": {
        "colab": {
          "base_uri": "https://localhost:8080/"
        },
        "id": "115a3f30",
        "outputId": "cda09f15-cd44-4378-e207-d725229f7e1b"
      },
      "outputs": [
        {
          "output_type": "stream",
          "name": "stdout",
          "text": [
            "False\n",
            "end\n"
          ]
        }
      ],
      "source": [
        "if False :\n",
        "    print(\"Hello\")\n",
        "    print(\"Hi\")\n",
        "else:\n",
        "    print(\"False\")\n",
        "print(\"end\")\n",
        "\n"
      ],
      "id": "115a3f30"
    },
    {
      "cell_type": "code",
      "execution_count": null,
      "metadata": {
        "id": "218a8f63"
      },
      "outputs": [],
      "source": [
        "if 10 == 12:\n",
        "    print(\"One\")"
      ],
      "id": "218a8f63"
    },
    {
      "cell_type": "code",
      "execution_count": null,
      "metadata": {
        "colab": {
          "base_uri": "https://localhost:8080/"
        },
        "id": "ab6ae09b",
        "outputId": "b1c1013f-68e1-45c2-b5f6-808315be4b20"
      },
      "outputs": [
        {
          "output_type": "stream",
          "name": "stdout",
          "text": [
            "1\n"
          ]
        }
      ],
      "source": [
        "if 10 >= 5:\n",
        "    print(1)"
      ],
      "id": "ab6ae09b"
    },
    {
      "cell_type": "code",
      "execution_count": null,
      "metadata": {
        "colab": {
          "base_uri": "https://localhost:8080/"
        },
        "id": "0eb0252f",
        "outputId": "d311a89e-5731-41c2-868d-2b2bf9121580"
      },
      "outputs": [
        {
          "output_type": "stream",
          "name": "stdout",
          "text": [
            "1\n"
          ]
        }
      ],
      "source": [
        "if 10 > 5:\n",
        "    print(1)\n",
        "else:\n",
        "    print(2)"
      ],
      "id": "0eb0252f"
    },
    {
      "cell_type": "code",
      "execution_count": null,
      "metadata": {
        "id": "7f046a83",
        "outputId": "a6c67ae7-fdd7-442a-d3ed-7edb8b077421",
        "colab": {
          "base_uri": "https://localhost:8080/"
        }
      },
      "outputs": [
        {
          "output_type": "stream",
          "name": "stdout",
          "text": [
            "2\n"
          ]
        }
      ],
      "source": [
        "if 10 > 15:\n",
        "    print(1)\n",
        "else:\n",
        "    print(2)"
      ],
      "id": "7f046a83"
    },
    {
      "cell_type": "markdown",
      "source": [
        "input from user\n",
        "print even number if even\n",
        "print odd number if odd\n",
        "\n",
        "\n",
        "\n",
        "\n"
      ],
      "metadata": {
        "id": "pwfcvXJWHrek"
      },
      "id": "pwfcvXJWHrek"
    },
    {
      "cell_type": "code",
      "source": [
        "n = int(input(\"Please enter your number:\"))\n",
        "if n % 2 == 0:\n",
        "  print('Even')\n",
        "else :\n",
        "  print(\"odd\")"
      ],
      "metadata": {
        "colab": {
          "base_uri": "https://localhost:8080/"
        },
        "id": "CtnCN9le5e5z",
        "outputId": "cb344b67-3d9f-4dab-aae0-c85213092d78"
      },
      "id": "CtnCN9le5e5z",
      "execution_count": null,
      "outputs": [
        {
          "output_type": "stream",
          "name": "stdout",
          "text": [
            "Please enter your number:10\n",
            "Even\n"
          ]
        }
      ]
    },
    {
      "cell_type": "code",
      "source": [
        "n = int(input(\"Please enter a number:\"))\n",
        "if n % 2 == 0 :\n",
        "  print(\"Your Number is Even\")\n",
        "else :\n",
        "  print(\"Your number is Odd\")"
      ],
      "metadata": {
        "colab": {
          "base_uri": "https://localhost:8080/"
        },
        "id": "PvXC8KNunvEt",
        "outputId": "bfe2a388-761f-4a0e-bb33-27603817500e"
      },
      "id": "PvXC8KNunvEt",
      "execution_count": null,
      "outputs": [
        {
          "output_type": "stream",
          "name": "stdout",
          "text": [
            "Please enter a number:-5\n",
            "Your number is Odd\n"
          ]
        }
      ]
    },
    {
      "cell_type": "code",
      "source": [
        "x=int(input(\"Enter a number:\"))\n",
        "if x%2==0:\n",
        "  print(\"even\")\n",
        "else:\n",
        "  print(\"odd\")"
      ],
      "metadata": {
        "id": "Up8iDSiSinyf"
      },
      "id": "Up8iDSiSinyf",
      "execution_count": null,
      "outputs": []
    },
    {
      "cell_type": "code",
      "execution_count": null,
      "metadata": {
        "colab": {
          "base_uri": "https://localhost:8080/"
        },
        "id": "c9635dae",
        "outputId": "166eb010-beac-4bbc-ecd4-674ab7c27268"
      },
      "outputs": [
        {
          "output_type": "stream",
          "name": "stdout",
          "text": [
            "Neither right or Left\n"
          ]
        }
      ],
      "source": [
        "a = \"Up\"\n",
        "if a == \"right\":\n",
        "    print(\"Hi\")\n",
        "elif a == \"Left\":\n",
        "    print(\"Bye\")\n",
        "else:\n",
        "    print(\"Neither right or Left\")"
      ],
      "id": "c9635dae"
    },
    {
      "cell_type": "code",
      "source": [
        "if 10>5:    #<\n",
        "  print(\"ten greater than 5 \")\n",
        "elif 50 >30:\n",
        "  print(\"50 >30\")\n",
        "\n",
        "if 20 >5:\n",
        "  print(\"yes\")\n",
        "else :\n",
        "  print(\"not \")"
      ],
      "metadata": {
        "colab": {
          "base_uri": "https://localhost:8080/"
        },
        "id": "kn8svjVYme44",
        "outputId": "619f8f17-fead-4c41-b128-f4159f4ae348"
      },
      "id": "kn8svjVYme44",
      "execution_count": null,
      "outputs": [
        {
          "output_type": "stream",
          "name": "stdout",
          "text": [
            "ten greater than 5 \n",
            "yes\n"
          ]
        }
      ]
    },
    {
      "cell_type": "code",
      "source": [
        "score = float(input(\"Please enter a score:\"))\n",
        "if score >= 90:\n",
        "  print(\"A\")\n",
        "elif score >= 80 and score < 90:\n",
        "  print(\"B\")\n",
        "elif score >= 70 and score < 80:\n",
        "  print(\"C\")\n",
        "elif score >= 60 and score < 70:\n",
        "  print(\"D\")\n",
        "elif score < 60 :\n",
        "  print(\"F\")"
      ],
      "metadata": {
        "id": "Iuqx7qQjpUh_",
        "colab": {
          "base_uri": "https://localhost:8080/"
        },
        "outputId": "1ff24818-c6cf-4405-a1fd-aa610632565b"
      },
      "id": "Iuqx7qQjpUh_",
      "execution_count": null,
      "outputs": [
        {
          "output_type": "stream",
          "name": "stdout",
          "text": [
            "Please enter a score:65\n",
            "D\n"
          ]
        }
      ]
    },
    {
      "cell_type": "code",
      "source": [
        "score = int(input(\"Please input your score: \"))\n",
        "if score >= 90:\n",
        "    print(\"A\")\n",
        "elif score >= 80 :\n",
        "    print(\"B\")\n",
        "elif score >= 70 :\n",
        "    print(\"C\")\n",
        "elif score >= 60 :\n",
        "    print(\"D\")\n",
        "elif score < 60:\n",
        "    print(\"F\")"
      ],
      "metadata": {
        "colab": {
          "base_uri": "https://localhost:8080/"
        },
        "id": "2S3B_DHpBEu-",
        "outputId": "fce854bf-784b-412b-e2bf-c731bc3dfed9"
      },
      "id": "2S3B_DHpBEu-",
      "execution_count": null,
      "outputs": [
        {
          "output_type": "stream",
          "name": "stdout",
          "text": [
            "Please input your score: 40\n",
            "F\n"
          ]
        }
      ]
    },
    {
      "cell_type": "code",
      "source": [
        "personScore = int(input())\n",
        "if personScore >90 :\n",
        "  print(\"exellent\")\n",
        "elif personScore > 85 and personScore <=90 :\n",
        "  print(\"very Good\")\n",
        "elif personScore <=85 and personScore > 70 :\n",
        "  print(\"Good\")\n",
        "else :\n",
        "  print(\"Lose\")"
      ],
      "metadata": {
        "colab": {
          "base_uri": "https://localhost:8080/"
        },
        "id": "TjRsYd-3NsBK",
        "outputId": "fb901e4d-488c-438b-b048-bb735b16909d"
      },
      "id": "TjRsYd-3NsBK",
      "execution_count": null,
      "outputs": [
        {
          "output_type": "stream",
          "name": "stdout",
          "text": [
            "102\n",
            "exellent\n"
          ]
        }
      ]
    },
    {
      "cell_type": "code",
      "source": [
        "personScore = int(input())\n",
        "if personScore >90 :\n",
        "  print(\"Won\")\n",
        "elif personScore > 85 and personScore <=90 :\n",
        "  print(\"very Good\")\n",
        "elif personScore <=85 and personScore > 70 :\n",
        "  print(\"Good\")\n",
        "else :\n",
        "  print(\"Lose\")"
      ],
      "metadata": {
        "colab": {
          "base_uri": "https://localhost:8080/"
        },
        "id": "95OM012BKSlj",
        "outputId": "524cd83f-67a9-4d38-82f4-d3936c7e79e5"
      },
      "id": "95OM012BKSlj",
      "execution_count": null,
      "outputs": [
        {
          "output_type": "stream",
          "name": "stdout",
          "text": [
            "50\n",
            "Lose\n"
          ]
        }
      ]
    },
    {
      "cell_type": "code",
      "execution_count": null,
      "metadata": {
        "colab": {
          "base_uri": "https://localhost:8080/"
        },
        "id": "28d2908f",
        "outputId": "d9827739-12c5-4211-dbfc-a72acf8aeae1"
      },
      "outputs": [
        {
          "output_type": "stream",
          "name": "stdout",
          "text": [
            "B\n"
          ]
        }
      ],
      "source": [
        "if 8 > 9:\n",
        "    print(\"A\")\n",
        "elif 8 < 9:\n",
        "    print(\"B\")\n",
        "elif 8 > 5:\n",
        "    print(\"D\")\n",
        "else:\n",
        "    print(\"C\")"
      ],
      "id": "28d2908f"
    },
    {
      "cell_type": "code",
      "execution_count": null,
      "metadata": {
        "colab": {
          "base_uri": "https://localhost:8080/"
        },
        "id": "d1f9f5bd",
        "outputId": "01f3cd6f-8e8a-4abe-e7b6-dc48f88df2c7"
      },
      "outputs": [
        {
          "output_type": "stream",
          "name": "stdout",
          "text": [
            "A\n",
            "B\n"
          ]
        }
      ],
      "source": [
        "if 81 > 9:\n",
        "    print(\"A\")\n",
        "if 8 < 19:\n",
        "    print(\"B\")\n",
        "else:\n",
        "    print(\"C\")"
      ],
      "id": "d1f9f5bd"
    },
    {
      "cell_type": "code",
      "execution_count": null,
      "metadata": {
        "colab": {
          "base_uri": "https://localhost:8080/"
        },
        "id": "02af250e",
        "outputId": "8773cb27-7117-4bb6-a41d-d24bbb230130"
      },
      "outputs": [
        {
          "output_type": "stream",
          "name": "stdout",
          "text": [
            "B\n"
          ]
        }
      ],
      "source": [
        "if 8 > 9:\n",
        "    print(\"A\")\n",
        "elif 8 < 19:\n",
        "    print(\"B\")\n",
        "elif 10 == 10:\n",
        "    print(\"C\")\n",
        "else:\n",
        "    print(\"ABC\")"
      ],
      "id": "02af250e"
    },
    {
      "cell_type": "code",
      "execution_count": null,
      "metadata": {
        "id": "3ECLIplHHXoG",
        "colab": {
          "base_uri": "https://localhost:8080/"
        },
        "outputId": "635efd2f-7c42-496e-b8f8-4ad96600410c"
      },
      "outputs": [
        {
          "output_type": "stream",
          "name": "stdout",
          "text": [
            "Z\n"
          ]
        }
      ],
      "source": [
        "if 1 == 2:\n",
        "   print(\"HELLO\")\n",
        "elif 10 == 10:\n",
        "      print(\"Z\")\n",
        "else:\n",
        "    print(\"ABC\")"
      ],
      "id": "3ECLIplHHXoG"
    },
    {
      "cell_type": "code",
      "execution_count": null,
      "metadata": {
        "colab": {
          "base_uri": "https://localhost:8080/",
          "height": 106
        },
        "id": "3d7a8245",
        "outputId": "cdd43e04-d198-433a-85cf-c758a9361ccd"
      },
      "outputs": [
        {
          "output_type": "error",
          "ename": "SyntaxError",
          "evalue": "invalid syntax (<ipython-input-43-812897d53679>, line 1)",
          "traceback": [
            "\u001b[0;36m  File \u001b[0;32m\"<ipython-input-43-812897d53679>\"\u001b[0;36m, line \u001b[0;32m1\u001b[0m\n\u001b[0;31m    else:\u001b[0m\n\u001b[0m    ^\u001b[0m\n\u001b[0;31mSyntaxError\u001b[0m\u001b[0;31m:\u001b[0m invalid syntax\n"
          ]
        }
      ],
      "source": [
        "else:\n",
        "  print(\"Hello\")"
      ],
      "id": "3d7a8245"
    },
    {
      "cell_type": "code",
      "execution_count": null,
      "metadata": {
        "colab": {
          "base_uri": "https://localhost:8080/",
          "height": 106
        },
        "id": "70327c61",
        "outputId": "6d6836c7-272f-43a3-ef6f-a0bf2f8cfbf5"
      },
      "outputs": [
        {
          "output_type": "error",
          "ename": "SyntaxError",
          "evalue": "invalid syntax (<ipython-input-44-149eef2e19f5>, line 1)",
          "traceback": [
            "\u001b[0;36m  File \u001b[0;32m\"<ipython-input-44-149eef2e19f5>\"\u001b[0;36m, line \u001b[0;32m1\u001b[0m\n\u001b[0;31m    elif 10 == 10:\u001b[0m\n\u001b[0m    ^\u001b[0m\n\u001b[0;31mSyntaxError\u001b[0m\u001b[0;31m:\u001b[0m invalid syntax\n"
          ]
        }
      ],
      "source": [
        "elif 10 == 10:\n",
        "    print(\"Z\")"
      ],
      "id": "70327c61"
    },
    {
      "cell_type": "markdown",
      "metadata": {
        "id": "03e77598"
      },
      "source": [
        "# Nested If Else"
      ],
      "id": "03e77598"
    },
    {
      "cell_type": "code",
      "source": [
        "user = input(\"Enter user Name: \")\n",
        "password = input(\"Enter Password: \")\n",
        "adminUser = \"admin\"\n",
        "adminPassword = \"admin1\"\n",
        "\n",
        "if user == adminUser : # parent IF\n",
        "  if password == adminPassword : # child IF\n",
        "    print(\"Welcome Admin you Loged Sucessfully \")\n",
        "  else :\n",
        "    print(\"you entered wrong Password \")\n",
        "else :\n",
        "  print(\"Your credintials are not correct !\")\n"
      ],
      "metadata": {
        "id": "O7gDtJi4UBNG",
        "colab": {
          "base_uri": "https://localhost:8080/"
        },
        "outputId": "9698fb4e-401c-423b-a35d-51e96c3e05ee"
      },
      "id": "O7gDtJi4UBNG",
      "execution_count": null,
      "outputs": [
        {
          "output_type": "stream",
          "name": "stdout",
          "text": [
            "Enter user Name: admin\n",
            "Enter Password: admin1\n",
            "Welcome Admin you Loged Sucessfully \n"
          ]
        }
      ]
    },
    {
      "cell_type": "code",
      "source": [
        "student = input(\"Please Enter Your Grade:\")\n",
        "grade=0\n",
        "if student == \"1stSecondery\" or student==\"1s\":\n",
        "  q1 = input(\"what is the first Number\")  #10\n",
        "  q2 = input(\"What is the second Number\") #5\n",
        "  if q1 ==\"1\":\n",
        "    grade+=1 # grade=grade+1  --> grade=0+1 --> grade=1\n",
        "  if q2 ==\"2\":\n",
        "    grade+=2  # grade=grade+2  --> grade=1+2 --> grade=3\n",
        "elif student == \"2ndSecondery\" or student == \"2s\":\n",
        "  q1 = input(\"what is the speed\")\n",
        "  q2 = input(\"What is the name\")\n",
        "  if q1 ==\"20\":\n",
        "    grade+=1\n",
        "  if q2 ==\"Mohamed Ali\":\n",
        "    grade+=2\n"
      ],
      "metadata": {
        "colab": {
          "base_uri": "https://localhost:8080/"
        },
        "id": "Bijj4_p2VxIV",
        "outputId": "42cc684f-5824-48cb-eb51-2ae5e3235839"
      },
      "id": "Bijj4_p2VxIV",
      "execution_count": null,
      "outputs": [
        {
          "name": "stdout",
          "output_type": "stream",
          "text": [
            "Please Enter Your Grade:2s\n",
            "what is the speed20\n",
            "What is the nameMohamed Ali\n"
          ]
        }
      ]
    },
    {
      "cell_type": "code",
      "source": [
        "print(grade)"
      ],
      "metadata": {
        "colab": {
          "base_uri": "https://localhost:8080/"
        },
        "id": "1BiLYZ8fNws1",
        "outputId": "64ffdb90-a1ba-4398-bad2-48a9e4fbb614"
      },
      "id": "1BiLYZ8fNws1",
      "execution_count": null,
      "outputs": [
        {
          "output_type": "stream",
          "name": "stdout",
          "text": [
            "3\n"
          ]
        }
      ]
    },
    {
      "cell_type": "code",
      "source": [
        "grade"
      ],
      "metadata": {
        "id": "_L3TFeyHKOIw",
        "colab": {
          "base_uri": "https://localhost:8080/"
        },
        "outputId": "f3151395-6929-4b32-d768-139e02c0073a"
      },
      "id": "_L3TFeyHKOIw",
      "execution_count": null,
      "outputs": [
        {
          "output_type": "execute_result",
          "data": {
            "text/plain": [
              "3"
            ]
          },
          "metadata": {},
          "execution_count": 24
        }
      ]
    },
    {
      "cell_type": "code",
      "execution_count": null,
      "metadata": {
        "colab": {
          "base_uri": "https://localhost:8080/"
        },
        "id": "2f2b4938",
        "outputId": "ce567adc-3e4d-4892-b42a-f1a282a1f1c3"
      },
      "outputs": [
        {
          "output_type": "stream",
          "name": "stdout",
          "text": [
            "Write an number10\n",
            "A\n",
            "B\n"
          ]
        }
      ],
      "source": [
        "n = int(input(\"Write an number\"))  # 10\n",
        "if n == 10:\n",
        "    print(\"A\")\n",
        "    if 1 == 1:\n",
        "        print(\"B\")\n",
        "    else:\n",
        "        print(\"C\")\n",
        "elif n > 5:\n",
        "  print('ELIF')\n",
        "else:\n",
        "    print(\"D\")"
      ],
      "id": "2f2b4938"
    },
    {
      "cell_type": "code",
      "execution_count": null,
      "metadata": {
        "colab": {
          "base_uri": "https://localhost:8080/"
        },
        "id": "850e6798",
        "outputId": "e9094d21-200f-482c-8168-61383724413e"
      },
      "outputs": [
        {
          "output_type": "stream",
          "name": "stdout",
          "text": [
            "ELSE\n"
          ]
        }
      ],
      "source": [
        "if 1+1 == 2:\n",
        "    if 2*2 == 8:\n",
        "        print(\"IF\")\n",
        "    else:\n",
        "        print(\"ELSE\")\n",
        "else:\n",
        "    print(\"A\")"
      ],
      "id": "850e6798"
    },
    {
      "cell_type": "code",
      "execution_count": null,
      "metadata": {
        "id": "dd2b2e20",
        "colab": {
          "base_uri": "https://localhost:8080/"
        },
        "outputId": "f9c23deb-8672-4a72-eef1-e1ef3100e962"
      },
      "outputs": [
        {
          "output_type": "stream",
          "name": "stdout",
          "text": [
            "Enter a Number: 0\n",
            "A\n",
            "G\n"
          ]
        }
      ],
      "source": [
        "n = int(input(\"Enter a Number: \"))   # 10, 1, 5, 0\n",
        "if n <= 5:\n",
        "    print(\"A\")\n",
        "    if n == 3:\n",
        "        print(\"B\")\n",
        "    elif n == 4:\n",
        "        print(\"C\")\n",
        "    else:\n",
        "        if n == 5:\n",
        "            print(\"F\")\n",
        "        else:\n",
        "            print(\"G\")\n",
        "else:\n",
        "    if n == 7:\n",
        "        print(\"D\")\n",
        "    else:\n",
        "        print(\"E\")"
      ],
      "id": "dd2b2e20"
    },
    {
      "cell_type": "markdown",
      "metadata": {
        "id": "2bf9413c"
      },
      "source": [
        "# Ternary Statements"
      ],
      "id": "2bf9413c"
    },
    {
      "cell_type": "code",
      "execution_count": null,
      "metadata": {
        "id": "8e13993c"
      },
      "outputs": [],
      "source": [
        "?  :"
      ],
      "id": "8e13993c"
    },
    {
      "cell_type": "code",
      "source": [
        "b = 50\n",
        "c = 10\n",
        "\n",
        "# if b > c:\n",
        "#   a = 50\n",
        "# else :\n",
        "#   a = 1\n",
        "\n",
        "a = 50 if b > c  else 1\n",
        "\n",
        "# a"
      ],
      "metadata": {
        "id": "nSwomMd8tpWE",
        "colab": {
          "base_uri": "https://localhost:8080/"
        },
        "outputId": "2ccfd043-f648-4714-e6f3-b2a68a38986c"
      },
      "id": "nSwomMd8tpWE",
      "execution_count": null,
      "outputs": [
        {
          "output_type": "execute_result",
          "data": {
            "text/plain": [
              "50"
            ]
          },
          "metadata": {},
          "execution_count": 11
        }
      ]
    },
    {
      "cell_type": "code",
      "execution_count": null,
      "metadata": {
        "colab": {
          "base_uri": "https://localhost:8080/"
        },
        "id": "BwFW0orIJV0_",
        "outputId": "89762856-4c44-45ee-dbf6-711a2f8e6329"
      },
      "outputs": [
        {
          "output_type": "stream",
          "name": "stdout",
          "text": [
            "5\n"
          ]
        }
      ],
      "source": [
        "b = 12\n",
        "c= 10\n",
        "\n",
        "# a = 5 ? b>c : 10\n",
        "a = 5 if b > c else 50\n",
        "\n",
        "if (b > c) :\n",
        "  a = 5\n",
        "else:\n",
        "  a = 50\n",
        "\n",
        "\n",
        "print(a)"
      ],
      "id": "BwFW0orIJV0_"
    },
    {
      "cell_type": "code",
      "execution_count": null,
      "metadata": {
        "colab": {
          "base_uri": "https://localhost:8080/"
        },
        "id": "54304795",
        "outputId": "e64b6cf1-55b5-4477-c182-20d9954d2ca9"
      },
      "outputs": [
        {
          "output_type": "stream",
          "name": "stdout",
          "text": [
            "45\n"
          ]
        }
      ],
      "source": [
        "a = 3\n",
        "b = 1 if a>=5 else 45\n",
        "\n",
        "# if a >= 5 :\n",
        "#   b= 1\n",
        "# else :\n",
        "#   b=45\n",
        "\n",
        "print(b)"
      ],
      "id": "54304795"
    },
    {
      "cell_type": "code",
      "execution_count": null,
      "metadata": {
        "id": "479795e9",
        "outputId": "67b243fd-4dfc-4301-997a-2dc225e0adf3",
        "colab": {
          "base_uri": "https://localhost:8080/"
        }
      },
      "outputs": [
        {
          "output_type": "stream",
          "name": "stdout",
          "text": [
            "1\n"
          ]
        }
      ],
      "source": [
        "a = 8\n",
        "b = 1 if a>=5 else 45\n",
        "print(b)"
      ],
      "id": "479795e9"
    },
    {
      "cell_type": "code",
      "execution_count": null,
      "metadata": {
        "colab": {
          "base_uri": "https://localhost:8080/"
        },
        "id": "6c80d8e6",
        "outputId": "08a65051-4085-4848-f961-a6182c4296f6"
      },
      "outputs": [
        {
          "output_type": "stream",
          "name": "stdout",
          "text": [
            "Login\n"
          ]
        }
      ],
      "source": [
        "status = 1\n",
        "\n",
        "msg = \"Login\" if status == 1 else \"Logout\"\n",
        "\n",
        "print(msg)"
      ],
      "id": "6c80d8e6"
    },
    {
      "cell_type": "markdown",
      "metadata": {
        "id": "73aaa8af"
      },
      "source": [
        "# Questions\n",
        "\n",
        "**1. WAP to enter a number from user and check it is greater than 10 or not.**"
      ],
      "id": "73aaa8af"
    },
    {
      "cell_type": "code",
      "source": [
        "n = int(input(\"Please enter a number:\"))\n",
        "if n > 10 :\n",
        "  print(\"your number is greater than 10\")\n",
        "elif n < 10 :\n",
        "  print(\"your number is less than 10\")\n",
        "else :\n",
        "  print(\"your number is 10\")\n"
      ],
      "metadata": {
        "colab": {
          "base_uri": "https://localhost:8080/"
        },
        "id": "ecNO6GpJAo1h",
        "outputId": "c4439377-8dc1-4fab-cc03-e617dd67cab1"
      },
      "id": "ecNO6GpJAo1h",
      "execution_count": null,
      "outputs": [
        {
          "output_type": "stream",
          "name": "stdout",
          "text": [
            "Please enter a number:2\n",
            "your number is less than 10\n"
          ]
        }
      ]
    },
    {
      "cell_type": "code",
      "source": [
        "n = int(input(\"Please enter a number:\"))\n",
        "result = \"your number is greater than 10\" if n > 10 else \"your number is less than 10\" if n < 10 else \"your number is 10\""
      ],
      "metadata": {
        "colab": {
          "base_uri": "https://localhost:8080/"
        },
        "id": "-fmCYy23BE3n",
        "outputId": "07c2b916-9a33-49b1-9b0d-f58c2599609f"
      },
      "id": "-fmCYy23BE3n",
      "execution_count": null,
      "outputs": [
        {
          "name": "stdout",
          "output_type": "stream",
          "text": [
            "Please enter a number:2\n"
          ]
        }
      ]
    },
    {
      "cell_type": "code",
      "source": [
        "print(result)"
      ],
      "metadata": {
        "colab": {
          "base_uri": "https://localhost:8080/"
        },
        "id": "O4rtqRIMBXgB",
        "outputId": "65fcf084-d2db-4a45-a9b2-e9b3c4929565"
      },
      "id": "O4rtqRIMBXgB",
      "execution_count": null,
      "outputs": [
        {
          "output_type": "stream",
          "name": "stdout",
          "text": [
            "your number is less than 10\n"
          ]
        }
      ]
    },
    {
      "cell_type": "code",
      "source": [
        "n = int(input(\"Please enter a number:\"))\n",
        "\n",
        "if n > 10 :\n",
        "  print(\"Your number is greater than 10\")\n",
        "elif n == 10:\n",
        "  print(\"Your number is 10\")\n",
        "else :\n",
        "  print(\"Your number is smaller than 10\")"
      ],
      "metadata": {
        "colab": {
          "base_uri": "https://localhost:8080/"
        },
        "id": "lifSa2ppv3tg",
        "outputId": "8cb8a8fc-cf5f-457b-9bb7-cb3d9a8ac7d8"
      },
      "id": "lifSa2ppv3tg",
      "execution_count": null,
      "outputs": [
        {
          "output_type": "stream",
          "name": "stdout",
          "text": [
            "Please enter a number:15\n",
            "Your number is greater than 10\n"
          ]
        }
      ]
    },
    {
      "cell_type": "code",
      "source": [
        "n = int(input(\"Please enter a number:\"))\n",
        "\n",
        "result = \"Greater than 10\" if n > 10 else \"smaller than 10\" if n < 10 else \"Equal to ten\""
      ],
      "metadata": {
        "colab": {
          "base_uri": "https://localhost:8080/"
        },
        "id": "pzWZQJHJw8lf",
        "outputId": "c479312a-c4ea-4454-ff8c-696e4007a468"
      },
      "id": "pzWZQJHJw8lf",
      "execution_count": null,
      "outputs": [
        {
          "name": "stdout",
          "output_type": "stream",
          "text": [
            "Please enter a number:15\n"
          ]
        }
      ]
    },
    {
      "cell_type": "code",
      "source": [
        "print(result)"
      ],
      "metadata": {
        "colab": {
          "base_uri": "https://localhost:8080/"
        },
        "id": "vWT76cUUxQmF",
        "outputId": "27a11ddf-5fa0-4c06-e909-9262ba9754ae"
      },
      "id": "vWT76cUUxQmF",
      "execution_count": null,
      "outputs": [
        {
          "output_type": "stream",
          "name": "stdout",
          "text": [
            "Greater than 10\n"
          ]
        }
      ]
    },
    {
      "cell_type": "code",
      "source": [
        "n = int(input(\"Enter a number \"))\n",
        "if n >10:\n",
        "  print(n,\"Greater than 10\")\n",
        "else:\n",
        "  print(n,\"less than 10\")"
      ],
      "metadata": {
        "colab": {
          "base_uri": "https://localhost:8080/"
        },
        "id": "U4vJzGFUphfQ",
        "outputId": "fb949d70-7b3f-4c30-9add-a4890a2cc168"
      },
      "id": "U4vJzGFUphfQ",
      "execution_count": null,
      "outputs": [
        {
          "output_type": "stream",
          "name": "stdout",
          "text": [
            "Enter a number 10\n",
            "10 less than 10\n"
          ]
        }
      ]
    },
    {
      "cell_type": "code",
      "source": [
        "n = int(input(\"Enter a number \"))\n",
        "if n >10:\n",
        "  print(n,\"Greater than 10\")\n",
        "elif n ==10:\n",
        "  print(\"you entered 10\")\n",
        "else:\n",
        "  print(n,\"less than 10\")"
      ],
      "metadata": {
        "colab": {
          "base_uri": "https://localhost:8080/"
        },
        "id": "4kIpdBZtK3ki",
        "outputId": "b05cc8df-3c96-4ce9-a31f-8219badbc05a"
      },
      "id": "4kIpdBZtK3ki",
      "execution_count": null,
      "outputs": [
        {
          "output_type": "stream",
          "name": "stdout",
          "text": [
            "Enter a number 9\n",
            "9 less than 10\n"
          ]
        }
      ]
    },
    {
      "cell_type": "markdown",
      "metadata": {
        "id": "Q12BsBEOKN4o"
      },
      "source": [],
      "id": "Q12BsBEOKN4o"
    },
    {
      "cell_type": "markdown",
      "metadata": {
        "id": "20xuX4GbKNhC"
      },
      "source": [],
      "id": "20xuX4GbKNhC"
    },
    {
      "cell_type": "code",
      "execution_count": null,
      "metadata": {
        "id": "08cff3cf",
        "outputId": "5e442307-cb6b-4480-e547-2efb3cf783c6"
      },
      "outputs": [
        {
          "name": "stdout",
          "output_type": "stream",
          "text": [
            "Enter a Number: 2\n",
            "Smaller\n"
          ]
        }
      ],
      "source": [
        "n = int(input(\"Enter a Number: \"))\n",
        "if n > 10:\n",
        "    print(\"Greater\")\n",
        "elif n == 10:\n",
        "    print(\"Equal\")\n",
        "else:\n",
        "    print(\"Smaller\")"
      ],
      "id": "08cff3cf"
    },
    {
      "cell_type": "markdown",
      "metadata": {
        "id": "939b01b1"
      },
      "source": [
        "**2. WAP to enter a number from user and check if it is even or odd.**"
      ],
      "id": "939b01b1"
    },
    {
      "cell_type": "code",
      "source": [
        "7/2"
      ],
      "metadata": {
        "colab": {
          "base_uri": "https://localhost:8080/"
        },
        "id": "6fpB6QVJeYXy",
        "outputId": "a38eb459-79ef-4d94-9287-3a232768a2b5"
      },
      "id": "6fpB6QVJeYXy",
      "execution_count": null,
      "outputs": [
        {
          "output_type": "execute_result",
          "data": {
            "text/plain": [
              "3.5"
            ]
          },
          "metadata": {},
          "execution_count": 38
        }
      ]
    },
    {
      "cell_type": "code",
      "source": [],
      "metadata": {
        "colab": {
          "base_uri": "https://localhost:8080/"
        },
        "id": "pajZ3XiCemeA",
        "outputId": "fb7ba1f9-09d9-4298-e074-4e44340f16d2"
      },
      "id": "pajZ3XiCemeA",
      "execution_count": null,
      "outputs": [
        {
          "output_type": "stream",
          "name": "stdout",
          "text": [
            "Enter a number 6\n",
            "<class 'float'>\n",
            "Odd\n"
          ]
        }
      ]
    },
    {
      "cell_type": "code",
      "source": [
        "n = int(input('Enter a number '))\n",
        "if n % 2==0:\n",
        "  print(\"Even\")\n",
        "else:\n",
        "  print(\"Odd\")"
      ],
      "metadata": {
        "colab": {
          "base_uri": "https://localhost:8080/"
        },
        "id": "c8BbzqtgL4Nk",
        "outputId": "21d4c60e-e1ca-49e3-ddf8-ca0f171f09d5"
      },
      "id": "c8BbzqtgL4Nk",
      "execution_count": null,
      "outputs": [
        {
          "output_type": "stream",
          "name": "stdout",
          "text": [
            "Enter a number 10\n",
            "Even\n"
          ]
        }
      ]
    },
    {
      "cell_type": "code",
      "execution_count": null,
      "metadata": {
        "colab": {
          "base_uri": "https://localhost:8080/"
        },
        "id": "ZoWt26BSwR01",
        "outputId": "748b5eb9-17e3-4639-b682-a3b13aa11a74"
      },
      "outputs": [
        {
          "output_type": "stream",
          "name": "stdout",
          "text": [
            "please enter a number : 5\n",
            "ODD\n"
          ]
        }
      ],
      "source": [
        "n = int(input(\"please enter a number : \"))\n",
        "if n % 2 == 0:\n",
        "  print('Even')\n",
        "else :\n",
        "  print('ODD')"
      ],
      "id": "ZoWt26BSwR01"
    },
    {
      "cell_type": "code",
      "execution_count": null,
      "metadata": {
        "id": "Awk2bO6CwSj5"
      },
      "outputs": [],
      "source": [],
      "id": "Awk2bO6CwSj5"
    },
    {
      "cell_type": "code",
      "execution_count": null,
      "metadata": {
        "id": "ec6be812",
        "outputId": "fb97d3e6-4f18-4501-be45-d0ceb284799b"
      },
      "outputs": [
        {
          "name": "stdout",
          "output_type": "stream",
          "text": [
            "Enter a Number: 10\n",
            "Even\n"
          ]
        }
      ],
      "source": [
        "n = int(input(\"Enter a Number: \"))\n",
        "\n",
        "if n%2 == 0:\n",
        "    print(\"Even\")\n",
        "else:\n",
        "    print(\"Odd\")"
      ],
      "id": "ec6be812"
    },
    {
      "cell_type": "code",
      "source": [
        "n = int(input(\"Enter a Number: \"))\n",
        "\n",
        "if n >= 1 and n <= 5:\n",
        "  if n == 1:\n",
        "    print(\"one\")\n",
        "  elif n == 2:\n",
        "    print(\"two\")\n",
        "  elif n == 3:\n",
        "    print(\"three\")\n",
        "  elif n == 4:\n",
        "    print(\"four\")\n",
        "  elif n == 5:\n",
        "    print(\"five\")\n",
        "else:\n",
        "    print(\"invalid\")"
      ],
      "metadata": {
        "id": "0lg7kSgkUMa9"
      },
      "id": "0lg7kSgkUMa9",
      "execution_count": null,
      "outputs": []
    },
    {
      "cell_type": "markdown",
      "metadata": {
        "id": "1552f1a8"
      },
      "source": [
        "**3. WAP to enter a number from user between 1 to 5 and print its character format.**\n",
        "\n",
        "1 -- One\n",
        "\n",
        "2 -- Two"
      ],
      "id": "1552f1a8"
    },
    {
      "cell_type": "code",
      "source": [
        "n = int(input(\"Enter a Number: \"))\n",
        "if n == 1:\n",
        "  print(\"one\")\n",
        "if n == 2:\n",
        "  print(\"two\")\n",
        "if n == 3:\n",
        "  print(\"three\")\n",
        "if n == 4:\n",
        "  print(\"four\")\n",
        "if n == 5:\n",
        "  print(\"five\")\n",
        "else :\n",
        "  print(\"invalid\")    # here we use if not elif so invlaid printed in case the number is 1 or 1->4"
      ],
      "metadata": {
        "colab": {
          "base_uri": "https://localhost:8080/"
        },
        "id": "LeADM6CLqhG9",
        "outputId": "2779636e-0efa-4526-9823-ccc65bf49530"
      },
      "id": "LeADM6CLqhG9",
      "execution_count": null,
      "outputs": [
        {
          "output_type": "stream",
          "name": "stdout",
          "text": [
            "Enter a Number: 1\n",
            "one\n",
            "invalid\n"
          ]
        }
      ]
    },
    {
      "cell_type": "code",
      "source": [
        "n = int(input(\"Enter a Number: \"))\n",
        "if n == 1:\n",
        "  print(\"one\")\n",
        "elif n == 2:\n",
        "  print(\"two\")\n",
        "elif n == 3:\n",
        "  print(\"three\")\n",
        "elif n == 4:\n",
        "  print(\"four\")\n",
        "elif n == 5:\n",
        "  print(\"five\")\n",
        "else:\n",
        "  print(\"invalid\")"
      ],
      "metadata": {
        "colab": {
          "base_uri": "https://localhost:8080/"
        },
        "id": "MzZOVbFEqxz2",
        "outputId": "a915f8d6-6eb0-42dd-8fc4-54fd02105c30"
      },
      "id": "MzZOVbFEqxz2",
      "execution_count": null,
      "outputs": [
        {
          "output_type": "stream",
          "name": "stdout",
          "text": [
            "Enter a Number: 1\n",
            "one\n"
          ]
        }
      ]
    },
    {
      "cell_type": "code",
      "source": [
        "n = int(input(\"Enter a Number: \"))\n",
        "if n <1 or n >5:\n",
        "  print(\"Out of Range\")\n",
        "else:\n",
        "  if n == 1:\n",
        "    print(\"one\")\n",
        "  elif n == 2 :\n",
        "    print(\"Two\")\n",
        "  elif n==3:\n",
        "    print('Three')\n",
        "  elif n == 4:\n",
        "    print('Four')\n",
        "  else:\n",
        "    print('Five')"
      ],
      "metadata": {
        "colab": {
          "base_uri": "https://localhost:8080/"
        },
        "id": "-MHX91nvMk7D",
        "outputId": "39c29d8a-5fb2-4b03-d633-b2955ff6f7c7"
      },
      "id": "-MHX91nvMk7D",
      "execution_count": null,
      "outputs": [
        {
          "output_type": "stream",
          "name": "stdout",
          "text": [
            "Enter a Number: 4\n",
            "Four\n"
          ]
        }
      ]
    },
    {
      "cell_type": "markdown",
      "source": [],
      "metadata": {
        "id": "Qg9QzLPz8lk5"
      },
      "id": "Qg9QzLPz8lk5"
    },
    {
      "cell_type": "code",
      "execution_count": null,
      "metadata": {
        "colab": {
          "base_uri": "https://localhost:8080/"
        },
        "id": "9TOqDAsSyoyI",
        "outputId": "728a5bc7-e1d6-49a5-bfd3-262ede94b30d"
      },
      "outputs": [
        {
          "output_type": "stream",
          "name": "stdout",
          "text": [
            "Enter a Number: 10\n",
            "Number out of the range\n"
          ]
        }
      ],
      "source": [
        "n = int(input(\"Enter a Number: \"))\n",
        "if n >=1 and n <=5 :\n",
        "  if n ==1:\n",
        "    print('One')\n",
        "  elif n== 2:\n",
        "    print('Two')\n",
        "  elif n==3:\n",
        "    print('Three')\n",
        "  elif n == 4:\n",
        "    print('Four')\n",
        "  else:\n",
        "    print('Five')\n",
        "else:\n",
        "  print('Number out of the range')"
      ],
      "id": "9TOqDAsSyoyI"
    },
    {
      "cell_type": "code",
      "execution_count": null,
      "metadata": {
        "id": "0bc7ae26",
        "outputId": "dc974122-da21-4ec1-b7fc-06fdfaa11e26",
        "colab": {
          "base_uri": "https://localhost:8080/"
        }
      },
      "outputs": [
        {
          "output_type": "stream",
          "name": "stdout",
          "text": [
            "Enter a Number: 20\n",
            "Invalid Input\n"
          ]
        }
      ],
      "source": [
        "n = int(input(\"Enter a Number: \"))\n",
        "\n",
        "if n == 1:\n",
        "    print(\"One\")\n",
        "elif n == 2:\n",
        "    print(\"Two\")\n",
        "elif n == 3:\n",
        "    print(\"Three\")\n",
        "elif n == 4:\n",
        "    print(\"Four\")\n",
        "elif n == 5:\n",
        "    print(\"Five\")\n",
        "else:\n",
        "    print(\"Invalid Input\")"
      ],
      "id": "0bc7ae26"
    },
    {
      "cell_type": "markdown",
      "metadata": {
        "id": "b963c88e"
      },
      "source": [
        "**4. WAP to enter a character from user and check if it is vowel or consonant**"
      ],
      "id": "b963c88e"
    },
    {
      "cell_type": "code",
      "execution_count": null,
      "metadata": {
        "id": "91365da7",
        "outputId": "4c79a3a9-30cd-48ea-89f1-46bd358a3a04",
        "colab": {
          "base_uri": "https://localhost:8080/"
        }
      },
      "outputs": [
        {
          "output_type": "stream",
          "name": "stdout",
          "text": [
            "Enter a char: e\n",
            "Vowel\n"
          ]
        }
      ],
      "source": [
        "n = input(\"Enter a char: \")\n",
        "\n",
        "if n == 'a' or n=='A':\n",
        "    print(\"Vowel\")\n",
        "elif n == 'e' or n=='E':\n",
        "    print(\"Vowel\")\n",
        "elif n == 'i' or n=='I':\n",
        "    print(\"Vowel\")\n",
        "elif n == 'o'  or n=='O':\n",
        "    print(\"Vowel\")\n",
        "elif n == 'u'  or n=='U':\n",
        "    print(\"Vowel\")\n",
        "else:\n",
        "    print(\"Consonant\")"
      ],
      "id": "91365da7"
    },
    {
      "cell_type": "code",
      "execution_count": null,
      "metadata": {
        "id": "bf14bec7",
        "outputId": "8bda4b2f-0a22-40a7-cb23-b53e47019a7e",
        "colab": {
          "base_uri": "https://localhost:8080/"
        }
      },
      "outputs": [
        {
          "output_type": "stream",
          "name": "stdout",
          "text": [
            "Enter a Number: u\n",
            "Vowel\n"
          ]
        }
      ],
      "source": [
        "n = input(\"Enter a Number: \")\n",
        "\n",
        "if n == 'a' or n == 'e' or n == 'i' or n == 'o' or n == 'u':\n",
        "    print(\"Vowel\")\n",
        "else:\n",
        "    print(\"Consonant\")"
      ],
      "id": "bf14bec7"
    },
    {
      "cell_type": "markdown",
      "metadata": {
        "id": "60900d78"
      },
      "source": [
        "**5. WAP to take 2 values from user and print greater value.**"
      ],
      "id": "60900d78"
    },
    {
      "cell_type": "code",
      "execution_count": null,
      "metadata": {
        "id": "629a16ce",
        "outputId": "44cb2f05-63eb-4654-f7b2-76cd4fc60e8a",
        "colab": {
          "base_uri": "https://localhost:8080/"
        }
      },
      "outputs": [
        {
          "output_type": "stream",
          "name": "stdout",
          "text": [
            "Enter a value150\n",
            "Enter a value200\n",
            "Greater is 200\n"
          ]
        }
      ],
      "source": [
        "a = int(input(\"Enter a value\"))\n",
        "b = int(input(\"Enter a value\"))\n",
        "\n",
        "if a > b:\n",
        "    print(\"Greater is\", a)\n",
        "elif a == b:\n",
        "    print(\"The two numbers are Equal\")\n",
        "else:\n",
        "    print(\"Greater is\", b)"
      ],
      "id": "629a16ce"
    },
    {
      "cell_type": "markdown",
      "metadata": {
        "id": "3ddc6a6e"
      },
      "source": [
        "**6. WAP to enter a number from user and print its absolute value.**\n",
        "\n",
        "**7. WAP to enter a year from user and check if it is leap year of not.**\n",
        "\n",
        "**8. WAP to enter the age of 3 person and print oldest and yougest among them.**"
      ],
      "id": "3ddc6a6e"
    },
    {
      "cell_type": "code",
      "source": [
        "n = int(input(\"Please Enter your Number \"))\n",
        "if n >=0:\n",
        "  print(n)\n",
        "else :\n",
        "  print(n*-1)"
      ],
      "metadata": {
        "colab": {
          "base_uri": "https://localhost:8080/"
        },
        "id": "3FU8h7jopBKz",
        "outputId": "c6105fd2-649f-43aa-e08c-f1fdc6c11159"
      },
      "id": "3FU8h7jopBKz",
      "execution_count": null,
      "outputs": [
        {
          "output_type": "stream",
          "name": "stdout",
          "text": [
            "Please Enter your Number 5\n",
            "5\n"
          ]
        }
      ]
    },
    {
      "cell_type": "code",
      "execution_count": null,
      "metadata": {
        "id": "E6aJtWfW1yIz"
      },
      "outputs": [],
      "source": [
        "abs(-5) = 5\n",
        "abs(5) = 5\n",
        "\n",
        "n * -1 ="
      ],
      "id": "E6aJtWfW1yIz"
    },
    {
      "cell_type": "code",
      "execution_count": null,
      "metadata": {
        "id": "To1P7MsX1yCT"
      },
      "outputs": [],
      "source": [],
      "id": "To1P7MsX1yCT"
    },
    {
      "cell_type": "code",
      "execution_count": null,
      "metadata": {
        "id": "YIZtFiUK06Ka"
      },
      "outputs": [],
      "source": [
        "\n",
        "# divided by 100 means century year (ending with 00)\n",
        "# century year divided by 400 is leap year\n",
        "if (y%400==0) and (y % 100 ==0)\n",
        "2000\n",
        "\n",
        "# not divided by 100 means not a century year\n",
        "# year divided by 4 is a leap year\n",
        "elif (y%4 ==0 ) and (y%100 !=0)\n"
      ],
      "id": "YIZtFiUK06Ka"
    },
    {
      "cell_type": "code",
      "source": [
        "y = int(input(\"Please Enter a year \"))\n",
        "if (y%400==0) and (y % 100 ==0):\n",
        "  print(\"Leap Year\")\n",
        "elif (y%4 ==0 ) and (y%100 !=0) :\n",
        "  print(\"Leap Year\")\n",
        "else :\n",
        "  print(\"Normal Year\")"
      ],
      "metadata": {
        "colab": {
          "base_uri": "https://localhost:8080/"
        },
        "id": "zUX2Hww8p-uf",
        "outputId": "de379534-6a47-418e-9aae-77d76588e67b"
      },
      "id": "zUX2Hww8p-uf",
      "execution_count": null,
      "outputs": [
        {
          "output_type": "stream",
          "name": "stdout",
          "text": [
            "Please Enter a year 2100\n",
            "Normal Year\n"
          ]
        }
      ]
    },
    {
      "cell_type": "code",
      "execution_count": null,
      "metadata": {
        "id": "bc522994"
      },
      "outputs": [],
      "source": [
        "-2 -1 0 1 2\n",
        "\n",
        "| -2 |   ->  2"
      ],
      "id": "bc522994"
    },
    {
      "cell_type": "code",
      "source": [
        "a = int(input(\"Please Enter a age \"))\n",
        "b = int(input(\"Please Enter b age \"))\n",
        "c = int(input(\"Please Enter c age \"))\n",
        "\n",
        "if a > b and a > c:\n",
        "  print(\"A is the oldest\")\n",
        "elif b > a and b >c :\n",
        "  print(\"B is the oldest\")\n",
        "else:\n",
        "  print(\"C is the oldest\")\n",
        "\n",
        "\n",
        "if a < b and a < c:\n",
        "  print(\"A is the youngest\")\n",
        "elif b < a and b <c :\n",
        "  print(\"B is the youngest\")\n",
        "else:\n",
        "  print(\"C is the youngest\")\n",
        "\n"
      ],
      "metadata": {
        "colab": {
          "base_uri": "https://localhost:8080/"
        },
        "id": "BHPZLmfDqYZj",
        "outputId": "f60bc5d9-fc0b-4ba7-a264-7247cc453e35"
      },
      "id": "BHPZLmfDqYZj",
      "execution_count": null,
      "outputs": [
        {
          "output_type": "stream",
          "name": "stdout",
          "text": [
            "Please Enter a age 10\n",
            "Please Enter a age 20\n",
            "Please Enter a age 30\n",
            "C is the oldest\n",
            "A is the youngest\n"
          ]
        }
      ]
    },
    {
      "cell_type": "code",
      "source": [
        "name = input(\"Please enter your name:\")"
      ],
      "metadata": {
        "colab": {
          "base_uri": "https://localhost:8080/"
        },
        "id": "XX0bB4j_wcmm",
        "outputId": "a078c50b-1cd0-44fd-a17d-b15dcae2a78f"
      },
      "id": "XX0bB4j_wcmm",
      "execution_count": null,
      "outputs": [
        {
          "name": "stdout",
          "output_type": "stream",
          "text": [
            "Please enter your name:Mohamed\n"
          ]
        }
      ]
    },
    {
      "cell_type": "code",
      "source": [
        "print(\"Hello\",name)"
      ],
      "metadata": {
        "colab": {
          "base_uri": "https://localhost:8080/"
        },
        "id": "Nv9VlidbwvDn",
        "outputId": "3942edb0-7ca7-4a20-87fe-db40f06fa131"
      },
      "id": "Nv9VlidbwvDn",
      "execution_count": null,
      "outputs": [
        {
          "output_type": "stream",
          "name": "stdout",
          "text": [
            "Hello Mohamed\n"
          ]
        }
      ]
    },
    {
      "cell_type": "code",
      "source": [
        "a = 10\n",
        "import sys\n",
        "sys.getsizeof(a)"
      ],
      "metadata": {
        "colab": {
          "base_uri": "https://localhost:8080/"
        },
        "id": "JzlTzhKsChOb",
        "outputId": "f1b1862a-5648-4a51-8524-3560914761a0"
      },
      "id": "JzlTzhKsChOb",
      "execution_count": null,
      "outputs": [
        {
          "output_type": "execute_result",
          "data": {
            "text/plain": [
              "28"
            ]
          },
          "metadata": {},
          "execution_count": 58
        }
      ]
    }
  ],
  "metadata": {
    "colab": {
      "provenance": []
    },
    "kernelspec": {
      "display_name": "Python 3",
      "language": "python",
      "name": "python3"
    },
    "language_info": {
      "codemirror_mode": {
        "name": "ipython",
        "version": 3
      },
      "file_extension": ".py",
      "mimetype": "text/x-python",
      "name": "python",
      "nbconvert_exporter": "python",
      "pygments_lexer": "ipython3",
      "version": "3.8.10"
    }
  },
  "nbformat": 4,
  "nbformat_minor": 5
}